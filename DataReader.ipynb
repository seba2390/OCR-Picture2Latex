{
 "cells": [
  {
   "cell_type": "code",
   "execution_count": 1,
   "outputs": [],
   "source": [
    "from typing import Union, List, Tuple\n",
    "import subprocess\n",
    "import os.path\n",
    "import re\n",
    "\n",
    "from tqdm import tqdm\n",
    "import matplotlib.pyplot as plt\n",
    "import numpy as np"
   ],
   "metadata": {
    "collapsed": false,
    "pycharm": {
     "name": "#%%\n"
    }
   }
  },
  {
   "cell_type": "code",
   "execution_count": 2,
   "outputs": [],
   "source": [
    "def is_valid_latex_math(expr: str) -> bool:\n",
    "    \"\"\"Check whether a given string is a valid LaTeX math expression.\n",
    "\n",
    "        N.B. Notice 'amsmath' is included as it is also used\n",
    "        when saving .png pictures w. matplotlib\n",
    "    Args:\n",
    "        expr: A string representing a LaTeX math expression.\n",
    "\n",
    "    Returns:\n",
    "        A boolean indicating whether the expression is valid.\n",
    "\n",
    "    Raises:\n",
    "        None.\n",
    "\n",
    "    Example:\n",
    "        >>> expr = r'\\frac{1}{2} + \\sqrt{3}'\n",
    "        >>> is_valid_latex_math(expr)\n",
    "        True\n",
    "    \"\"\"\n",
    "    try:\n",
    "        # Create a LaTeX document with the expression inside a math environment\n",
    "        input_str = f'\\\\documentclass{{article}}\\\\usepackage{{amsmath}}\\\\begin{{document}}$ {expr} $\\\\end{{document}}'\n",
    "        # Compile the LaTeX document using pdflatex with batchmode and halt-on-error options\n",
    "        subprocess.check_output(['pdflatex', '-halt-on-error', '-interaction=batchmode'], input=input_str.encode(), stderr=subprocess.STDOUT)\n",
    "        # If there is no error, return True\n",
    "        return True\n",
    "    except subprocess.CalledProcessError as e:\n",
    "        # If there is an error, return False\n",
    "        return False"
   ],
   "metadata": {
    "collapsed": false,
    "pycharm": {
     "name": "#%%\n"
    }
   }
  },
  {
   "cell_type": "code",
   "execution_count": 3,
   "outputs": [],
   "source": [
    "def filter_formulas(in_filename: str, nr_equations: int, seed: int = 1) -> List[str]:\n",
    "    \"\"\"\n",
    "    Reads a file containing LaTeX formulas from 'in_filename' and removes all\n",
    "    occurrences of the '\\label{...}' substring from each formula. Each formula is\n",
    "    separated by two newline characters.\n",
    "\n",
    "    Parameters:\n",
    "        in_filename : str\n",
    "            The name of the input file containing LaTeX formulas.\n",
    "        nr_equations : int\n",
    "            The number of equations to choose from the input file.\n",
    "\n",
    "    Returns:\n",
    "        List[str] or None:\n",
    "            The function returns a list of the filtered formulas if successful.\n",
    "            Returns None if there is an error.\n",
    "\n",
    "    Raises:\n",
    "        FileNotFoundError:\n",
    "            If the input file does not exist.\n",
    "        IOError:\n",
    "            If the input file cannot be opened for reading.\n",
    "        Exception:\n",
    "            If the specified number of equations to choose is greater than the number of available equations in the input file.\n",
    "    \"\"\"\n",
    "\n",
    "    # Setting seed for numpy RNG\n",
    "    np.random.seed(seed)\n",
    "\n",
    "    # Check if the input file exists\n",
    "    if not os.path.isfile(in_filename):\n",
    "        raise FileNotFoundError(f\"File not found: {in_filename}\")\n",
    "\n",
    "    # Importing initial formulas\n",
    "    with open(in_filename, 'r', encoding='ISO-8859-1') as f:\n",
    "        formulas = [line.strip() for line in f.readlines()]\n",
    "    print(formulas[100])\n",
    "\n",
    "    # Check if the number of equations to choose is greater than the number of available equations\n",
    "    if nr_equations > len(formulas):\n",
    "        raise Exception(f'{nr_equations} equations requested, but only {len(formulas)} available in file: {in_filename}')\n",
    "    else:\n",
    "        # Choose a random sample of equations without replacement\n",
    "        formulas = np.random.permutation(formulas).tolist()\n",
    "\n",
    "    # Define a regular expression pattern to match \\label{...}, % and $ substrings\n",
    "    pattern = re.compile(r'(\\\\label\\{.*?\\}|%|\\$)')\n",
    "\n",
    "    # Remove the \\label{...}, % and $ substring from each string in the 'formulas' list\n",
    "    first_filtering = [pattern.sub('', s) for s in formulas]\n",
    "\n",
    "    # Remove strings that local latex engine doesn't recognize as genuine latex math\n",
    "    final_filtering = []\n",
    "    for idx in tqdm(range(int(len(first_filtering[:nr_equations])*1.1))):\n",
    "        if len(final_filtering) < nr_equations:\n",
    "            if is_valid_latex_math(first_filtering[idx]):\n",
    "                final_filtering.append(first_filtering[idx])\n",
    "        else:\n",
    "            break\n",
    "\n",
    "    # Return the final filtered list of formulas\n",
    "    return final_filtering\n"
   ],
   "metadata": {
    "collapsed": false,
    "pycharm": {
     "name": "#%%\n"
    }
   }
  },
  {
   "cell_type": "code",
   "execution_count": 4,
   "outputs": [],
   "source": [
    "def save_filter_formulas(filtered_formulas: List[str], out_filename: str) -> None:\n",
    "    \"\"\"\n",
    "    Saves the filtered formulas to a file.\n",
    "\n",
    "    Args:\n",
    "        filtered_formulas: A list of filtered formulas to be saved.\n",
    "        out_filename: The name of the output file.\n",
    "\n",
    "    Returns:\n",
    "        None\n",
    "    \"\"\"\n",
    "    # Open the output file and write the filtered formulas to it\n",
    "    with open(out_filename, 'w') as f:\n",
    "        for line in filtered_formulas:\n",
    "            # Write each formula to a new line and add a blank line after it\n",
    "            f.write(line+'\\n')\n"
   ],
   "metadata": {
    "collapsed": false,
    "pycharm": {
     "name": "#%%\n"
    }
   }
  },
  {
   "cell_type": "code",
   "execution_count": 5,
   "outputs": [],
   "source": [
    "def to_inline_expr(math_expr: str) -> str:\n",
    "    \"\"\"\n",
    "    Convert a LaTeX math expression to an inline math expression.\n",
    "\n",
    "    Parameters\n",
    "    ----------\n",
    "    math_expr : str\n",
    "        The LaTeX math expression to convert.\n",
    "\n",
    "    Returns\n",
    "    -------\n",
    "    str\n",
    "        The converted inline math expression.\n",
    "    \"\"\"\n",
    "    return '$' + math_expr + '$'"
   ],
   "metadata": {
    "collapsed": false,
    "pycharm": {
     "name": "#%%\n"
    }
   }
  },
  {
   "cell_type": "code",
   "execution_count": 6,
   "outputs": [],
   "source": [
    "def latex_to_image(math_expr: str, file_name: str, file_format: str = 'png',\n",
    "                   picture_dims: Union[str,Tuple[float,float]] = 'A4',\n",
    "                   resolution: Union[float, int] = 300, transparent: bool = True) -> None:\n",
    "    \"\"\"\n",
    "    Converts a LaTeX math expression to an image in the specified file format and saves it with the specified file name.\n",
    "\n",
    "    Args:\n",
    "        math_expr (str): The LaTeX math expression to be converted to an image.\n",
    "        file_name (str): The name of the file to be saved.\n",
    "        file_format (str, optional): The format of the output file. Defaults to 'png'.\n",
    "        picture_dims (Union[str,Tuple[float,float]], optional): The dimensions of the output picture. Can be either a\n",
    "                                                               string specifying one of the standard dimensions (Letter,\n",
    "                                                               Legal, A4, A5) or a tuple of the form (width, height).\n",
    "                                                               Defaults to 'A4'.\n",
    "        resolution (Union[float, int], optional): The resolution of the output image in DPI (dots per inch). Defaults to 300.\n",
    "        transparent (bool, optional): Whether to save the image with a transparent background. Defaults to True.\n",
    "\n",
    "    Raises:\n",
    "        ValueError: If picture_dims is not one of the standard dimensions (Letter, Legal, A4, A5).\n",
    "    \"\"\"\n",
    "\n",
    "    # Standard square dimensions of output picture\n",
    "    std_dims = {\"Letter\":(8.5,14.0), \"Legal\":(8.5,14.0),\n",
    "                \"A4\":(8.3,11.7), \"A5\":(5.8, 8.3)}\n",
    "\n",
    "    if picture_dims in list(std_dims.keys()):\n",
    "        DIMS = std_dims[picture_dims]\n",
    "    else:\n",
    "        raise ValueError(f\"{picture_dims} not known - should be in: {list(std_dims.keys())}.\")\n",
    "\n",
    "    # Set the LaTeX font\n",
    "    plt.rcParams['text.usetex'] = True\n",
    "    plt.rcParams['text.latex.preamble'] = r'\\usepackage{amsmath}'\n",
    "\n",
    "    # Define the math expression as a string\n",
    "    expr = to_inline_expr(math_expr=math_expr)\n",
    "\n",
    "    # Add $ symbols to format the string as an inline math expression\n",
    "    inline_expr = to_inline_expr(math_expr=math_expr)\n",
    "\n",
    "    # Create a plot with the expression\n",
    "    fig, ax = plt.subplots(figsize=DIMS)\n",
    "    ax.text(0.5, 0.5, inline_expr, size=20, ha='center')\n",
    "\n",
    "    # Remove the plot axes\n",
    "    ax.set_axis_off()\n",
    "\n",
    "    # Save the plot as a PNG with a transparent background\n",
    "    plt.savefig(fname=file_name+\".\"+file_format, format=file_format, transparent=transparent, bbox_inches='tight', pad_inches=0.0, dpi=resolution)\n",
    "    plt.close(fig)\n"
   ],
   "metadata": {
    "collapsed": false,
    "pycharm": {
     "name": "#%%\n"
    }
   }
  },
  {
   "cell_type": "code",
   "execution_count": 202,
   "outputs": [
    {
     "name": "stderr",
     "output_type": "stream",
     "text": [
      " 93%|█████████▎| 510/550 [01:58<00:09,  4.29it/s]"
     ]
    },
    {
     "name": "stdout",
     "output_type": "stream",
     "text": [
      "Now has:  500  formulas\n"
     ]
    },
    {
     "name": "stderr",
     "output_type": "stream",
     "text": [
      "\n"
     ]
    }
   ],
   "source": [
    "# Filtering equations for unwanted tokens and illegitimate math expressions\n",
    "original_filename = 'Data/im2latex_formulas.lst'\n",
    "new_filename = 'Data/im2latex_formulas.txt'\n",
    "filtered_formulas = filter_formulas(in_filename=original_filename,\n",
    "                                    nr_equations=500)\n",
    "print(\"Now has: \", len(filtered_formulas), \" formulas\")"
   ],
   "metadata": {
    "collapsed": false,
    "pycharm": {
     "name": "#%%\n"
    }
   }
  },
  {
   "cell_type": "code",
   "execution_count": 203,
   "outputs": [
    {
     "name": "stderr",
     "output_type": "stream",
     "text": [
      "100%|██████████| 500/500 [07:55<00:00,  1.05it/s]\n"
     ]
    }
   ],
   "source": [
    "# Rendering equations to A4 sized transparent .png files and saving locally\n",
    "for line_nr in tqdm(range(len(filtered_formulas))):\n",
    "    location = 'Data/im2latex_formulas_pictures/'\n",
    "    filename = f'eq_{line_nr}'\n",
    "    latex_to_image(math_expr=filtered_formulas[line_nr],file_name=location+filename)"
   ],
   "metadata": {
    "collapsed": false,
    "pycharm": {
     "name": "#%%\n"
    }
   }
  },
  {
   "cell_type": "code",
   "execution_count": 206,
   "outputs": [],
   "source": [
    "# Writing the chosen equations to a file locally (same order as pictures)\n",
    "save_filter_formulas(filtered_formulas=filtered_formulas,out_filename=new_filename)"
   ],
   "metadata": {
    "collapsed": false,
    "pycharm": {
     "name": "#%%\n"
    }
   }
  },
  {
   "cell_type": "code",
   "execution_count": 229,
   "outputs": [
    {
     "name": "stdout",
     "output_type": "stream",
     "text": [
      "& + \\left. \\frac{1}{T_m} \\sumTs \\tilde{f}_{m, s} \\eta_{m, st} \\iota_{mt} +\n"
     ]
    },
    {
     "name": "stderr",
     "output_type": "stream",
     "text": [
      "100%|██████████| 110/110 [00:14<00:00,  7.63it/s]"
     ]
    },
    {
     "name": "stdout",
     "output_type": "stream",
     "text": [
      "Now has:  27  formulas\n"
     ]
    },
    {
     "name": "stderr",
     "output_type": "stream",
     "text": [
      "\n"
     ]
    }
   ],
   "source": [
    "# Filtering equations for unwanted tokens and illegitimate math expressions\n",
    "original_filename = 'equations.lst'\n",
    "new_filename = 'filtered_equations.txt'\n",
    "filtered_formulas = filter_formulas(in_filename=original_filename,\n",
    "                                    nr_equations=100)\n",
    "print(\"Now has: \", len(filtered_formulas), \" formulas\")"
   ],
   "metadata": {
    "collapsed": false,
    "pycharm": {
     "name": "#%%\n"
    }
   }
  },
  {
   "cell_type": "code",
   "execution_count": 225,
   "outputs": [
    {
     "data": {
      "text/plain": "['',\n '\\\\\\\\',\n '',\n '\\\\\\\\',\n '\\\\Omega_Z.I \\\\leq',\n 'd \\\\hat{\\\\langle P\\\\rangle}/dR_2 \\\\\\\\',\n 'm_{kj}^{z_l} = \\\\vec{\\\\Phi}(\\\\alpha_{kj}) \\\\bigg[m_{kj}^{a_l} + \\\\sqrt{v_{kj}^{a_l}}\\\\gamma_{kj}\\\\bigg]',\n '',\n '',\n 'h_{t}(y_t \\\\mid z_{t})',\n 'Z = \\\\sum_{c =1}^K \\\\left(\\\\frac{n_{-i,c} + \\\\alpha/K}{n - 1 + \\\\alpha} \\\\times f_{\\\\bf x}({\\\\bf x}_i | \\\\phi_c)\\\\right).',\n '',\n '         \\\\boldsymbol{w}_{t+1}-\\\\boldsymbol{w}_t=-\\\\eta \\\\left(\\\\nabla L(\\\\boldsymbol{w}_t)-\\\\frac{\\\\boldsymbol{z}_t^{(1)} \\\\boldsymbol{V_{k}^{pub}}+\\\\boldsymbol{z}_t^{(2)}}{n}\\\\right)',\n '\\\\frac{1}{T_2} \\\\sum_{t = j + T_1 + 1}^{T}',\n '     ',\n '',\n 'EC_i=e_i,',\n '',\n '',\n '',\n '',\n '',\n '',\n '           = 0.',\n '',\n \"+\\\\widetilde{\\\\Theta}_{k'}^{-}\",\n '   :\\\\: g,h \\\\in A(\\\\mu, \\\\nu; \\\\varrho) \\\\Bigg\\\\},']"
     },
     "execution_count": 225,
     "metadata": {},
     "output_type": "execute_result"
    }
   ],
   "source": [
    "filtered_formulas"
   ],
   "metadata": {
    "collapsed": false,
    "pycharm": {
     "name": "#%%\n"
    }
   }
  },
  {
   "cell_type": "code",
   "execution_count": 214,
   "outputs": [
    {
     "name": "stderr",
     "output_type": "stream",
     "text": [
      "  0%|          | 0/27 [00:00<?, ?it/s]\n"
     ]
    },
    {
     "ename": "RuntimeError",
     "evalue": "latex was not able to process the following string:\nb'$$'\n\nHere is the full command invocation and its output:\n\nlatex -interaction=nonstopmode --halt-on-error ../1bcf7fb91a305bc2532e50e653b39cab.tex\n\nThis is pdfTeX, Version 3.141592653-2.6-1.40.24 (TeX Live 2022/Homebrew) (preloaded format=latex)\n restricted \\write18 enabled.\nentering extended mode\n(../1bcf7fb91a305bc2532e50e653b39cab.tex\nLaTeX2e <2021-11-15> patch level 1\nL3 programming layer <2022-02-24>\n(/opt/homebrew/Cellar/texlive/20220321_3/share/texmf-dist/tex/latex/base/articl\ne.cls\nDocument Class: article 2021/10/04 v1.4n Standard LaTeX document class\n\n(/opt/homebrew/Cellar/texlive/20220321_3/share/texmf-dist/tex/latex/base/size10\n.clo))\n(/opt/homebrew/Cellar/texlive/20220321_3/share/texmf-dist/tex/latex/type1cm/typ\ne1cm.sty)\n(/opt/homebrew/Cellar/texlive/20220321_3/share/texmf-dist/tex/latex/cm-super/ty\npe1ec.sty\n(/opt/homebrew/Cellar/texlive/20220321_3/share/texmf-dist/tex/latex/base/t1cmr.\nfd))\n(/opt/homebrew/Cellar/texlive/20220321_3/share/texmf-dist/tex/latex/base/inpute\nnc.sty)\n(/opt/homebrew/Cellar/texlive/20220321_3/share/texmf-dist/tex/latex/geometry/ge\nometry.sty\n(/opt/homebrew/Cellar/texlive/20220321_3/share/texmf-dist/tex/latex/graphics/ke\nyval.sty)\n(/opt/homebrew/Cellar/texlive/20220321_3/share/texmf-dist/tex/generic/iftex/ifv\ntex.sty\n(/opt/homebrew/Cellar/texlive/20220321_3/share/texmf-dist/tex/generic/iftex/ift\nex.sty)))\n(/opt/homebrew/Cellar/texlive/20220321_3/share/texmf-dist/tex/latex/amsmath/ams\nmath.sty\nFor additional information on amsmath, use the `?' option.\n\n(/opt/homebrew/Cellar/texlive/20220321_3/share/texmf-dist/tex/latex/amsmath/ams\ntext.sty\n(/opt/homebrew/Cellar/texlive/20220321_3/share/texmf-dist/tex/latex/amsmath/ams\ngen.sty))\n(/opt/homebrew/Cellar/texlive/20220321_3/share/texmf-dist/tex/latex/amsmath/ams\nbsy.sty)\n(/opt/homebrew/Cellar/texlive/20220321_3/share/texmf-dist/tex/latex/amsmath/ams\nopn.sty))\n(/opt/homebrew/Cellar/texlive/20220321_3/share/texmf-dist/tex/latex/underscore/\nunderscore.sty)\n(/opt/homebrew/Cellar/texlive/20220321_3/share/texmf-dist/tex/latex/base/textco\nmp.sty)\n(/opt/homebrew/Cellar/texlive/20220321_3/share/texmf-dist/tex/latex/l3backend/l\n3backend-dvips.def)\nNo file 1bcf7fb91a305bc2532e50e653b39cab.aux.\n*geometry* driver: auto-detecting\n*geometry* detected driver: dvips\n\nLaTeX Font Warning: Font shape `OMX/cmex/m/n' in size <20> not available\n(Font)              size <20.74> substituted on input line 29.\n\n\nLaTeX Font Warning: Font shape `OMX/cmex/m/n' in size <13.99994> not available\n(Font)              size <14.4> substituted on input line 29.\n\n! Extra }, or forgotten $.\nl.29 {\\sffamily $$}\n                   %\nNo pages of output.\nTranscript written on 1bcf7fb91a305bc2532e50e653b39cab.log.\n\n\n",
     "output_type": "error",
     "traceback": [
      "\u001B[0;31m---------------------------------------------------------------------------\u001B[0m",
      "\u001B[0;31mRuntimeError\u001B[0m                              Traceback (most recent call last)",
      "Cell \u001B[0;32mIn [214], line 5\u001B[0m\n\u001B[1;32m      3\u001B[0m location \u001B[38;5;241m=\u001B[39m \u001B[38;5;124m'\u001B[39m\u001B[38;5;124mPictures/\u001B[39m\u001B[38;5;124m'\u001B[39m\n\u001B[1;32m      4\u001B[0m filename \u001B[38;5;241m=\u001B[39m \u001B[38;5;124mf\u001B[39m\u001B[38;5;124m'\u001B[39m\u001B[38;5;124meq_\u001B[39m\u001B[38;5;132;01m{\u001B[39;00mline_nr\u001B[38;5;132;01m}\u001B[39;00m\u001B[38;5;124m'\u001B[39m\n\u001B[0;32m----> 5\u001B[0m \u001B[43mlatex_to_image\u001B[49m\u001B[43m(\u001B[49m\u001B[43mmath_expr\u001B[49m\u001B[38;5;241;43m=\u001B[39;49m\u001B[43mfiltered_formulas\u001B[49m\u001B[43m[\u001B[49m\u001B[43mline_nr\u001B[49m\u001B[43m]\u001B[49m\u001B[43m,\u001B[49m\u001B[43mfile_name\u001B[49m\u001B[38;5;241;43m=\u001B[39;49m\u001B[43mlocation\u001B[49m\u001B[38;5;241;43m+\u001B[39;49m\u001B[43mfilename\u001B[49m\u001B[43m)\u001B[49m\n",
      "Cell \u001B[0;32mIn [212], line 49\u001B[0m, in \u001B[0;36mlatex_to_image\u001B[0;34m(math_expr, file_name, file_format, picture_dims, resolution, transparent)\u001B[0m\n\u001B[1;32m     46\u001B[0m ax\u001B[38;5;241m.\u001B[39mset_axis_off()\n\u001B[1;32m     48\u001B[0m \u001B[38;5;66;03m# Save the plot as a PNG with a transparent background\u001B[39;00m\n\u001B[0;32m---> 49\u001B[0m \u001B[43mplt\u001B[49m\u001B[38;5;241;43m.\u001B[39;49m\u001B[43msavefig\u001B[49m\u001B[43m(\u001B[49m\u001B[43mfname\u001B[49m\u001B[38;5;241;43m=\u001B[39;49m\u001B[43mfile_name\u001B[49m\u001B[38;5;241;43m+\u001B[39;49m\u001B[38;5;124;43m\"\u001B[39;49m\u001B[38;5;124;43m.\u001B[39;49m\u001B[38;5;124;43m\"\u001B[39;49m\u001B[38;5;241;43m+\u001B[39;49m\u001B[43mfile_format\u001B[49m\u001B[43m,\u001B[49m\u001B[43m \u001B[49m\u001B[38;5;28;43mformat\u001B[39;49m\u001B[38;5;241;43m=\u001B[39;49m\u001B[43mfile_format\u001B[49m\u001B[43m,\u001B[49m\u001B[43m \u001B[49m\u001B[43mtransparent\u001B[49m\u001B[38;5;241;43m=\u001B[39;49m\u001B[43mtransparent\u001B[49m\u001B[43m,\u001B[49m\u001B[43m \u001B[49m\u001B[43mbbox_inches\u001B[49m\u001B[38;5;241;43m=\u001B[39;49m\u001B[38;5;124;43m'\u001B[39;49m\u001B[38;5;124;43mtight\u001B[39;49m\u001B[38;5;124;43m'\u001B[39;49m\u001B[43m,\u001B[49m\u001B[43m \u001B[49m\u001B[43mpad_inches\u001B[49m\u001B[38;5;241;43m=\u001B[39;49m\u001B[38;5;241;43m0.0\u001B[39;49m\u001B[43m,\u001B[49m\u001B[43m \u001B[49m\u001B[43mdpi\u001B[49m\u001B[38;5;241;43m=\u001B[39;49m\u001B[43mresolution\u001B[49m\u001B[43m)\u001B[49m\n\u001B[1;32m     50\u001B[0m plt\u001B[38;5;241m.\u001B[39mclose(fig)\n",
      "File \u001B[0;32m~/miniforge3/lib/python3.10/site-packages/matplotlib/pyplot.py:954\u001B[0m, in \u001B[0;36msavefig\u001B[0;34m(*args, **kwargs)\u001B[0m\n\u001B[1;32m    951\u001B[0m \u001B[38;5;129m@_copy_docstring_and_deprecators\u001B[39m(Figure\u001B[38;5;241m.\u001B[39msavefig)\n\u001B[1;32m    952\u001B[0m \u001B[38;5;28;01mdef\u001B[39;00m \u001B[38;5;21msavefig\u001B[39m(\u001B[38;5;241m*\u001B[39margs, \u001B[38;5;241m*\u001B[39m\u001B[38;5;241m*\u001B[39mkwargs):\n\u001B[1;32m    953\u001B[0m     fig \u001B[38;5;241m=\u001B[39m gcf()\n\u001B[0;32m--> 954\u001B[0m     res \u001B[38;5;241m=\u001B[39m \u001B[43mfig\u001B[49m\u001B[38;5;241;43m.\u001B[39;49m\u001B[43msavefig\u001B[49m\u001B[43m(\u001B[49m\u001B[38;5;241;43m*\u001B[39;49m\u001B[43margs\u001B[49m\u001B[43m,\u001B[49m\u001B[43m \u001B[49m\u001B[38;5;241;43m*\u001B[39;49m\u001B[38;5;241;43m*\u001B[39;49m\u001B[43mkwargs\u001B[49m\u001B[43m)\u001B[49m\n\u001B[1;32m    955\u001B[0m     fig\u001B[38;5;241m.\u001B[39mcanvas\u001B[38;5;241m.\u001B[39mdraw_idle()  \u001B[38;5;66;03m# Need this if 'transparent=True', to reset colors.\u001B[39;00m\n\u001B[1;32m    956\u001B[0m     \u001B[38;5;28;01mreturn\u001B[39;00m res\n",
      "File \u001B[0;32m~/miniforge3/lib/python3.10/site-packages/matplotlib/figure.py:3274\u001B[0m, in \u001B[0;36mFigure.savefig\u001B[0;34m(self, fname, transparent, **kwargs)\u001B[0m\n\u001B[1;32m   3270\u001B[0m     \u001B[38;5;28;01mfor\u001B[39;00m ax \u001B[38;5;129;01min\u001B[39;00m \u001B[38;5;28mself\u001B[39m\u001B[38;5;241m.\u001B[39maxes:\n\u001B[1;32m   3271\u001B[0m         stack\u001B[38;5;241m.\u001B[39menter_context(\n\u001B[1;32m   3272\u001B[0m             ax\u001B[38;5;241m.\u001B[39mpatch\u001B[38;5;241m.\u001B[39m_cm_set(facecolor\u001B[38;5;241m=\u001B[39m\u001B[38;5;124m'\u001B[39m\u001B[38;5;124mnone\u001B[39m\u001B[38;5;124m'\u001B[39m, edgecolor\u001B[38;5;241m=\u001B[39m\u001B[38;5;124m'\u001B[39m\u001B[38;5;124mnone\u001B[39m\u001B[38;5;124m'\u001B[39m))\n\u001B[0;32m-> 3274\u001B[0m \u001B[38;5;28;43mself\u001B[39;49m\u001B[38;5;241;43m.\u001B[39;49m\u001B[43mcanvas\u001B[49m\u001B[38;5;241;43m.\u001B[39;49m\u001B[43mprint_figure\u001B[49m\u001B[43m(\u001B[49m\u001B[43mfname\u001B[49m\u001B[43m,\u001B[49m\u001B[43m \u001B[49m\u001B[38;5;241;43m*\u001B[39;49m\u001B[38;5;241;43m*\u001B[39;49m\u001B[43mkwargs\u001B[49m\u001B[43m)\u001B[49m\n",
      "File \u001B[0;32m~/miniforge3/lib/python3.10/site-packages/matplotlib/backend_bases.py:2314\u001B[0m, in \u001B[0;36mFigureCanvasBase.print_figure\u001B[0;34m(self, filename, dpi, facecolor, edgecolor, orientation, format, bbox_inches, pad_inches, bbox_extra_artists, backend, **kwargs)\u001B[0m\n\u001B[1;32m   2308\u001B[0m     renderer \u001B[38;5;241m=\u001B[39m _get_renderer(\n\u001B[1;32m   2309\u001B[0m         \u001B[38;5;28mself\u001B[39m\u001B[38;5;241m.\u001B[39mfigure,\n\u001B[1;32m   2310\u001B[0m         functools\u001B[38;5;241m.\u001B[39mpartial(\n\u001B[1;32m   2311\u001B[0m             print_method, orientation\u001B[38;5;241m=\u001B[39morientation)\n\u001B[1;32m   2312\u001B[0m     )\n\u001B[1;32m   2313\u001B[0m     \u001B[38;5;28;01mwith\u001B[39;00m \u001B[38;5;28mgetattr\u001B[39m(renderer, \u001B[38;5;124m\"\u001B[39m\u001B[38;5;124m_draw_disabled\u001B[39m\u001B[38;5;124m\"\u001B[39m, nullcontext)():\n\u001B[0;32m-> 2314\u001B[0m         \u001B[38;5;28;43mself\u001B[39;49m\u001B[38;5;241;43m.\u001B[39;49m\u001B[43mfigure\u001B[49m\u001B[38;5;241;43m.\u001B[39;49m\u001B[43mdraw\u001B[49m\u001B[43m(\u001B[49m\u001B[43mrenderer\u001B[49m\u001B[43m)\u001B[49m\n\u001B[1;32m   2316\u001B[0m \u001B[38;5;28;01mif\u001B[39;00m bbox_inches:\n\u001B[1;32m   2317\u001B[0m     \u001B[38;5;28;01mif\u001B[39;00m bbox_inches \u001B[38;5;241m==\u001B[39m \u001B[38;5;124m\"\u001B[39m\u001B[38;5;124mtight\u001B[39m\u001B[38;5;124m\"\u001B[39m:\n",
      "File \u001B[0;32m~/miniforge3/lib/python3.10/site-packages/matplotlib/artist.py:74\u001B[0m, in \u001B[0;36m_finalize_rasterization.<locals>.draw_wrapper\u001B[0;34m(artist, renderer, *args, **kwargs)\u001B[0m\n\u001B[1;32m     72\u001B[0m \u001B[38;5;129m@wraps\u001B[39m(draw)\n\u001B[1;32m     73\u001B[0m \u001B[38;5;28;01mdef\u001B[39;00m \u001B[38;5;21mdraw_wrapper\u001B[39m(artist, renderer, \u001B[38;5;241m*\u001B[39margs, \u001B[38;5;241m*\u001B[39m\u001B[38;5;241m*\u001B[39mkwargs):\n\u001B[0;32m---> 74\u001B[0m     result \u001B[38;5;241m=\u001B[39m \u001B[43mdraw\u001B[49m\u001B[43m(\u001B[49m\u001B[43martist\u001B[49m\u001B[43m,\u001B[49m\u001B[43m \u001B[49m\u001B[43mrenderer\u001B[49m\u001B[43m,\u001B[49m\u001B[43m \u001B[49m\u001B[38;5;241;43m*\u001B[39;49m\u001B[43margs\u001B[49m\u001B[43m,\u001B[49m\u001B[43m \u001B[49m\u001B[38;5;241;43m*\u001B[39;49m\u001B[38;5;241;43m*\u001B[39;49m\u001B[43mkwargs\u001B[49m\u001B[43m)\u001B[49m\n\u001B[1;32m     75\u001B[0m     \u001B[38;5;28;01mif\u001B[39;00m renderer\u001B[38;5;241m.\u001B[39m_rasterizing:\n\u001B[1;32m     76\u001B[0m         renderer\u001B[38;5;241m.\u001B[39mstop_rasterizing()\n",
      "File \u001B[0;32m~/miniforge3/lib/python3.10/site-packages/matplotlib/artist.py:51\u001B[0m, in \u001B[0;36mallow_rasterization.<locals>.draw_wrapper\u001B[0;34m(artist, renderer)\u001B[0m\n\u001B[1;32m     48\u001B[0m     \u001B[38;5;28;01mif\u001B[39;00m artist\u001B[38;5;241m.\u001B[39mget_agg_filter() \u001B[38;5;129;01mis\u001B[39;00m \u001B[38;5;129;01mnot\u001B[39;00m \u001B[38;5;28;01mNone\u001B[39;00m:\n\u001B[1;32m     49\u001B[0m         renderer\u001B[38;5;241m.\u001B[39mstart_filter()\n\u001B[0;32m---> 51\u001B[0m     \u001B[38;5;28;01mreturn\u001B[39;00m \u001B[43mdraw\u001B[49m\u001B[43m(\u001B[49m\u001B[43martist\u001B[49m\u001B[43m,\u001B[49m\u001B[43m \u001B[49m\u001B[43mrenderer\u001B[49m\u001B[43m)\u001B[49m\n\u001B[1;32m     52\u001B[0m \u001B[38;5;28;01mfinally\u001B[39;00m:\n\u001B[1;32m     53\u001B[0m     \u001B[38;5;28;01mif\u001B[39;00m artist\u001B[38;5;241m.\u001B[39mget_agg_filter() \u001B[38;5;129;01mis\u001B[39;00m \u001B[38;5;129;01mnot\u001B[39;00m \u001B[38;5;28;01mNone\u001B[39;00m:\n",
      "File \u001B[0;32m~/miniforge3/lib/python3.10/site-packages/matplotlib/figure.py:3071\u001B[0m, in \u001B[0;36mFigure.draw\u001B[0;34m(self, renderer)\u001B[0m\n\u001B[1;32m   3068\u001B[0m         \u001B[38;5;66;03m# ValueError can occur when resizing a window.\u001B[39;00m\n\u001B[1;32m   3070\u001B[0m \u001B[38;5;28mself\u001B[39m\u001B[38;5;241m.\u001B[39mpatch\u001B[38;5;241m.\u001B[39mdraw(renderer)\n\u001B[0;32m-> 3071\u001B[0m \u001B[43mmimage\u001B[49m\u001B[38;5;241;43m.\u001B[39;49m\u001B[43m_draw_list_compositing_images\u001B[49m\u001B[43m(\u001B[49m\n\u001B[1;32m   3072\u001B[0m \u001B[43m    \u001B[49m\u001B[43mrenderer\u001B[49m\u001B[43m,\u001B[49m\u001B[43m \u001B[49m\u001B[38;5;28;43mself\u001B[39;49m\u001B[43m,\u001B[49m\u001B[43m \u001B[49m\u001B[43martists\u001B[49m\u001B[43m,\u001B[49m\u001B[43m \u001B[49m\u001B[38;5;28;43mself\u001B[39;49m\u001B[38;5;241;43m.\u001B[39;49m\u001B[43msuppressComposite\u001B[49m\u001B[43m)\u001B[49m\n\u001B[1;32m   3074\u001B[0m \u001B[38;5;28;01mfor\u001B[39;00m sfig \u001B[38;5;129;01min\u001B[39;00m \u001B[38;5;28mself\u001B[39m\u001B[38;5;241m.\u001B[39msubfigs:\n\u001B[1;32m   3075\u001B[0m     sfig\u001B[38;5;241m.\u001B[39mdraw(renderer)\n",
      "File \u001B[0;32m~/miniforge3/lib/python3.10/site-packages/matplotlib/image.py:131\u001B[0m, in \u001B[0;36m_draw_list_compositing_images\u001B[0;34m(renderer, parent, artists, suppress_composite)\u001B[0m\n\u001B[1;32m    129\u001B[0m \u001B[38;5;28;01mif\u001B[39;00m not_composite \u001B[38;5;129;01mor\u001B[39;00m \u001B[38;5;129;01mnot\u001B[39;00m has_images:\n\u001B[1;32m    130\u001B[0m     \u001B[38;5;28;01mfor\u001B[39;00m a \u001B[38;5;129;01min\u001B[39;00m artists:\n\u001B[0;32m--> 131\u001B[0m         \u001B[43ma\u001B[49m\u001B[38;5;241;43m.\u001B[39;49m\u001B[43mdraw\u001B[49m\u001B[43m(\u001B[49m\u001B[43mrenderer\u001B[49m\u001B[43m)\u001B[49m\n\u001B[1;32m    132\u001B[0m \u001B[38;5;28;01melse\u001B[39;00m:\n\u001B[1;32m    133\u001B[0m     \u001B[38;5;66;03m# Composite any adjacent images together\u001B[39;00m\n\u001B[1;32m    134\u001B[0m     image_group \u001B[38;5;241m=\u001B[39m []\n",
      "File \u001B[0;32m~/miniforge3/lib/python3.10/site-packages/matplotlib/artist.py:51\u001B[0m, in \u001B[0;36mallow_rasterization.<locals>.draw_wrapper\u001B[0;34m(artist, renderer)\u001B[0m\n\u001B[1;32m     48\u001B[0m     \u001B[38;5;28;01mif\u001B[39;00m artist\u001B[38;5;241m.\u001B[39mget_agg_filter() \u001B[38;5;129;01mis\u001B[39;00m \u001B[38;5;129;01mnot\u001B[39;00m \u001B[38;5;28;01mNone\u001B[39;00m:\n\u001B[1;32m     49\u001B[0m         renderer\u001B[38;5;241m.\u001B[39mstart_filter()\n\u001B[0;32m---> 51\u001B[0m     \u001B[38;5;28;01mreturn\u001B[39;00m \u001B[43mdraw\u001B[49m\u001B[43m(\u001B[49m\u001B[43martist\u001B[49m\u001B[43m,\u001B[49m\u001B[43m \u001B[49m\u001B[43mrenderer\u001B[49m\u001B[43m)\u001B[49m\n\u001B[1;32m     52\u001B[0m \u001B[38;5;28;01mfinally\u001B[39;00m:\n\u001B[1;32m     53\u001B[0m     \u001B[38;5;28;01mif\u001B[39;00m artist\u001B[38;5;241m.\u001B[39mget_agg_filter() \u001B[38;5;129;01mis\u001B[39;00m \u001B[38;5;129;01mnot\u001B[39;00m \u001B[38;5;28;01mNone\u001B[39;00m:\n",
      "File \u001B[0;32m~/miniforge3/lib/python3.10/site-packages/matplotlib/axes/_base.py:3107\u001B[0m, in \u001B[0;36m_AxesBase.draw\u001B[0;34m(self, renderer)\u001B[0m\n\u001B[1;32m   3104\u001B[0m         a\u001B[38;5;241m.\u001B[39mdraw(renderer)\n\u001B[1;32m   3105\u001B[0m     renderer\u001B[38;5;241m.\u001B[39mstop_rasterizing()\n\u001B[0;32m-> 3107\u001B[0m \u001B[43mmimage\u001B[49m\u001B[38;5;241;43m.\u001B[39;49m\u001B[43m_draw_list_compositing_images\u001B[49m\u001B[43m(\u001B[49m\n\u001B[1;32m   3108\u001B[0m \u001B[43m    \u001B[49m\u001B[43mrenderer\u001B[49m\u001B[43m,\u001B[49m\u001B[43m \u001B[49m\u001B[38;5;28;43mself\u001B[39;49m\u001B[43m,\u001B[49m\u001B[43m \u001B[49m\u001B[43martists\u001B[49m\u001B[43m,\u001B[49m\u001B[43m \u001B[49m\u001B[38;5;28;43mself\u001B[39;49m\u001B[38;5;241;43m.\u001B[39;49m\u001B[43mfigure\u001B[49m\u001B[38;5;241;43m.\u001B[39;49m\u001B[43msuppressComposite\u001B[49m\u001B[43m)\u001B[49m\n\u001B[1;32m   3110\u001B[0m renderer\u001B[38;5;241m.\u001B[39mclose_group(\u001B[38;5;124m'\u001B[39m\u001B[38;5;124maxes\u001B[39m\u001B[38;5;124m'\u001B[39m)\n\u001B[1;32m   3111\u001B[0m \u001B[38;5;28mself\u001B[39m\u001B[38;5;241m.\u001B[39mstale \u001B[38;5;241m=\u001B[39m \u001B[38;5;28;01mFalse\u001B[39;00m\n",
      "File \u001B[0;32m~/miniforge3/lib/python3.10/site-packages/matplotlib/image.py:131\u001B[0m, in \u001B[0;36m_draw_list_compositing_images\u001B[0;34m(renderer, parent, artists, suppress_composite)\u001B[0m\n\u001B[1;32m    129\u001B[0m \u001B[38;5;28;01mif\u001B[39;00m not_composite \u001B[38;5;129;01mor\u001B[39;00m \u001B[38;5;129;01mnot\u001B[39;00m has_images:\n\u001B[1;32m    130\u001B[0m     \u001B[38;5;28;01mfor\u001B[39;00m a \u001B[38;5;129;01min\u001B[39;00m artists:\n\u001B[0;32m--> 131\u001B[0m         \u001B[43ma\u001B[49m\u001B[38;5;241;43m.\u001B[39;49m\u001B[43mdraw\u001B[49m\u001B[43m(\u001B[49m\u001B[43mrenderer\u001B[49m\u001B[43m)\u001B[49m\n\u001B[1;32m    132\u001B[0m \u001B[38;5;28;01melse\u001B[39;00m:\n\u001B[1;32m    133\u001B[0m     \u001B[38;5;66;03m# Composite any adjacent images together\u001B[39;00m\n\u001B[1;32m    134\u001B[0m     image_group \u001B[38;5;241m=\u001B[39m []\n",
      "File \u001B[0;32m~/miniforge3/lib/python3.10/site-packages/matplotlib/artist.py:51\u001B[0m, in \u001B[0;36mallow_rasterization.<locals>.draw_wrapper\u001B[0;34m(artist, renderer)\u001B[0m\n\u001B[1;32m     48\u001B[0m     \u001B[38;5;28;01mif\u001B[39;00m artist\u001B[38;5;241m.\u001B[39mget_agg_filter() \u001B[38;5;129;01mis\u001B[39;00m \u001B[38;5;129;01mnot\u001B[39;00m \u001B[38;5;28;01mNone\u001B[39;00m:\n\u001B[1;32m     49\u001B[0m         renderer\u001B[38;5;241m.\u001B[39mstart_filter()\n\u001B[0;32m---> 51\u001B[0m     \u001B[38;5;28;01mreturn\u001B[39;00m \u001B[43mdraw\u001B[49m\u001B[43m(\u001B[49m\u001B[43martist\u001B[49m\u001B[43m,\u001B[49m\u001B[43m \u001B[49m\u001B[43mrenderer\u001B[49m\u001B[43m)\u001B[49m\n\u001B[1;32m     52\u001B[0m \u001B[38;5;28;01mfinally\u001B[39;00m:\n\u001B[1;32m     53\u001B[0m     \u001B[38;5;28;01mif\u001B[39;00m artist\u001B[38;5;241m.\u001B[39mget_agg_filter() \u001B[38;5;129;01mis\u001B[39;00m \u001B[38;5;129;01mnot\u001B[39;00m \u001B[38;5;28;01mNone\u001B[39;00m:\n",
      "File \u001B[0;32m~/miniforge3/lib/python3.10/site-packages/matplotlib/text.py:687\u001B[0m, in \u001B[0;36mText.draw\u001B[0;34m(self, renderer)\u001B[0m\n\u001B[1;32m    684\u001B[0m renderer\u001B[38;5;241m.\u001B[39mopen_group(\u001B[38;5;124m'\u001B[39m\u001B[38;5;124mtext\u001B[39m\u001B[38;5;124m'\u001B[39m, \u001B[38;5;28mself\u001B[39m\u001B[38;5;241m.\u001B[39mget_gid())\n\u001B[1;32m    686\u001B[0m \u001B[38;5;28;01mwith\u001B[39;00m \u001B[38;5;28mself\u001B[39m\u001B[38;5;241m.\u001B[39m_cm_set(text\u001B[38;5;241m=\u001B[39m\u001B[38;5;28mself\u001B[39m\u001B[38;5;241m.\u001B[39m_get_wrapped_text()):\n\u001B[0;32m--> 687\u001B[0m     bbox, info, descent \u001B[38;5;241m=\u001B[39m \u001B[38;5;28;43mself\u001B[39;49m\u001B[38;5;241;43m.\u001B[39;49m\u001B[43m_get_layout\u001B[49m\u001B[43m(\u001B[49m\u001B[43mrenderer\u001B[49m\u001B[43m)\u001B[49m\n\u001B[1;32m    688\u001B[0m     trans \u001B[38;5;241m=\u001B[39m \u001B[38;5;28mself\u001B[39m\u001B[38;5;241m.\u001B[39mget_transform()\n\u001B[1;32m    690\u001B[0m     \u001B[38;5;66;03m# don't use self.get_position here, which refers to text\u001B[39;00m\n\u001B[1;32m    691\u001B[0m     \u001B[38;5;66;03m# position in Text:\u001B[39;00m\n",
      "File \u001B[0;32m~/miniforge3/lib/python3.10/site-packages/matplotlib/text.py:321\u001B[0m, in \u001B[0;36mText._get_layout\u001B[0;34m(self, renderer)\u001B[0m\n\u001B[1;32m    319\u001B[0m clean_line, ismath \u001B[38;5;241m=\u001B[39m \u001B[38;5;28mself\u001B[39m\u001B[38;5;241m.\u001B[39m_preprocess_math(line)\n\u001B[1;32m    320\u001B[0m \u001B[38;5;28;01mif\u001B[39;00m clean_line:\n\u001B[0;32m--> 321\u001B[0m     w, h, d \u001B[38;5;241m=\u001B[39m \u001B[43m_get_text_metrics_with_cache\u001B[49m\u001B[43m(\u001B[49m\n\u001B[1;32m    322\u001B[0m \u001B[43m        \u001B[49m\u001B[43mrenderer\u001B[49m\u001B[43m,\u001B[49m\u001B[43m \u001B[49m\u001B[43mclean_line\u001B[49m\u001B[43m,\u001B[49m\u001B[43m \u001B[49m\u001B[38;5;28;43mself\u001B[39;49m\u001B[38;5;241;43m.\u001B[39;49m\u001B[43m_fontproperties\u001B[49m\u001B[43m,\u001B[49m\n\u001B[1;32m    323\u001B[0m \u001B[43m        \u001B[49m\u001B[43mismath\u001B[49m\u001B[38;5;241;43m=\u001B[39;49m\u001B[43mismath\u001B[49m\u001B[43m,\u001B[49m\u001B[43m \u001B[49m\u001B[43mdpi\u001B[49m\u001B[38;5;241;43m=\u001B[39;49m\u001B[38;5;28;43mself\u001B[39;49m\u001B[38;5;241;43m.\u001B[39;49m\u001B[43mfigure\u001B[49m\u001B[38;5;241;43m.\u001B[39;49m\u001B[43mdpi\u001B[49m\u001B[43m)\u001B[49m\n\u001B[1;32m    324\u001B[0m \u001B[38;5;28;01melse\u001B[39;00m:\n\u001B[1;32m    325\u001B[0m     w \u001B[38;5;241m=\u001B[39m h \u001B[38;5;241m=\u001B[39m d \u001B[38;5;241m=\u001B[39m \u001B[38;5;241m0\u001B[39m\n",
      "File \u001B[0;32m~/miniforge3/lib/python3.10/site-packages/matplotlib/text.py:97\u001B[0m, in \u001B[0;36m_get_text_metrics_with_cache\u001B[0;34m(renderer, text, fontprop, ismath, dpi)\u001B[0m\n\u001B[1;32m     94\u001B[0m \u001B[38;5;124;03m\"\"\"Call ``renderer.get_text_width_height_descent``, caching the results.\"\"\"\u001B[39;00m\n\u001B[1;32m     95\u001B[0m \u001B[38;5;66;03m# Cached based on a copy of fontprop so that later in-place mutations of\u001B[39;00m\n\u001B[1;32m     96\u001B[0m \u001B[38;5;66;03m# the passed-in argument do not mess up the cache.\u001B[39;00m\n\u001B[0;32m---> 97\u001B[0m \u001B[38;5;28;01mreturn\u001B[39;00m \u001B[43m_get_text_metrics_with_cache_impl\u001B[49m\u001B[43m(\u001B[49m\n\u001B[1;32m     98\u001B[0m \u001B[43m    \u001B[49m\u001B[43mweakref\u001B[49m\u001B[38;5;241;43m.\u001B[39;49m\u001B[43mref\u001B[49m\u001B[43m(\u001B[49m\u001B[43mrenderer\u001B[49m\u001B[43m)\u001B[49m\u001B[43m,\u001B[49m\u001B[43m \u001B[49m\u001B[43mtext\u001B[49m\u001B[43m,\u001B[49m\u001B[43m \u001B[49m\u001B[43mfontprop\u001B[49m\u001B[38;5;241;43m.\u001B[39;49m\u001B[43mcopy\u001B[49m\u001B[43m(\u001B[49m\u001B[43m)\u001B[49m\u001B[43m,\u001B[49m\u001B[43m \u001B[49m\u001B[43mismath\u001B[49m\u001B[43m,\u001B[49m\u001B[43m \u001B[49m\u001B[43mdpi\u001B[49m\u001B[43m)\u001B[49m\n",
      "File \u001B[0;32m~/miniforge3/lib/python3.10/site-packages/matplotlib/text.py:105\u001B[0m, in \u001B[0;36m_get_text_metrics_with_cache_impl\u001B[0;34m(renderer_ref, text, fontprop, ismath, dpi)\u001B[0m\n\u001B[1;32m    101\u001B[0m \u001B[38;5;129m@functools\u001B[39m\u001B[38;5;241m.\u001B[39mlru_cache(\u001B[38;5;241m4096\u001B[39m)\n\u001B[1;32m    102\u001B[0m \u001B[38;5;28;01mdef\u001B[39;00m \u001B[38;5;21m_get_text_metrics_with_cache_impl\u001B[39m(\n\u001B[1;32m    103\u001B[0m         renderer_ref, text, fontprop, ismath, dpi):\n\u001B[1;32m    104\u001B[0m     \u001B[38;5;66;03m# dpi is unused, but participates in cache invalidation (via the renderer).\u001B[39;00m\n\u001B[0;32m--> 105\u001B[0m     \u001B[38;5;28;01mreturn\u001B[39;00m \u001B[43mrenderer_ref\u001B[49m\u001B[43m(\u001B[49m\u001B[43m)\u001B[49m\u001B[38;5;241;43m.\u001B[39;49m\u001B[43mget_text_width_height_descent\u001B[49m\u001B[43m(\u001B[49m\u001B[43mtext\u001B[49m\u001B[43m,\u001B[49m\u001B[43m \u001B[49m\u001B[43mfontprop\u001B[49m\u001B[43m,\u001B[49m\u001B[43m \u001B[49m\u001B[43mismath\u001B[49m\u001B[43m)\u001B[49m\n",
      "File \u001B[0;32m~/miniforge3/lib/python3.10/site-packages/matplotlib/backends/backend_agg.py:229\u001B[0m, in \u001B[0;36mRendererAgg.get_text_width_height_descent\u001B[0;34m(self, s, prop, ismath)\u001B[0m\n\u001B[1;32m    227\u001B[0m     texmanager \u001B[38;5;241m=\u001B[39m \u001B[38;5;28mself\u001B[39m\u001B[38;5;241m.\u001B[39mget_texmanager()\n\u001B[1;32m    228\u001B[0m     fontsize \u001B[38;5;241m=\u001B[39m prop\u001B[38;5;241m.\u001B[39mget_size_in_points()\n\u001B[0;32m--> 229\u001B[0m     w, h, d \u001B[38;5;241m=\u001B[39m \u001B[43mtexmanager\u001B[49m\u001B[38;5;241;43m.\u001B[39;49m\u001B[43mget_text_width_height_descent\u001B[49m\u001B[43m(\u001B[49m\n\u001B[1;32m    230\u001B[0m \u001B[43m        \u001B[49m\u001B[43ms\u001B[49m\u001B[43m,\u001B[49m\u001B[43m \u001B[49m\u001B[43mfontsize\u001B[49m\u001B[43m,\u001B[49m\u001B[43m \u001B[49m\u001B[43mrenderer\u001B[49m\u001B[38;5;241;43m=\u001B[39;49m\u001B[38;5;28;43mself\u001B[39;49m\u001B[43m)\u001B[49m\n\u001B[1;32m    231\u001B[0m     \u001B[38;5;28;01mreturn\u001B[39;00m w, h, d\n\u001B[1;32m    233\u001B[0m \u001B[38;5;28;01mif\u001B[39;00m ismath:\n",
      "File \u001B[0;32m~/miniforge3/lib/python3.10/site-packages/matplotlib/texmanager.py:362\u001B[0m, in \u001B[0;36mTexManager.get_text_width_height_descent\u001B[0;34m(cls, tex, fontsize, renderer)\u001B[0m\n\u001B[1;32m    360\u001B[0m \u001B[38;5;28;01mif\u001B[39;00m tex\u001B[38;5;241m.\u001B[39mstrip() \u001B[38;5;241m==\u001B[39m \u001B[38;5;124m'\u001B[39m\u001B[38;5;124m'\u001B[39m:\n\u001B[1;32m    361\u001B[0m     \u001B[38;5;28;01mreturn\u001B[39;00m \u001B[38;5;241m0\u001B[39m, \u001B[38;5;241m0\u001B[39m, \u001B[38;5;241m0\u001B[39m\n\u001B[0;32m--> 362\u001B[0m dvifile \u001B[38;5;241m=\u001B[39m \u001B[38;5;28;43mcls\u001B[39;49m\u001B[38;5;241;43m.\u001B[39;49m\u001B[43mmake_dvi\u001B[49m\u001B[43m(\u001B[49m\u001B[43mtex\u001B[49m\u001B[43m,\u001B[49m\u001B[43m \u001B[49m\u001B[43mfontsize\u001B[49m\u001B[43m)\u001B[49m\n\u001B[1;32m    363\u001B[0m dpi_fraction \u001B[38;5;241m=\u001B[39m renderer\u001B[38;5;241m.\u001B[39mpoints_to_pixels(\u001B[38;5;241m1.\u001B[39m) \u001B[38;5;28;01mif\u001B[39;00m renderer \u001B[38;5;28;01melse\u001B[39;00m \u001B[38;5;241m1\u001B[39m\n\u001B[1;32m    364\u001B[0m \u001B[38;5;28;01mwith\u001B[39;00m dviread\u001B[38;5;241m.\u001B[39mDvi(dvifile, \u001B[38;5;241m72\u001B[39m \u001B[38;5;241m*\u001B[39m dpi_fraction) \u001B[38;5;28;01mas\u001B[39;00m dvi:\n",
      "File \u001B[0;32m~/miniforge3/lib/python3.10/site-packages/matplotlib/texmanager.py:295\u001B[0m, in \u001B[0;36mTexManager.make_dvi\u001B[0;34m(cls, tex, fontsize)\u001B[0m\n\u001B[1;32m    286\u001B[0m     \u001B[38;5;66;03m# Generate the dvi in a temporary directory to avoid race\u001B[39;00m\n\u001B[1;32m    287\u001B[0m     \u001B[38;5;66;03m# conditions e.g. if multiple processes try to process the same tex\u001B[39;00m\n\u001B[1;32m    288\u001B[0m     \u001B[38;5;66;03m# string at the same time.  Having tmpdir be a subdirectory of the\u001B[39;00m\n\u001B[0;32m   (...)\u001B[0m\n\u001B[1;32m    292\u001B[0m     \u001B[38;5;66;03m# the absolute path may contain characters (e.g. ~) that TeX does\u001B[39;00m\n\u001B[1;32m    293\u001B[0m     \u001B[38;5;66;03m# not support.)\u001B[39;00m\n\u001B[1;32m    294\u001B[0m     \u001B[38;5;28;01mwith\u001B[39;00m TemporaryDirectory(\u001B[38;5;28mdir\u001B[39m\u001B[38;5;241m=\u001B[39mPath(dvifile)\u001B[38;5;241m.\u001B[39mparent) \u001B[38;5;28;01mas\u001B[39;00m tmpdir:\n\u001B[0;32m--> 295\u001B[0m         \u001B[38;5;28;43mcls\u001B[39;49m\u001B[38;5;241;43m.\u001B[39;49m\u001B[43m_run_checked_subprocess\u001B[49m\u001B[43m(\u001B[49m\n\u001B[1;32m    296\u001B[0m \u001B[43m            \u001B[49m\u001B[43m[\u001B[49m\u001B[38;5;124;43m\"\u001B[39;49m\u001B[38;5;124;43mlatex\u001B[39;49m\u001B[38;5;124;43m\"\u001B[39;49m\u001B[43m,\u001B[49m\u001B[43m \u001B[49m\u001B[38;5;124;43m\"\u001B[39;49m\u001B[38;5;124;43m-interaction=nonstopmode\u001B[39;49m\u001B[38;5;124;43m\"\u001B[39;49m\u001B[43m,\u001B[49m\u001B[43m \u001B[49m\u001B[38;5;124;43m\"\u001B[39;49m\u001B[38;5;124;43m--halt-on-error\u001B[39;49m\u001B[38;5;124;43m\"\u001B[39;49m\u001B[43m,\u001B[49m\n\u001B[1;32m    297\u001B[0m \u001B[43m             \u001B[49m\u001B[38;5;124;43mf\u001B[39;49m\u001B[38;5;124;43m\"\u001B[39;49m\u001B[38;5;124;43m../\u001B[39;49m\u001B[38;5;132;43;01m{\u001B[39;49;00m\u001B[43mtexfile\u001B[49m\u001B[38;5;241;43m.\u001B[39;49m\u001B[43mname\u001B[49m\u001B[38;5;132;43;01m}\u001B[39;49;00m\u001B[38;5;124;43m\"\u001B[39;49m\u001B[43m]\u001B[49m\u001B[43m,\u001B[49m\u001B[43m \u001B[49m\u001B[43mtex\u001B[49m\u001B[43m,\u001B[49m\u001B[43m \u001B[49m\u001B[43mcwd\u001B[49m\u001B[38;5;241;43m=\u001B[39;49m\u001B[43mtmpdir\u001B[49m\u001B[43m)\u001B[49m\n\u001B[1;32m    298\u001B[0m         (Path(tmpdir) \u001B[38;5;241m/\u001B[39m Path(dvifile)\u001B[38;5;241m.\u001B[39mname)\u001B[38;5;241m.\u001B[39mreplace(dvifile)\n\u001B[1;32m    299\u001B[0m \u001B[38;5;28;01mreturn\u001B[39;00m dvifile\n",
      "File \u001B[0;32m~/miniforge3/lib/python3.10/site-packages/matplotlib/texmanager.py:261\u001B[0m, in \u001B[0;36mTexManager._run_checked_subprocess\u001B[0;34m(cls, command, tex, cwd)\u001B[0m\n\u001B[1;32m    257\u001B[0m     \u001B[38;5;28;01mraise\u001B[39;00m \u001B[38;5;167;01mRuntimeError\u001B[39;00m(\n\u001B[1;32m    258\u001B[0m         \u001B[38;5;124m'\u001B[39m\u001B[38;5;124mFailed to process string with tex because \u001B[39m\u001B[38;5;132;01m{}\u001B[39;00m\u001B[38;5;124m could not be \u001B[39m\u001B[38;5;124m'\u001B[39m\n\u001B[1;32m    259\u001B[0m         \u001B[38;5;124m'\u001B[39m\u001B[38;5;124mfound\u001B[39m\u001B[38;5;124m'\u001B[39m\u001B[38;5;241m.\u001B[39mformat(command[\u001B[38;5;241m0\u001B[39m])) \u001B[38;5;28;01mfrom\u001B[39;00m \u001B[38;5;21;01mexc\u001B[39;00m\n\u001B[1;32m    260\u001B[0m \u001B[38;5;28;01mexcept\u001B[39;00m subprocess\u001B[38;5;241m.\u001B[39mCalledProcessError \u001B[38;5;28;01mas\u001B[39;00m exc:\n\u001B[0;32m--> 261\u001B[0m     \u001B[38;5;28;01mraise\u001B[39;00m \u001B[38;5;167;01mRuntimeError\u001B[39;00m(\n\u001B[1;32m    262\u001B[0m         \u001B[38;5;124m'\u001B[39m\u001B[38;5;132;01m{prog}\u001B[39;00m\u001B[38;5;124m was not able to process the following string:\u001B[39m\u001B[38;5;130;01m\\n\u001B[39;00m\u001B[38;5;124m'\u001B[39m\n\u001B[1;32m    263\u001B[0m         \u001B[38;5;124m'\u001B[39m\u001B[38;5;132;01m{tex!r}\u001B[39;00m\u001B[38;5;130;01m\\n\u001B[39;00m\u001B[38;5;130;01m\\n\u001B[39;00m\u001B[38;5;124m'\u001B[39m\n\u001B[1;32m    264\u001B[0m         \u001B[38;5;124m'\u001B[39m\u001B[38;5;124mHere is the full command invocation and its output:\u001B[39m\u001B[38;5;130;01m\\n\u001B[39;00m\u001B[38;5;130;01m\\n\u001B[39;00m\u001B[38;5;124m'\u001B[39m\n\u001B[1;32m    265\u001B[0m         \u001B[38;5;124m'\u001B[39m\u001B[38;5;132;01m{format_command}\u001B[39;00m\u001B[38;5;130;01m\\n\u001B[39;00m\u001B[38;5;130;01m\\n\u001B[39;00m\u001B[38;5;124m'\u001B[39m\n\u001B[1;32m    266\u001B[0m         \u001B[38;5;124m'\u001B[39m\u001B[38;5;132;01m{exc}\u001B[39;00m\u001B[38;5;130;01m\\n\u001B[39;00m\u001B[38;5;130;01m\\n\u001B[39;00m\u001B[38;5;124m'\u001B[39m\u001B[38;5;241m.\u001B[39mformat(\n\u001B[1;32m    267\u001B[0m             prog\u001B[38;5;241m=\u001B[39mcommand[\u001B[38;5;241m0\u001B[39m],\n\u001B[1;32m    268\u001B[0m             format_command\u001B[38;5;241m=\u001B[39mcbook\u001B[38;5;241m.\u001B[39m_pformat_subprocess(command),\n\u001B[1;32m    269\u001B[0m             tex\u001B[38;5;241m=\u001B[39mtex\u001B[38;5;241m.\u001B[39mencode(\u001B[38;5;124m'\u001B[39m\u001B[38;5;124municode_escape\u001B[39m\u001B[38;5;124m'\u001B[39m),\n\u001B[1;32m    270\u001B[0m             exc\u001B[38;5;241m=\u001B[39mexc\u001B[38;5;241m.\u001B[39moutput\u001B[38;5;241m.\u001B[39mdecode(\u001B[38;5;124m'\u001B[39m\u001B[38;5;124mutf-8\u001B[39m\u001B[38;5;124m'\u001B[39m, \u001B[38;5;124m'\u001B[39m\u001B[38;5;124mbackslashreplace\u001B[39m\u001B[38;5;124m'\u001B[39m))\n\u001B[1;32m    271\u001B[0m         ) \u001B[38;5;28;01mfrom\u001B[39;00m \u001B[38;5;28mNone\u001B[39m\n\u001B[1;32m    272\u001B[0m _log\u001B[38;5;241m.\u001B[39mdebug(report)\n\u001B[1;32m    273\u001B[0m \u001B[38;5;28;01mreturn\u001B[39;00m report\n",
      "\u001B[0;31mRuntimeError\u001B[0m: latex was not able to process the following string:\nb'$$'\n\nHere is the full command invocation and its output:\n\nlatex -interaction=nonstopmode --halt-on-error ../1bcf7fb91a305bc2532e50e653b39cab.tex\n\nThis is pdfTeX, Version 3.141592653-2.6-1.40.24 (TeX Live 2022/Homebrew) (preloaded format=latex)\n restricted \\write18 enabled.\nentering extended mode\n(../1bcf7fb91a305bc2532e50e653b39cab.tex\nLaTeX2e <2021-11-15> patch level 1\nL3 programming layer <2022-02-24>\n(/opt/homebrew/Cellar/texlive/20220321_3/share/texmf-dist/tex/latex/base/articl\ne.cls\nDocument Class: article 2021/10/04 v1.4n Standard LaTeX document class\n\n(/opt/homebrew/Cellar/texlive/20220321_3/share/texmf-dist/tex/latex/base/size10\n.clo))\n(/opt/homebrew/Cellar/texlive/20220321_3/share/texmf-dist/tex/latex/type1cm/typ\ne1cm.sty)\n(/opt/homebrew/Cellar/texlive/20220321_3/share/texmf-dist/tex/latex/cm-super/ty\npe1ec.sty\n(/opt/homebrew/Cellar/texlive/20220321_3/share/texmf-dist/tex/latex/base/t1cmr.\nfd))\n(/opt/homebrew/Cellar/texlive/20220321_3/share/texmf-dist/tex/latex/base/inpute\nnc.sty)\n(/opt/homebrew/Cellar/texlive/20220321_3/share/texmf-dist/tex/latex/geometry/ge\nometry.sty\n(/opt/homebrew/Cellar/texlive/20220321_3/share/texmf-dist/tex/latex/graphics/ke\nyval.sty)\n(/opt/homebrew/Cellar/texlive/20220321_3/share/texmf-dist/tex/generic/iftex/ifv\ntex.sty\n(/opt/homebrew/Cellar/texlive/20220321_3/share/texmf-dist/tex/generic/iftex/ift\nex.sty)))\n(/opt/homebrew/Cellar/texlive/20220321_3/share/texmf-dist/tex/latex/amsmath/ams\nmath.sty\nFor additional information on amsmath, use the `?' option.\n\n(/opt/homebrew/Cellar/texlive/20220321_3/share/texmf-dist/tex/latex/amsmath/ams\ntext.sty\n(/opt/homebrew/Cellar/texlive/20220321_3/share/texmf-dist/tex/latex/amsmath/ams\ngen.sty))\n(/opt/homebrew/Cellar/texlive/20220321_3/share/texmf-dist/tex/latex/amsmath/ams\nbsy.sty)\n(/opt/homebrew/Cellar/texlive/20220321_3/share/texmf-dist/tex/latex/amsmath/ams\nopn.sty))\n(/opt/homebrew/Cellar/texlive/20220321_3/share/texmf-dist/tex/latex/underscore/\nunderscore.sty)\n(/opt/homebrew/Cellar/texlive/20220321_3/share/texmf-dist/tex/latex/base/textco\nmp.sty)\n(/opt/homebrew/Cellar/texlive/20220321_3/share/texmf-dist/tex/latex/l3backend/l\n3backend-dvips.def)\nNo file 1bcf7fb91a305bc2532e50e653b39cab.aux.\n*geometry* driver: auto-detecting\n*geometry* detected driver: dvips\n\nLaTeX Font Warning: Font shape `OMX/cmex/m/n' in size <20> not available\n(Font)              size <20.74> substituted on input line 29.\n\n\nLaTeX Font Warning: Font shape `OMX/cmex/m/n' in size <13.99994> not available\n(Font)              size <14.4> substituted on input line 29.\n\n! Extra }, or forgotten $.\nl.29 {\\sffamily $$}\n                   %\nNo pages of output.\nTranscript written on 1bcf7fb91a305bc2532e50e653b39cab.log.\n\n\n"
     ]
    },
    {
     "name": "stdout",
     "output_type": "stream",
     "text": [
      "Error in callback <function _draw_all_if_interactive at 0x14f3db010> (for post_execute):\n"
     ]
    },
    {
     "ename": "RuntimeError",
     "evalue": "latex was not able to process the following string:\nb'$$'\n\nHere is the full command invocation and its output:\n\nlatex -interaction=nonstopmode --halt-on-error ../1bcf7fb91a305bc2532e50e653b39cab.tex\n\nThis is pdfTeX, Version 3.141592653-2.6-1.40.24 (TeX Live 2022/Homebrew) (preloaded format=latex)\n restricted \\write18 enabled.\nentering extended mode\n(../1bcf7fb91a305bc2532e50e653b39cab.tex\nLaTeX2e <2021-11-15> patch level 1\nL3 programming layer <2022-02-24>\n(/opt/homebrew/Cellar/texlive/20220321_3/share/texmf-dist/tex/latex/base/articl\ne.cls\nDocument Class: article 2021/10/04 v1.4n Standard LaTeX document class\n\n(/opt/homebrew/Cellar/texlive/20220321_3/share/texmf-dist/tex/latex/base/size10\n.clo))\n(/opt/homebrew/Cellar/texlive/20220321_3/share/texmf-dist/tex/latex/type1cm/typ\ne1cm.sty)\n(/opt/homebrew/Cellar/texlive/20220321_3/share/texmf-dist/tex/latex/cm-super/ty\npe1ec.sty\n(/opt/homebrew/Cellar/texlive/20220321_3/share/texmf-dist/tex/latex/base/t1cmr.\nfd))\n(/opt/homebrew/Cellar/texlive/20220321_3/share/texmf-dist/tex/latex/base/inpute\nnc.sty)\n(/opt/homebrew/Cellar/texlive/20220321_3/share/texmf-dist/tex/latex/geometry/ge\nometry.sty\n(/opt/homebrew/Cellar/texlive/20220321_3/share/texmf-dist/tex/latex/graphics/ke\nyval.sty)\n(/opt/homebrew/Cellar/texlive/20220321_3/share/texmf-dist/tex/generic/iftex/ifv\ntex.sty\n(/opt/homebrew/Cellar/texlive/20220321_3/share/texmf-dist/tex/generic/iftex/ift\nex.sty)))\n(/opt/homebrew/Cellar/texlive/20220321_3/share/texmf-dist/tex/latex/amsmath/ams\nmath.sty\nFor additional information on amsmath, use the `?' option.\n\n(/opt/homebrew/Cellar/texlive/20220321_3/share/texmf-dist/tex/latex/amsmath/ams\ntext.sty\n(/opt/homebrew/Cellar/texlive/20220321_3/share/texmf-dist/tex/latex/amsmath/ams\ngen.sty))\n(/opt/homebrew/Cellar/texlive/20220321_3/share/texmf-dist/tex/latex/amsmath/ams\nbsy.sty)\n(/opt/homebrew/Cellar/texlive/20220321_3/share/texmf-dist/tex/latex/amsmath/ams\nopn.sty))\n(/opt/homebrew/Cellar/texlive/20220321_3/share/texmf-dist/tex/latex/underscore/\nunderscore.sty)\n(/opt/homebrew/Cellar/texlive/20220321_3/share/texmf-dist/tex/latex/base/textco\nmp.sty)\n(/opt/homebrew/Cellar/texlive/20220321_3/share/texmf-dist/tex/latex/l3backend/l\n3backend-dvips.def)\nNo file 1bcf7fb91a305bc2532e50e653b39cab.aux.\n*geometry* driver: auto-detecting\n*geometry* detected driver: dvips\n\nLaTeX Font Warning: Font shape `OMX/cmex/m/n' in size <20> not available\n(Font)              size <20.74> substituted on input line 29.\n\n\nLaTeX Font Warning: Font shape `OMX/cmex/m/n' in size <13.99994> not available\n(Font)              size <14.4> substituted on input line 29.\n\n! Extra }, or forgotten $.\nl.29 {\\sffamily $$}\n                   %\nNo pages of output.\nTranscript written on 1bcf7fb91a305bc2532e50e653b39cab.log.\n\n\n",
     "output_type": "error",
     "traceback": [
      "\u001B[0;31m---------------------------------------------------------------------------\u001B[0m",
      "\u001B[0;31mRuntimeError\u001B[0m                              Traceback (most recent call last)",
      "File \u001B[0;32m~/miniforge3/lib/python3.10/site-packages/matplotlib/pyplot.py:119\u001B[0m, in \u001B[0;36m_draw_all_if_interactive\u001B[0;34m()\u001B[0m\n\u001B[1;32m    117\u001B[0m \u001B[38;5;28;01mdef\u001B[39;00m \u001B[38;5;21m_draw_all_if_interactive\u001B[39m():\n\u001B[1;32m    118\u001B[0m     \u001B[38;5;28;01mif\u001B[39;00m matplotlib\u001B[38;5;241m.\u001B[39mis_interactive():\n\u001B[0;32m--> 119\u001B[0m         \u001B[43mdraw_all\u001B[49m\u001B[43m(\u001B[49m\u001B[43m)\u001B[49m\n",
      "File \u001B[0;32m~/miniforge3/lib/python3.10/site-packages/matplotlib/_pylab_helpers.py:132\u001B[0m, in \u001B[0;36mGcf.draw_all\u001B[0;34m(cls, force)\u001B[0m\n\u001B[1;32m    130\u001B[0m \u001B[38;5;28;01mfor\u001B[39;00m manager \u001B[38;5;129;01min\u001B[39;00m \u001B[38;5;28mcls\u001B[39m\u001B[38;5;241m.\u001B[39mget_all_fig_managers():\n\u001B[1;32m    131\u001B[0m     \u001B[38;5;28;01mif\u001B[39;00m force \u001B[38;5;129;01mor\u001B[39;00m manager\u001B[38;5;241m.\u001B[39mcanvas\u001B[38;5;241m.\u001B[39mfigure\u001B[38;5;241m.\u001B[39mstale:\n\u001B[0;32m--> 132\u001B[0m         \u001B[43mmanager\u001B[49m\u001B[38;5;241;43m.\u001B[39;49m\u001B[43mcanvas\u001B[49m\u001B[38;5;241;43m.\u001B[39;49m\u001B[43mdraw_idle\u001B[49m\u001B[43m(\u001B[49m\u001B[43m)\u001B[49m\n",
      "File \u001B[0;32m~/miniforge3/lib/python3.10/site-packages/matplotlib/backend_bases.py:2054\u001B[0m, in \u001B[0;36mFigureCanvasBase.draw_idle\u001B[0;34m(self, *args, **kwargs)\u001B[0m\n\u001B[1;32m   2052\u001B[0m \u001B[38;5;28;01mif\u001B[39;00m \u001B[38;5;129;01mnot\u001B[39;00m \u001B[38;5;28mself\u001B[39m\u001B[38;5;241m.\u001B[39m_is_idle_drawing:\n\u001B[1;32m   2053\u001B[0m     \u001B[38;5;28;01mwith\u001B[39;00m \u001B[38;5;28mself\u001B[39m\u001B[38;5;241m.\u001B[39m_idle_draw_cntx():\n\u001B[0;32m-> 2054\u001B[0m         \u001B[38;5;28;43mself\u001B[39;49m\u001B[38;5;241;43m.\u001B[39;49m\u001B[43mdraw\u001B[49m\u001B[43m(\u001B[49m\u001B[38;5;241;43m*\u001B[39;49m\u001B[43margs\u001B[49m\u001B[43m,\u001B[49m\u001B[43m \u001B[49m\u001B[38;5;241;43m*\u001B[39;49m\u001B[38;5;241;43m*\u001B[39;49m\u001B[43mkwargs\u001B[49m\u001B[43m)\u001B[49m\n",
      "File \u001B[0;32m~/miniforge3/lib/python3.10/site-packages/matplotlib/backends/backend_agg.py:405\u001B[0m, in \u001B[0;36mFigureCanvasAgg.draw\u001B[0;34m(self)\u001B[0m\n\u001B[1;32m    401\u001B[0m \u001B[38;5;66;03m# Acquire a lock on the shared font cache.\u001B[39;00m\n\u001B[1;32m    402\u001B[0m \u001B[38;5;28;01mwith\u001B[39;00m RendererAgg\u001B[38;5;241m.\u001B[39mlock, \\\n\u001B[1;32m    403\u001B[0m      (\u001B[38;5;28mself\u001B[39m\u001B[38;5;241m.\u001B[39mtoolbar\u001B[38;5;241m.\u001B[39m_wait_cursor_for_draw_cm() \u001B[38;5;28;01mif\u001B[39;00m \u001B[38;5;28mself\u001B[39m\u001B[38;5;241m.\u001B[39mtoolbar\n\u001B[1;32m    404\u001B[0m       \u001B[38;5;28;01melse\u001B[39;00m nullcontext()):\n\u001B[0;32m--> 405\u001B[0m     \u001B[38;5;28;43mself\u001B[39;49m\u001B[38;5;241;43m.\u001B[39;49m\u001B[43mfigure\u001B[49m\u001B[38;5;241;43m.\u001B[39;49m\u001B[43mdraw\u001B[49m\u001B[43m(\u001B[49m\u001B[38;5;28;43mself\u001B[39;49m\u001B[38;5;241;43m.\u001B[39;49m\u001B[43mrenderer\u001B[49m\u001B[43m)\u001B[49m\n\u001B[1;32m    406\u001B[0m     \u001B[38;5;66;03m# A GUI class may be need to update a window using this draw, so\u001B[39;00m\n\u001B[1;32m    407\u001B[0m     \u001B[38;5;66;03m# don't forget to call the superclass.\u001B[39;00m\n\u001B[1;32m    408\u001B[0m     \u001B[38;5;28msuper\u001B[39m()\u001B[38;5;241m.\u001B[39mdraw()\n",
      "File \u001B[0;32m~/miniforge3/lib/python3.10/site-packages/matplotlib/artist.py:74\u001B[0m, in \u001B[0;36m_finalize_rasterization.<locals>.draw_wrapper\u001B[0;34m(artist, renderer, *args, **kwargs)\u001B[0m\n\u001B[1;32m     72\u001B[0m \u001B[38;5;129m@wraps\u001B[39m(draw)\n\u001B[1;32m     73\u001B[0m \u001B[38;5;28;01mdef\u001B[39;00m \u001B[38;5;21mdraw_wrapper\u001B[39m(artist, renderer, \u001B[38;5;241m*\u001B[39margs, \u001B[38;5;241m*\u001B[39m\u001B[38;5;241m*\u001B[39mkwargs):\n\u001B[0;32m---> 74\u001B[0m     result \u001B[38;5;241m=\u001B[39m \u001B[43mdraw\u001B[49m\u001B[43m(\u001B[49m\u001B[43martist\u001B[49m\u001B[43m,\u001B[49m\u001B[43m \u001B[49m\u001B[43mrenderer\u001B[49m\u001B[43m,\u001B[49m\u001B[43m \u001B[49m\u001B[38;5;241;43m*\u001B[39;49m\u001B[43margs\u001B[49m\u001B[43m,\u001B[49m\u001B[43m \u001B[49m\u001B[38;5;241;43m*\u001B[39;49m\u001B[38;5;241;43m*\u001B[39;49m\u001B[43mkwargs\u001B[49m\u001B[43m)\u001B[49m\n\u001B[1;32m     75\u001B[0m     \u001B[38;5;28;01mif\u001B[39;00m renderer\u001B[38;5;241m.\u001B[39m_rasterizing:\n\u001B[1;32m     76\u001B[0m         renderer\u001B[38;5;241m.\u001B[39mstop_rasterizing()\n",
      "File \u001B[0;32m~/miniforge3/lib/python3.10/site-packages/matplotlib/artist.py:51\u001B[0m, in \u001B[0;36mallow_rasterization.<locals>.draw_wrapper\u001B[0;34m(artist, renderer)\u001B[0m\n\u001B[1;32m     48\u001B[0m     \u001B[38;5;28;01mif\u001B[39;00m artist\u001B[38;5;241m.\u001B[39mget_agg_filter() \u001B[38;5;129;01mis\u001B[39;00m \u001B[38;5;129;01mnot\u001B[39;00m \u001B[38;5;28;01mNone\u001B[39;00m:\n\u001B[1;32m     49\u001B[0m         renderer\u001B[38;5;241m.\u001B[39mstart_filter()\n\u001B[0;32m---> 51\u001B[0m     \u001B[38;5;28;01mreturn\u001B[39;00m \u001B[43mdraw\u001B[49m\u001B[43m(\u001B[49m\u001B[43martist\u001B[49m\u001B[43m,\u001B[49m\u001B[43m \u001B[49m\u001B[43mrenderer\u001B[49m\u001B[43m)\u001B[49m\n\u001B[1;32m     52\u001B[0m \u001B[38;5;28;01mfinally\u001B[39;00m:\n\u001B[1;32m     53\u001B[0m     \u001B[38;5;28;01mif\u001B[39;00m artist\u001B[38;5;241m.\u001B[39mget_agg_filter() \u001B[38;5;129;01mis\u001B[39;00m \u001B[38;5;129;01mnot\u001B[39;00m \u001B[38;5;28;01mNone\u001B[39;00m:\n",
      "File \u001B[0;32m~/miniforge3/lib/python3.10/site-packages/matplotlib/figure.py:3071\u001B[0m, in \u001B[0;36mFigure.draw\u001B[0;34m(self, renderer)\u001B[0m\n\u001B[1;32m   3068\u001B[0m         \u001B[38;5;66;03m# ValueError can occur when resizing a window.\u001B[39;00m\n\u001B[1;32m   3070\u001B[0m \u001B[38;5;28mself\u001B[39m\u001B[38;5;241m.\u001B[39mpatch\u001B[38;5;241m.\u001B[39mdraw(renderer)\n\u001B[0;32m-> 3071\u001B[0m \u001B[43mmimage\u001B[49m\u001B[38;5;241;43m.\u001B[39;49m\u001B[43m_draw_list_compositing_images\u001B[49m\u001B[43m(\u001B[49m\n\u001B[1;32m   3072\u001B[0m \u001B[43m    \u001B[49m\u001B[43mrenderer\u001B[49m\u001B[43m,\u001B[49m\u001B[43m \u001B[49m\u001B[38;5;28;43mself\u001B[39;49m\u001B[43m,\u001B[49m\u001B[43m \u001B[49m\u001B[43martists\u001B[49m\u001B[43m,\u001B[49m\u001B[43m \u001B[49m\u001B[38;5;28;43mself\u001B[39;49m\u001B[38;5;241;43m.\u001B[39;49m\u001B[43msuppressComposite\u001B[49m\u001B[43m)\u001B[49m\n\u001B[1;32m   3074\u001B[0m \u001B[38;5;28;01mfor\u001B[39;00m sfig \u001B[38;5;129;01min\u001B[39;00m \u001B[38;5;28mself\u001B[39m\u001B[38;5;241m.\u001B[39msubfigs:\n\u001B[1;32m   3075\u001B[0m     sfig\u001B[38;5;241m.\u001B[39mdraw(renderer)\n",
      "File \u001B[0;32m~/miniforge3/lib/python3.10/site-packages/matplotlib/image.py:131\u001B[0m, in \u001B[0;36m_draw_list_compositing_images\u001B[0;34m(renderer, parent, artists, suppress_composite)\u001B[0m\n\u001B[1;32m    129\u001B[0m \u001B[38;5;28;01mif\u001B[39;00m not_composite \u001B[38;5;129;01mor\u001B[39;00m \u001B[38;5;129;01mnot\u001B[39;00m has_images:\n\u001B[1;32m    130\u001B[0m     \u001B[38;5;28;01mfor\u001B[39;00m a \u001B[38;5;129;01min\u001B[39;00m artists:\n\u001B[0;32m--> 131\u001B[0m         \u001B[43ma\u001B[49m\u001B[38;5;241;43m.\u001B[39;49m\u001B[43mdraw\u001B[49m\u001B[43m(\u001B[49m\u001B[43mrenderer\u001B[49m\u001B[43m)\u001B[49m\n\u001B[1;32m    132\u001B[0m \u001B[38;5;28;01melse\u001B[39;00m:\n\u001B[1;32m    133\u001B[0m     \u001B[38;5;66;03m# Composite any adjacent images together\u001B[39;00m\n\u001B[1;32m    134\u001B[0m     image_group \u001B[38;5;241m=\u001B[39m []\n",
      "File \u001B[0;32m~/miniforge3/lib/python3.10/site-packages/matplotlib/artist.py:51\u001B[0m, in \u001B[0;36mallow_rasterization.<locals>.draw_wrapper\u001B[0;34m(artist, renderer)\u001B[0m\n\u001B[1;32m     48\u001B[0m     \u001B[38;5;28;01mif\u001B[39;00m artist\u001B[38;5;241m.\u001B[39mget_agg_filter() \u001B[38;5;129;01mis\u001B[39;00m \u001B[38;5;129;01mnot\u001B[39;00m \u001B[38;5;28;01mNone\u001B[39;00m:\n\u001B[1;32m     49\u001B[0m         renderer\u001B[38;5;241m.\u001B[39mstart_filter()\n\u001B[0;32m---> 51\u001B[0m     \u001B[38;5;28;01mreturn\u001B[39;00m \u001B[43mdraw\u001B[49m\u001B[43m(\u001B[49m\u001B[43martist\u001B[49m\u001B[43m,\u001B[49m\u001B[43m \u001B[49m\u001B[43mrenderer\u001B[49m\u001B[43m)\u001B[49m\n\u001B[1;32m     52\u001B[0m \u001B[38;5;28;01mfinally\u001B[39;00m:\n\u001B[1;32m     53\u001B[0m     \u001B[38;5;28;01mif\u001B[39;00m artist\u001B[38;5;241m.\u001B[39mget_agg_filter() \u001B[38;5;129;01mis\u001B[39;00m \u001B[38;5;129;01mnot\u001B[39;00m \u001B[38;5;28;01mNone\u001B[39;00m:\n",
      "File \u001B[0;32m~/miniforge3/lib/python3.10/site-packages/matplotlib/axes/_base.py:3107\u001B[0m, in \u001B[0;36m_AxesBase.draw\u001B[0;34m(self, renderer)\u001B[0m\n\u001B[1;32m   3104\u001B[0m         a\u001B[38;5;241m.\u001B[39mdraw(renderer)\n\u001B[1;32m   3105\u001B[0m     renderer\u001B[38;5;241m.\u001B[39mstop_rasterizing()\n\u001B[0;32m-> 3107\u001B[0m \u001B[43mmimage\u001B[49m\u001B[38;5;241;43m.\u001B[39;49m\u001B[43m_draw_list_compositing_images\u001B[49m\u001B[43m(\u001B[49m\n\u001B[1;32m   3108\u001B[0m \u001B[43m    \u001B[49m\u001B[43mrenderer\u001B[49m\u001B[43m,\u001B[49m\u001B[43m \u001B[49m\u001B[38;5;28;43mself\u001B[39;49m\u001B[43m,\u001B[49m\u001B[43m \u001B[49m\u001B[43martists\u001B[49m\u001B[43m,\u001B[49m\u001B[43m \u001B[49m\u001B[38;5;28;43mself\u001B[39;49m\u001B[38;5;241;43m.\u001B[39;49m\u001B[43mfigure\u001B[49m\u001B[38;5;241;43m.\u001B[39;49m\u001B[43msuppressComposite\u001B[49m\u001B[43m)\u001B[49m\n\u001B[1;32m   3110\u001B[0m renderer\u001B[38;5;241m.\u001B[39mclose_group(\u001B[38;5;124m'\u001B[39m\u001B[38;5;124maxes\u001B[39m\u001B[38;5;124m'\u001B[39m)\n\u001B[1;32m   3111\u001B[0m \u001B[38;5;28mself\u001B[39m\u001B[38;5;241m.\u001B[39mstale \u001B[38;5;241m=\u001B[39m \u001B[38;5;28;01mFalse\u001B[39;00m\n",
      "File \u001B[0;32m~/miniforge3/lib/python3.10/site-packages/matplotlib/image.py:131\u001B[0m, in \u001B[0;36m_draw_list_compositing_images\u001B[0;34m(renderer, parent, artists, suppress_composite)\u001B[0m\n\u001B[1;32m    129\u001B[0m \u001B[38;5;28;01mif\u001B[39;00m not_composite \u001B[38;5;129;01mor\u001B[39;00m \u001B[38;5;129;01mnot\u001B[39;00m has_images:\n\u001B[1;32m    130\u001B[0m     \u001B[38;5;28;01mfor\u001B[39;00m a \u001B[38;5;129;01min\u001B[39;00m artists:\n\u001B[0;32m--> 131\u001B[0m         \u001B[43ma\u001B[49m\u001B[38;5;241;43m.\u001B[39;49m\u001B[43mdraw\u001B[49m\u001B[43m(\u001B[49m\u001B[43mrenderer\u001B[49m\u001B[43m)\u001B[49m\n\u001B[1;32m    132\u001B[0m \u001B[38;5;28;01melse\u001B[39;00m:\n\u001B[1;32m    133\u001B[0m     \u001B[38;5;66;03m# Composite any adjacent images together\u001B[39;00m\n\u001B[1;32m    134\u001B[0m     image_group \u001B[38;5;241m=\u001B[39m []\n",
      "File \u001B[0;32m~/miniforge3/lib/python3.10/site-packages/matplotlib/artist.py:51\u001B[0m, in \u001B[0;36mallow_rasterization.<locals>.draw_wrapper\u001B[0;34m(artist, renderer)\u001B[0m\n\u001B[1;32m     48\u001B[0m     \u001B[38;5;28;01mif\u001B[39;00m artist\u001B[38;5;241m.\u001B[39mget_agg_filter() \u001B[38;5;129;01mis\u001B[39;00m \u001B[38;5;129;01mnot\u001B[39;00m \u001B[38;5;28;01mNone\u001B[39;00m:\n\u001B[1;32m     49\u001B[0m         renderer\u001B[38;5;241m.\u001B[39mstart_filter()\n\u001B[0;32m---> 51\u001B[0m     \u001B[38;5;28;01mreturn\u001B[39;00m \u001B[43mdraw\u001B[49m\u001B[43m(\u001B[49m\u001B[43martist\u001B[49m\u001B[43m,\u001B[49m\u001B[43m \u001B[49m\u001B[43mrenderer\u001B[49m\u001B[43m)\u001B[49m\n\u001B[1;32m     52\u001B[0m \u001B[38;5;28;01mfinally\u001B[39;00m:\n\u001B[1;32m     53\u001B[0m     \u001B[38;5;28;01mif\u001B[39;00m artist\u001B[38;5;241m.\u001B[39mget_agg_filter() \u001B[38;5;129;01mis\u001B[39;00m \u001B[38;5;129;01mnot\u001B[39;00m \u001B[38;5;28;01mNone\u001B[39;00m:\n",
      "File \u001B[0;32m~/miniforge3/lib/python3.10/site-packages/matplotlib/text.py:687\u001B[0m, in \u001B[0;36mText.draw\u001B[0;34m(self, renderer)\u001B[0m\n\u001B[1;32m    684\u001B[0m renderer\u001B[38;5;241m.\u001B[39mopen_group(\u001B[38;5;124m'\u001B[39m\u001B[38;5;124mtext\u001B[39m\u001B[38;5;124m'\u001B[39m, \u001B[38;5;28mself\u001B[39m\u001B[38;5;241m.\u001B[39mget_gid())\n\u001B[1;32m    686\u001B[0m \u001B[38;5;28;01mwith\u001B[39;00m \u001B[38;5;28mself\u001B[39m\u001B[38;5;241m.\u001B[39m_cm_set(text\u001B[38;5;241m=\u001B[39m\u001B[38;5;28mself\u001B[39m\u001B[38;5;241m.\u001B[39m_get_wrapped_text()):\n\u001B[0;32m--> 687\u001B[0m     bbox, info, descent \u001B[38;5;241m=\u001B[39m \u001B[38;5;28;43mself\u001B[39;49m\u001B[38;5;241;43m.\u001B[39;49m\u001B[43m_get_layout\u001B[49m\u001B[43m(\u001B[49m\u001B[43mrenderer\u001B[49m\u001B[43m)\u001B[49m\n\u001B[1;32m    688\u001B[0m     trans \u001B[38;5;241m=\u001B[39m \u001B[38;5;28mself\u001B[39m\u001B[38;5;241m.\u001B[39mget_transform()\n\u001B[1;32m    690\u001B[0m     \u001B[38;5;66;03m# don't use self.get_position here, which refers to text\u001B[39;00m\n\u001B[1;32m    691\u001B[0m     \u001B[38;5;66;03m# position in Text:\u001B[39;00m\n",
      "File \u001B[0;32m~/miniforge3/lib/python3.10/site-packages/matplotlib/text.py:321\u001B[0m, in \u001B[0;36mText._get_layout\u001B[0;34m(self, renderer)\u001B[0m\n\u001B[1;32m    319\u001B[0m clean_line, ismath \u001B[38;5;241m=\u001B[39m \u001B[38;5;28mself\u001B[39m\u001B[38;5;241m.\u001B[39m_preprocess_math(line)\n\u001B[1;32m    320\u001B[0m \u001B[38;5;28;01mif\u001B[39;00m clean_line:\n\u001B[0;32m--> 321\u001B[0m     w, h, d \u001B[38;5;241m=\u001B[39m \u001B[43m_get_text_metrics_with_cache\u001B[49m\u001B[43m(\u001B[49m\n\u001B[1;32m    322\u001B[0m \u001B[43m        \u001B[49m\u001B[43mrenderer\u001B[49m\u001B[43m,\u001B[49m\u001B[43m \u001B[49m\u001B[43mclean_line\u001B[49m\u001B[43m,\u001B[49m\u001B[43m \u001B[49m\u001B[38;5;28;43mself\u001B[39;49m\u001B[38;5;241;43m.\u001B[39;49m\u001B[43m_fontproperties\u001B[49m\u001B[43m,\u001B[49m\n\u001B[1;32m    323\u001B[0m \u001B[43m        \u001B[49m\u001B[43mismath\u001B[49m\u001B[38;5;241;43m=\u001B[39;49m\u001B[43mismath\u001B[49m\u001B[43m,\u001B[49m\u001B[43m \u001B[49m\u001B[43mdpi\u001B[49m\u001B[38;5;241;43m=\u001B[39;49m\u001B[38;5;28;43mself\u001B[39;49m\u001B[38;5;241;43m.\u001B[39;49m\u001B[43mfigure\u001B[49m\u001B[38;5;241;43m.\u001B[39;49m\u001B[43mdpi\u001B[49m\u001B[43m)\u001B[49m\n\u001B[1;32m    324\u001B[0m \u001B[38;5;28;01melse\u001B[39;00m:\n\u001B[1;32m    325\u001B[0m     w \u001B[38;5;241m=\u001B[39m h \u001B[38;5;241m=\u001B[39m d \u001B[38;5;241m=\u001B[39m \u001B[38;5;241m0\u001B[39m\n",
      "File \u001B[0;32m~/miniforge3/lib/python3.10/site-packages/matplotlib/text.py:97\u001B[0m, in \u001B[0;36m_get_text_metrics_with_cache\u001B[0;34m(renderer, text, fontprop, ismath, dpi)\u001B[0m\n\u001B[1;32m     94\u001B[0m \u001B[38;5;124;03m\"\"\"Call ``renderer.get_text_width_height_descent``, caching the results.\"\"\"\u001B[39;00m\n\u001B[1;32m     95\u001B[0m \u001B[38;5;66;03m# Cached based on a copy of fontprop so that later in-place mutations of\u001B[39;00m\n\u001B[1;32m     96\u001B[0m \u001B[38;5;66;03m# the passed-in argument do not mess up the cache.\u001B[39;00m\n\u001B[0;32m---> 97\u001B[0m \u001B[38;5;28;01mreturn\u001B[39;00m \u001B[43m_get_text_metrics_with_cache_impl\u001B[49m\u001B[43m(\u001B[49m\n\u001B[1;32m     98\u001B[0m \u001B[43m    \u001B[49m\u001B[43mweakref\u001B[49m\u001B[38;5;241;43m.\u001B[39;49m\u001B[43mref\u001B[49m\u001B[43m(\u001B[49m\u001B[43mrenderer\u001B[49m\u001B[43m)\u001B[49m\u001B[43m,\u001B[49m\u001B[43m \u001B[49m\u001B[43mtext\u001B[49m\u001B[43m,\u001B[49m\u001B[43m \u001B[49m\u001B[43mfontprop\u001B[49m\u001B[38;5;241;43m.\u001B[39;49m\u001B[43mcopy\u001B[49m\u001B[43m(\u001B[49m\u001B[43m)\u001B[49m\u001B[43m,\u001B[49m\u001B[43m \u001B[49m\u001B[43mismath\u001B[49m\u001B[43m,\u001B[49m\u001B[43m \u001B[49m\u001B[43mdpi\u001B[49m\u001B[43m)\u001B[49m\n",
      "File \u001B[0;32m~/miniforge3/lib/python3.10/site-packages/matplotlib/text.py:105\u001B[0m, in \u001B[0;36m_get_text_metrics_with_cache_impl\u001B[0;34m(renderer_ref, text, fontprop, ismath, dpi)\u001B[0m\n\u001B[1;32m    101\u001B[0m \u001B[38;5;129m@functools\u001B[39m\u001B[38;5;241m.\u001B[39mlru_cache(\u001B[38;5;241m4096\u001B[39m)\n\u001B[1;32m    102\u001B[0m \u001B[38;5;28;01mdef\u001B[39;00m \u001B[38;5;21m_get_text_metrics_with_cache_impl\u001B[39m(\n\u001B[1;32m    103\u001B[0m         renderer_ref, text, fontprop, ismath, dpi):\n\u001B[1;32m    104\u001B[0m     \u001B[38;5;66;03m# dpi is unused, but participates in cache invalidation (via the renderer).\u001B[39;00m\n\u001B[0;32m--> 105\u001B[0m     \u001B[38;5;28;01mreturn\u001B[39;00m \u001B[43mrenderer_ref\u001B[49m\u001B[43m(\u001B[49m\u001B[43m)\u001B[49m\u001B[38;5;241;43m.\u001B[39;49m\u001B[43mget_text_width_height_descent\u001B[49m\u001B[43m(\u001B[49m\u001B[43mtext\u001B[49m\u001B[43m,\u001B[49m\u001B[43m \u001B[49m\u001B[43mfontprop\u001B[49m\u001B[43m,\u001B[49m\u001B[43m \u001B[49m\u001B[43mismath\u001B[49m\u001B[43m)\u001B[49m\n",
      "File \u001B[0;32m~/miniforge3/lib/python3.10/site-packages/matplotlib/backends/backend_agg.py:229\u001B[0m, in \u001B[0;36mRendererAgg.get_text_width_height_descent\u001B[0;34m(self, s, prop, ismath)\u001B[0m\n\u001B[1;32m    227\u001B[0m     texmanager \u001B[38;5;241m=\u001B[39m \u001B[38;5;28mself\u001B[39m\u001B[38;5;241m.\u001B[39mget_texmanager()\n\u001B[1;32m    228\u001B[0m     fontsize \u001B[38;5;241m=\u001B[39m prop\u001B[38;5;241m.\u001B[39mget_size_in_points()\n\u001B[0;32m--> 229\u001B[0m     w, h, d \u001B[38;5;241m=\u001B[39m \u001B[43mtexmanager\u001B[49m\u001B[38;5;241;43m.\u001B[39;49m\u001B[43mget_text_width_height_descent\u001B[49m\u001B[43m(\u001B[49m\n\u001B[1;32m    230\u001B[0m \u001B[43m        \u001B[49m\u001B[43ms\u001B[49m\u001B[43m,\u001B[49m\u001B[43m \u001B[49m\u001B[43mfontsize\u001B[49m\u001B[43m,\u001B[49m\u001B[43m \u001B[49m\u001B[43mrenderer\u001B[49m\u001B[38;5;241;43m=\u001B[39;49m\u001B[38;5;28;43mself\u001B[39;49m\u001B[43m)\u001B[49m\n\u001B[1;32m    231\u001B[0m     \u001B[38;5;28;01mreturn\u001B[39;00m w, h, d\n\u001B[1;32m    233\u001B[0m \u001B[38;5;28;01mif\u001B[39;00m ismath:\n",
      "File \u001B[0;32m~/miniforge3/lib/python3.10/site-packages/matplotlib/texmanager.py:362\u001B[0m, in \u001B[0;36mTexManager.get_text_width_height_descent\u001B[0;34m(cls, tex, fontsize, renderer)\u001B[0m\n\u001B[1;32m    360\u001B[0m \u001B[38;5;28;01mif\u001B[39;00m tex\u001B[38;5;241m.\u001B[39mstrip() \u001B[38;5;241m==\u001B[39m \u001B[38;5;124m'\u001B[39m\u001B[38;5;124m'\u001B[39m:\n\u001B[1;32m    361\u001B[0m     \u001B[38;5;28;01mreturn\u001B[39;00m \u001B[38;5;241m0\u001B[39m, \u001B[38;5;241m0\u001B[39m, \u001B[38;5;241m0\u001B[39m\n\u001B[0;32m--> 362\u001B[0m dvifile \u001B[38;5;241m=\u001B[39m \u001B[38;5;28;43mcls\u001B[39;49m\u001B[38;5;241;43m.\u001B[39;49m\u001B[43mmake_dvi\u001B[49m\u001B[43m(\u001B[49m\u001B[43mtex\u001B[49m\u001B[43m,\u001B[49m\u001B[43m \u001B[49m\u001B[43mfontsize\u001B[49m\u001B[43m)\u001B[49m\n\u001B[1;32m    363\u001B[0m dpi_fraction \u001B[38;5;241m=\u001B[39m renderer\u001B[38;5;241m.\u001B[39mpoints_to_pixels(\u001B[38;5;241m1.\u001B[39m) \u001B[38;5;28;01mif\u001B[39;00m renderer \u001B[38;5;28;01melse\u001B[39;00m \u001B[38;5;241m1\u001B[39m\n\u001B[1;32m    364\u001B[0m \u001B[38;5;28;01mwith\u001B[39;00m dviread\u001B[38;5;241m.\u001B[39mDvi(dvifile, \u001B[38;5;241m72\u001B[39m \u001B[38;5;241m*\u001B[39m dpi_fraction) \u001B[38;5;28;01mas\u001B[39;00m dvi:\n",
      "File \u001B[0;32m~/miniforge3/lib/python3.10/site-packages/matplotlib/texmanager.py:295\u001B[0m, in \u001B[0;36mTexManager.make_dvi\u001B[0;34m(cls, tex, fontsize)\u001B[0m\n\u001B[1;32m    286\u001B[0m     \u001B[38;5;66;03m# Generate the dvi in a temporary directory to avoid race\u001B[39;00m\n\u001B[1;32m    287\u001B[0m     \u001B[38;5;66;03m# conditions e.g. if multiple processes try to process the same tex\u001B[39;00m\n\u001B[1;32m    288\u001B[0m     \u001B[38;5;66;03m# string at the same time.  Having tmpdir be a subdirectory of the\u001B[39;00m\n\u001B[0;32m   (...)\u001B[0m\n\u001B[1;32m    292\u001B[0m     \u001B[38;5;66;03m# the absolute path may contain characters (e.g. ~) that TeX does\u001B[39;00m\n\u001B[1;32m    293\u001B[0m     \u001B[38;5;66;03m# not support.)\u001B[39;00m\n\u001B[1;32m    294\u001B[0m     \u001B[38;5;28;01mwith\u001B[39;00m TemporaryDirectory(\u001B[38;5;28mdir\u001B[39m\u001B[38;5;241m=\u001B[39mPath(dvifile)\u001B[38;5;241m.\u001B[39mparent) \u001B[38;5;28;01mas\u001B[39;00m tmpdir:\n\u001B[0;32m--> 295\u001B[0m         \u001B[38;5;28;43mcls\u001B[39;49m\u001B[38;5;241;43m.\u001B[39;49m\u001B[43m_run_checked_subprocess\u001B[49m\u001B[43m(\u001B[49m\n\u001B[1;32m    296\u001B[0m \u001B[43m            \u001B[49m\u001B[43m[\u001B[49m\u001B[38;5;124;43m\"\u001B[39;49m\u001B[38;5;124;43mlatex\u001B[39;49m\u001B[38;5;124;43m\"\u001B[39;49m\u001B[43m,\u001B[49m\u001B[43m \u001B[49m\u001B[38;5;124;43m\"\u001B[39;49m\u001B[38;5;124;43m-interaction=nonstopmode\u001B[39;49m\u001B[38;5;124;43m\"\u001B[39;49m\u001B[43m,\u001B[49m\u001B[43m \u001B[49m\u001B[38;5;124;43m\"\u001B[39;49m\u001B[38;5;124;43m--halt-on-error\u001B[39;49m\u001B[38;5;124;43m\"\u001B[39;49m\u001B[43m,\u001B[49m\n\u001B[1;32m    297\u001B[0m \u001B[43m             \u001B[49m\u001B[38;5;124;43mf\u001B[39;49m\u001B[38;5;124;43m\"\u001B[39;49m\u001B[38;5;124;43m../\u001B[39;49m\u001B[38;5;132;43;01m{\u001B[39;49;00m\u001B[43mtexfile\u001B[49m\u001B[38;5;241;43m.\u001B[39;49m\u001B[43mname\u001B[49m\u001B[38;5;132;43;01m}\u001B[39;49;00m\u001B[38;5;124;43m\"\u001B[39;49m\u001B[43m]\u001B[49m\u001B[43m,\u001B[49m\u001B[43m \u001B[49m\u001B[43mtex\u001B[49m\u001B[43m,\u001B[49m\u001B[43m \u001B[49m\u001B[43mcwd\u001B[49m\u001B[38;5;241;43m=\u001B[39;49m\u001B[43mtmpdir\u001B[49m\u001B[43m)\u001B[49m\n\u001B[1;32m    298\u001B[0m         (Path(tmpdir) \u001B[38;5;241m/\u001B[39m Path(dvifile)\u001B[38;5;241m.\u001B[39mname)\u001B[38;5;241m.\u001B[39mreplace(dvifile)\n\u001B[1;32m    299\u001B[0m \u001B[38;5;28;01mreturn\u001B[39;00m dvifile\n",
      "File \u001B[0;32m~/miniforge3/lib/python3.10/site-packages/matplotlib/texmanager.py:261\u001B[0m, in \u001B[0;36mTexManager._run_checked_subprocess\u001B[0;34m(cls, command, tex, cwd)\u001B[0m\n\u001B[1;32m    257\u001B[0m     \u001B[38;5;28;01mraise\u001B[39;00m \u001B[38;5;167;01mRuntimeError\u001B[39;00m(\n\u001B[1;32m    258\u001B[0m         \u001B[38;5;124m'\u001B[39m\u001B[38;5;124mFailed to process string with tex because \u001B[39m\u001B[38;5;132;01m{}\u001B[39;00m\u001B[38;5;124m could not be \u001B[39m\u001B[38;5;124m'\u001B[39m\n\u001B[1;32m    259\u001B[0m         \u001B[38;5;124m'\u001B[39m\u001B[38;5;124mfound\u001B[39m\u001B[38;5;124m'\u001B[39m\u001B[38;5;241m.\u001B[39mformat(command[\u001B[38;5;241m0\u001B[39m])) \u001B[38;5;28;01mfrom\u001B[39;00m \u001B[38;5;21;01mexc\u001B[39;00m\n\u001B[1;32m    260\u001B[0m \u001B[38;5;28;01mexcept\u001B[39;00m subprocess\u001B[38;5;241m.\u001B[39mCalledProcessError \u001B[38;5;28;01mas\u001B[39;00m exc:\n\u001B[0;32m--> 261\u001B[0m     \u001B[38;5;28;01mraise\u001B[39;00m \u001B[38;5;167;01mRuntimeError\u001B[39;00m(\n\u001B[1;32m    262\u001B[0m         \u001B[38;5;124m'\u001B[39m\u001B[38;5;132;01m{prog}\u001B[39;00m\u001B[38;5;124m was not able to process the following string:\u001B[39m\u001B[38;5;130;01m\\n\u001B[39;00m\u001B[38;5;124m'\u001B[39m\n\u001B[1;32m    263\u001B[0m         \u001B[38;5;124m'\u001B[39m\u001B[38;5;132;01m{tex!r}\u001B[39;00m\u001B[38;5;130;01m\\n\u001B[39;00m\u001B[38;5;130;01m\\n\u001B[39;00m\u001B[38;5;124m'\u001B[39m\n\u001B[1;32m    264\u001B[0m         \u001B[38;5;124m'\u001B[39m\u001B[38;5;124mHere is the full command invocation and its output:\u001B[39m\u001B[38;5;130;01m\\n\u001B[39;00m\u001B[38;5;130;01m\\n\u001B[39;00m\u001B[38;5;124m'\u001B[39m\n\u001B[1;32m    265\u001B[0m         \u001B[38;5;124m'\u001B[39m\u001B[38;5;132;01m{format_command}\u001B[39;00m\u001B[38;5;130;01m\\n\u001B[39;00m\u001B[38;5;130;01m\\n\u001B[39;00m\u001B[38;5;124m'\u001B[39m\n\u001B[1;32m    266\u001B[0m         \u001B[38;5;124m'\u001B[39m\u001B[38;5;132;01m{exc}\u001B[39;00m\u001B[38;5;130;01m\\n\u001B[39;00m\u001B[38;5;130;01m\\n\u001B[39;00m\u001B[38;5;124m'\u001B[39m\u001B[38;5;241m.\u001B[39mformat(\n\u001B[1;32m    267\u001B[0m             prog\u001B[38;5;241m=\u001B[39mcommand[\u001B[38;5;241m0\u001B[39m],\n\u001B[1;32m    268\u001B[0m             format_command\u001B[38;5;241m=\u001B[39mcbook\u001B[38;5;241m.\u001B[39m_pformat_subprocess(command),\n\u001B[1;32m    269\u001B[0m             tex\u001B[38;5;241m=\u001B[39mtex\u001B[38;5;241m.\u001B[39mencode(\u001B[38;5;124m'\u001B[39m\u001B[38;5;124municode_escape\u001B[39m\u001B[38;5;124m'\u001B[39m),\n\u001B[1;32m    270\u001B[0m             exc\u001B[38;5;241m=\u001B[39mexc\u001B[38;5;241m.\u001B[39moutput\u001B[38;5;241m.\u001B[39mdecode(\u001B[38;5;124m'\u001B[39m\u001B[38;5;124mutf-8\u001B[39m\u001B[38;5;124m'\u001B[39m, \u001B[38;5;124m'\u001B[39m\u001B[38;5;124mbackslashreplace\u001B[39m\u001B[38;5;124m'\u001B[39m))\n\u001B[1;32m    271\u001B[0m         ) \u001B[38;5;28;01mfrom\u001B[39;00m \u001B[38;5;28mNone\u001B[39m\n\u001B[1;32m    272\u001B[0m _log\u001B[38;5;241m.\u001B[39mdebug(report)\n\u001B[1;32m    273\u001B[0m \u001B[38;5;28;01mreturn\u001B[39;00m report\n",
      "\u001B[0;31mRuntimeError\u001B[0m: latex was not able to process the following string:\nb'$$'\n\nHere is the full command invocation and its output:\n\nlatex -interaction=nonstopmode --halt-on-error ../1bcf7fb91a305bc2532e50e653b39cab.tex\n\nThis is pdfTeX, Version 3.141592653-2.6-1.40.24 (TeX Live 2022/Homebrew) (preloaded format=latex)\n restricted \\write18 enabled.\nentering extended mode\n(../1bcf7fb91a305bc2532e50e653b39cab.tex\nLaTeX2e <2021-11-15> patch level 1\nL3 programming layer <2022-02-24>\n(/opt/homebrew/Cellar/texlive/20220321_3/share/texmf-dist/tex/latex/base/articl\ne.cls\nDocument Class: article 2021/10/04 v1.4n Standard LaTeX document class\n\n(/opt/homebrew/Cellar/texlive/20220321_3/share/texmf-dist/tex/latex/base/size10\n.clo))\n(/opt/homebrew/Cellar/texlive/20220321_3/share/texmf-dist/tex/latex/type1cm/typ\ne1cm.sty)\n(/opt/homebrew/Cellar/texlive/20220321_3/share/texmf-dist/tex/latex/cm-super/ty\npe1ec.sty\n(/opt/homebrew/Cellar/texlive/20220321_3/share/texmf-dist/tex/latex/base/t1cmr.\nfd))\n(/opt/homebrew/Cellar/texlive/20220321_3/share/texmf-dist/tex/latex/base/inpute\nnc.sty)\n(/opt/homebrew/Cellar/texlive/20220321_3/share/texmf-dist/tex/latex/geometry/ge\nometry.sty\n(/opt/homebrew/Cellar/texlive/20220321_3/share/texmf-dist/tex/latex/graphics/ke\nyval.sty)\n(/opt/homebrew/Cellar/texlive/20220321_3/share/texmf-dist/tex/generic/iftex/ifv\ntex.sty\n(/opt/homebrew/Cellar/texlive/20220321_3/share/texmf-dist/tex/generic/iftex/ift\nex.sty)))\n(/opt/homebrew/Cellar/texlive/20220321_3/share/texmf-dist/tex/latex/amsmath/ams\nmath.sty\nFor additional information on amsmath, use the `?' option.\n\n(/opt/homebrew/Cellar/texlive/20220321_3/share/texmf-dist/tex/latex/amsmath/ams\ntext.sty\n(/opt/homebrew/Cellar/texlive/20220321_3/share/texmf-dist/tex/latex/amsmath/ams\ngen.sty))\n(/opt/homebrew/Cellar/texlive/20220321_3/share/texmf-dist/tex/latex/amsmath/ams\nbsy.sty)\n(/opt/homebrew/Cellar/texlive/20220321_3/share/texmf-dist/tex/latex/amsmath/ams\nopn.sty))\n(/opt/homebrew/Cellar/texlive/20220321_3/share/texmf-dist/tex/latex/underscore/\nunderscore.sty)\n(/opt/homebrew/Cellar/texlive/20220321_3/share/texmf-dist/tex/latex/base/textco\nmp.sty)\n(/opt/homebrew/Cellar/texlive/20220321_3/share/texmf-dist/tex/latex/l3backend/l\n3backend-dvips.def)\nNo file 1bcf7fb91a305bc2532e50e653b39cab.aux.\n*geometry* driver: auto-detecting\n*geometry* detected driver: dvips\n\nLaTeX Font Warning: Font shape `OMX/cmex/m/n' in size <20> not available\n(Font)              size <20.74> substituted on input line 29.\n\n\nLaTeX Font Warning: Font shape `OMX/cmex/m/n' in size <13.99994> not available\n(Font)              size <14.4> substituted on input line 29.\n\n! Extra }, or forgotten $.\nl.29 {\\sffamily $$}\n                   %\nNo pages of output.\nTranscript written on 1bcf7fb91a305bc2532e50e653b39cab.log.\n\n\n"
     ]
    },
    {
     "ename": "RuntimeError",
     "evalue": "latex was not able to process the following string:\nb'$$'\n\nHere is the full command invocation and its output:\n\nlatex -interaction=nonstopmode --halt-on-error ../1bcf7fb91a305bc2532e50e653b39cab.tex\n\nThis is pdfTeX, Version 3.141592653-2.6-1.40.24 (TeX Live 2022/Homebrew) (preloaded format=latex)\n restricted \\write18 enabled.\nentering extended mode\n(../1bcf7fb91a305bc2532e50e653b39cab.tex\nLaTeX2e <2021-11-15> patch level 1\nL3 programming layer <2022-02-24>\n(/opt/homebrew/Cellar/texlive/20220321_3/share/texmf-dist/tex/latex/base/articl\ne.cls\nDocument Class: article 2021/10/04 v1.4n Standard LaTeX document class\n\n(/opt/homebrew/Cellar/texlive/20220321_3/share/texmf-dist/tex/latex/base/size10\n.clo))\n(/opt/homebrew/Cellar/texlive/20220321_3/share/texmf-dist/tex/latex/type1cm/typ\ne1cm.sty)\n(/opt/homebrew/Cellar/texlive/20220321_3/share/texmf-dist/tex/latex/cm-super/ty\npe1ec.sty\n(/opt/homebrew/Cellar/texlive/20220321_3/share/texmf-dist/tex/latex/base/t1cmr.\nfd))\n(/opt/homebrew/Cellar/texlive/20220321_3/share/texmf-dist/tex/latex/base/inpute\nnc.sty)\n(/opt/homebrew/Cellar/texlive/20220321_3/share/texmf-dist/tex/latex/geometry/ge\nometry.sty\n(/opt/homebrew/Cellar/texlive/20220321_3/share/texmf-dist/tex/latex/graphics/ke\nyval.sty)\n(/opt/homebrew/Cellar/texlive/20220321_3/share/texmf-dist/tex/generic/iftex/ifv\ntex.sty\n(/opt/homebrew/Cellar/texlive/20220321_3/share/texmf-dist/tex/generic/iftex/ift\nex.sty)))\n(/opt/homebrew/Cellar/texlive/20220321_3/share/texmf-dist/tex/latex/amsmath/ams\nmath.sty\nFor additional information on amsmath, use the `?' option.\n\n(/opt/homebrew/Cellar/texlive/20220321_3/share/texmf-dist/tex/latex/amsmath/ams\ntext.sty\n(/opt/homebrew/Cellar/texlive/20220321_3/share/texmf-dist/tex/latex/amsmath/ams\ngen.sty))\n(/opt/homebrew/Cellar/texlive/20220321_3/share/texmf-dist/tex/latex/amsmath/ams\nbsy.sty)\n(/opt/homebrew/Cellar/texlive/20220321_3/share/texmf-dist/tex/latex/amsmath/ams\nopn.sty))\n(/opt/homebrew/Cellar/texlive/20220321_3/share/texmf-dist/tex/latex/underscore/\nunderscore.sty)\n(/opt/homebrew/Cellar/texlive/20220321_3/share/texmf-dist/tex/latex/base/textco\nmp.sty)\n(/opt/homebrew/Cellar/texlive/20220321_3/share/texmf-dist/tex/latex/l3backend/l\n3backend-dvips.def)\nNo file 1bcf7fb91a305bc2532e50e653b39cab.aux.\n*geometry* driver: auto-detecting\n*geometry* detected driver: dvips\n\nLaTeX Font Warning: Font shape `OMX/cmex/m/n' in size <20> not available\n(Font)              size <20.74> substituted on input line 29.\n\n\nLaTeX Font Warning: Font shape `OMX/cmex/m/n' in size <13.99994> not available\n(Font)              size <14.4> substituted on input line 29.\n\n! Extra }, or forgotten $.\nl.29 {\\sffamily $$}\n                   %\nNo pages of output.\nTranscript written on 1bcf7fb91a305bc2532e50e653b39cab.log.\n\n\n",
     "output_type": "error",
     "traceback": [
      "\u001B[0;31m---------------------------------------------------------------------------\u001B[0m",
      "\u001B[0;31mRuntimeError\u001B[0m                              Traceback (most recent call last)",
      "File \u001B[0;32m~/miniforge3/lib/python3.10/site-packages/IPython/core/formatters.py:339\u001B[0m, in \u001B[0;36mBaseFormatter.__call__\u001B[0;34m(self, obj)\u001B[0m\n\u001B[1;32m    337\u001B[0m     \u001B[38;5;28;01mpass\u001B[39;00m\n\u001B[1;32m    338\u001B[0m \u001B[38;5;28;01melse\u001B[39;00m:\n\u001B[0;32m--> 339\u001B[0m     \u001B[38;5;28;01mreturn\u001B[39;00m \u001B[43mprinter\u001B[49m\u001B[43m(\u001B[49m\u001B[43mobj\u001B[49m\u001B[43m)\u001B[49m\n\u001B[1;32m    340\u001B[0m \u001B[38;5;66;03m# Finally look for special method names\u001B[39;00m\n\u001B[1;32m    341\u001B[0m method \u001B[38;5;241m=\u001B[39m get_real_method(obj, \u001B[38;5;28mself\u001B[39m\u001B[38;5;241m.\u001B[39mprint_method)\n",
      "File \u001B[0;32m~/miniforge3/lib/python3.10/site-packages/IPython/core/pylabtools.py:151\u001B[0m, in \u001B[0;36mprint_figure\u001B[0;34m(fig, fmt, bbox_inches, base64, **kwargs)\u001B[0m\n\u001B[1;32m    148\u001B[0m     \u001B[38;5;28;01mfrom\u001B[39;00m \u001B[38;5;21;01mmatplotlib\u001B[39;00m\u001B[38;5;21;01m.\u001B[39;00m\u001B[38;5;21;01mbackend_bases\u001B[39;00m \u001B[38;5;28;01mimport\u001B[39;00m FigureCanvasBase\n\u001B[1;32m    149\u001B[0m     FigureCanvasBase(fig)\n\u001B[0;32m--> 151\u001B[0m \u001B[43mfig\u001B[49m\u001B[38;5;241;43m.\u001B[39;49m\u001B[43mcanvas\u001B[49m\u001B[38;5;241;43m.\u001B[39;49m\u001B[43mprint_figure\u001B[49m\u001B[43m(\u001B[49m\u001B[43mbytes_io\u001B[49m\u001B[43m,\u001B[49m\u001B[43m \u001B[49m\u001B[38;5;241;43m*\u001B[39;49m\u001B[38;5;241;43m*\u001B[39;49m\u001B[43mkw\u001B[49m\u001B[43m)\u001B[49m\n\u001B[1;32m    152\u001B[0m data \u001B[38;5;241m=\u001B[39m bytes_io\u001B[38;5;241m.\u001B[39mgetvalue()\n\u001B[1;32m    153\u001B[0m \u001B[38;5;28;01mif\u001B[39;00m fmt \u001B[38;5;241m==\u001B[39m \u001B[38;5;124m'\u001B[39m\u001B[38;5;124msvg\u001B[39m\u001B[38;5;124m'\u001B[39m:\n",
      "File \u001B[0;32m~/miniforge3/lib/python3.10/site-packages/matplotlib/backend_bases.py:2314\u001B[0m, in \u001B[0;36mFigureCanvasBase.print_figure\u001B[0;34m(self, filename, dpi, facecolor, edgecolor, orientation, format, bbox_inches, pad_inches, bbox_extra_artists, backend, **kwargs)\u001B[0m\n\u001B[1;32m   2308\u001B[0m     renderer \u001B[38;5;241m=\u001B[39m _get_renderer(\n\u001B[1;32m   2309\u001B[0m         \u001B[38;5;28mself\u001B[39m\u001B[38;5;241m.\u001B[39mfigure,\n\u001B[1;32m   2310\u001B[0m         functools\u001B[38;5;241m.\u001B[39mpartial(\n\u001B[1;32m   2311\u001B[0m             print_method, orientation\u001B[38;5;241m=\u001B[39morientation)\n\u001B[1;32m   2312\u001B[0m     )\n\u001B[1;32m   2313\u001B[0m     \u001B[38;5;28;01mwith\u001B[39;00m \u001B[38;5;28mgetattr\u001B[39m(renderer, \u001B[38;5;124m\"\u001B[39m\u001B[38;5;124m_draw_disabled\u001B[39m\u001B[38;5;124m\"\u001B[39m, nullcontext)():\n\u001B[0;32m-> 2314\u001B[0m         \u001B[38;5;28;43mself\u001B[39;49m\u001B[38;5;241;43m.\u001B[39;49m\u001B[43mfigure\u001B[49m\u001B[38;5;241;43m.\u001B[39;49m\u001B[43mdraw\u001B[49m\u001B[43m(\u001B[49m\u001B[43mrenderer\u001B[49m\u001B[43m)\u001B[49m\n\u001B[1;32m   2316\u001B[0m \u001B[38;5;28;01mif\u001B[39;00m bbox_inches:\n\u001B[1;32m   2317\u001B[0m     \u001B[38;5;28;01mif\u001B[39;00m bbox_inches \u001B[38;5;241m==\u001B[39m \u001B[38;5;124m\"\u001B[39m\u001B[38;5;124mtight\u001B[39m\u001B[38;5;124m\"\u001B[39m:\n",
      "File \u001B[0;32m~/miniforge3/lib/python3.10/site-packages/matplotlib/artist.py:74\u001B[0m, in \u001B[0;36m_finalize_rasterization.<locals>.draw_wrapper\u001B[0;34m(artist, renderer, *args, **kwargs)\u001B[0m\n\u001B[1;32m     72\u001B[0m \u001B[38;5;129m@wraps\u001B[39m(draw)\n\u001B[1;32m     73\u001B[0m \u001B[38;5;28;01mdef\u001B[39;00m \u001B[38;5;21mdraw_wrapper\u001B[39m(artist, renderer, \u001B[38;5;241m*\u001B[39margs, \u001B[38;5;241m*\u001B[39m\u001B[38;5;241m*\u001B[39mkwargs):\n\u001B[0;32m---> 74\u001B[0m     result \u001B[38;5;241m=\u001B[39m \u001B[43mdraw\u001B[49m\u001B[43m(\u001B[49m\u001B[43martist\u001B[49m\u001B[43m,\u001B[49m\u001B[43m \u001B[49m\u001B[43mrenderer\u001B[49m\u001B[43m,\u001B[49m\u001B[43m \u001B[49m\u001B[38;5;241;43m*\u001B[39;49m\u001B[43margs\u001B[49m\u001B[43m,\u001B[49m\u001B[43m \u001B[49m\u001B[38;5;241;43m*\u001B[39;49m\u001B[38;5;241;43m*\u001B[39;49m\u001B[43mkwargs\u001B[49m\u001B[43m)\u001B[49m\n\u001B[1;32m     75\u001B[0m     \u001B[38;5;28;01mif\u001B[39;00m renderer\u001B[38;5;241m.\u001B[39m_rasterizing:\n\u001B[1;32m     76\u001B[0m         renderer\u001B[38;5;241m.\u001B[39mstop_rasterizing()\n",
      "File \u001B[0;32m~/miniforge3/lib/python3.10/site-packages/matplotlib/artist.py:51\u001B[0m, in \u001B[0;36mallow_rasterization.<locals>.draw_wrapper\u001B[0;34m(artist, renderer)\u001B[0m\n\u001B[1;32m     48\u001B[0m     \u001B[38;5;28;01mif\u001B[39;00m artist\u001B[38;5;241m.\u001B[39mget_agg_filter() \u001B[38;5;129;01mis\u001B[39;00m \u001B[38;5;129;01mnot\u001B[39;00m \u001B[38;5;28;01mNone\u001B[39;00m:\n\u001B[1;32m     49\u001B[0m         renderer\u001B[38;5;241m.\u001B[39mstart_filter()\n\u001B[0;32m---> 51\u001B[0m     \u001B[38;5;28;01mreturn\u001B[39;00m \u001B[43mdraw\u001B[49m\u001B[43m(\u001B[49m\u001B[43martist\u001B[49m\u001B[43m,\u001B[49m\u001B[43m \u001B[49m\u001B[43mrenderer\u001B[49m\u001B[43m)\u001B[49m\n\u001B[1;32m     52\u001B[0m \u001B[38;5;28;01mfinally\u001B[39;00m:\n\u001B[1;32m     53\u001B[0m     \u001B[38;5;28;01mif\u001B[39;00m artist\u001B[38;5;241m.\u001B[39mget_agg_filter() \u001B[38;5;129;01mis\u001B[39;00m \u001B[38;5;129;01mnot\u001B[39;00m \u001B[38;5;28;01mNone\u001B[39;00m:\n",
      "File \u001B[0;32m~/miniforge3/lib/python3.10/site-packages/matplotlib/figure.py:3071\u001B[0m, in \u001B[0;36mFigure.draw\u001B[0;34m(self, renderer)\u001B[0m\n\u001B[1;32m   3068\u001B[0m         \u001B[38;5;66;03m# ValueError can occur when resizing a window.\u001B[39;00m\n\u001B[1;32m   3070\u001B[0m \u001B[38;5;28mself\u001B[39m\u001B[38;5;241m.\u001B[39mpatch\u001B[38;5;241m.\u001B[39mdraw(renderer)\n\u001B[0;32m-> 3071\u001B[0m \u001B[43mmimage\u001B[49m\u001B[38;5;241;43m.\u001B[39;49m\u001B[43m_draw_list_compositing_images\u001B[49m\u001B[43m(\u001B[49m\n\u001B[1;32m   3072\u001B[0m \u001B[43m    \u001B[49m\u001B[43mrenderer\u001B[49m\u001B[43m,\u001B[49m\u001B[43m \u001B[49m\u001B[38;5;28;43mself\u001B[39;49m\u001B[43m,\u001B[49m\u001B[43m \u001B[49m\u001B[43martists\u001B[49m\u001B[43m,\u001B[49m\u001B[43m \u001B[49m\u001B[38;5;28;43mself\u001B[39;49m\u001B[38;5;241;43m.\u001B[39;49m\u001B[43msuppressComposite\u001B[49m\u001B[43m)\u001B[49m\n\u001B[1;32m   3074\u001B[0m \u001B[38;5;28;01mfor\u001B[39;00m sfig \u001B[38;5;129;01min\u001B[39;00m \u001B[38;5;28mself\u001B[39m\u001B[38;5;241m.\u001B[39msubfigs:\n\u001B[1;32m   3075\u001B[0m     sfig\u001B[38;5;241m.\u001B[39mdraw(renderer)\n",
      "File \u001B[0;32m~/miniforge3/lib/python3.10/site-packages/matplotlib/image.py:131\u001B[0m, in \u001B[0;36m_draw_list_compositing_images\u001B[0;34m(renderer, parent, artists, suppress_composite)\u001B[0m\n\u001B[1;32m    129\u001B[0m \u001B[38;5;28;01mif\u001B[39;00m not_composite \u001B[38;5;129;01mor\u001B[39;00m \u001B[38;5;129;01mnot\u001B[39;00m has_images:\n\u001B[1;32m    130\u001B[0m     \u001B[38;5;28;01mfor\u001B[39;00m a \u001B[38;5;129;01min\u001B[39;00m artists:\n\u001B[0;32m--> 131\u001B[0m         \u001B[43ma\u001B[49m\u001B[38;5;241;43m.\u001B[39;49m\u001B[43mdraw\u001B[49m\u001B[43m(\u001B[49m\u001B[43mrenderer\u001B[49m\u001B[43m)\u001B[49m\n\u001B[1;32m    132\u001B[0m \u001B[38;5;28;01melse\u001B[39;00m:\n\u001B[1;32m    133\u001B[0m     \u001B[38;5;66;03m# Composite any adjacent images together\u001B[39;00m\n\u001B[1;32m    134\u001B[0m     image_group \u001B[38;5;241m=\u001B[39m []\n",
      "File \u001B[0;32m~/miniforge3/lib/python3.10/site-packages/matplotlib/artist.py:51\u001B[0m, in \u001B[0;36mallow_rasterization.<locals>.draw_wrapper\u001B[0;34m(artist, renderer)\u001B[0m\n\u001B[1;32m     48\u001B[0m     \u001B[38;5;28;01mif\u001B[39;00m artist\u001B[38;5;241m.\u001B[39mget_agg_filter() \u001B[38;5;129;01mis\u001B[39;00m \u001B[38;5;129;01mnot\u001B[39;00m \u001B[38;5;28;01mNone\u001B[39;00m:\n\u001B[1;32m     49\u001B[0m         renderer\u001B[38;5;241m.\u001B[39mstart_filter()\n\u001B[0;32m---> 51\u001B[0m     \u001B[38;5;28;01mreturn\u001B[39;00m \u001B[43mdraw\u001B[49m\u001B[43m(\u001B[49m\u001B[43martist\u001B[49m\u001B[43m,\u001B[49m\u001B[43m \u001B[49m\u001B[43mrenderer\u001B[49m\u001B[43m)\u001B[49m\n\u001B[1;32m     52\u001B[0m \u001B[38;5;28;01mfinally\u001B[39;00m:\n\u001B[1;32m     53\u001B[0m     \u001B[38;5;28;01mif\u001B[39;00m artist\u001B[38;5;241m.\u001B[39mget_agg_filter() \u001B[38;5;129;01mis\u001B[39;00m \u001B[38;5;129;01mnot\u001B[39;00m \u001B[38;5;28;01mNone\u001B[39;00m:\n",
      "File \u001B[0;32m~/miniforge3/lib/python3.10/site-packages/matplotlib/axes/_base.py:3107\u001B[0m, in \u001B[0;36m_AxesBase.draw\u001B[0;34m(self, renderer)\u001B[0m\n\u001B[1;32m   3104\u001B[0m         a\u001B[38;5;241m.\u001B[39mdraw(renderer)\n\u001B[1;32m   3105\u001B[0m     renderer\u001B[38;5;241m.\u001B[39mstop_rasterizing()\n\u001B[0;32m-> 3107\u001B[0m \u001B[43mmimage\u001B[49m\u001B[38;5;241;43m.\u001B[39;49m\u001B[43m_draw_list_compositing_images\u001B[49m\u001B[43m(\u001B[49m\n\u001B[1;32m   3108\u001B[0m \u001B[43m    \u001B[49m\u001B[43mrenderer\u001B[49m\u001B[43m,\u001B[49m\u001B[43m \u001B[49m\u001B[38;5;28;43mself\u001B[39;49m\u001B[43m,\u001B[49m\u001B[43m \u001B[49m\u001B[43martists\u001B[49m\u001B[43m,\u001B[49m\u001B[43m \u001B[49m\u001B[38;5;28;43mself\u001B[39;49m\u001B[38;5;241;43m.\u001B[39;49m\u001B[43mfigure\u001B[49m\u001B[38;5;241;43m.\u001B[39;49m\u001B[43msuppressComposite\u001B[49m\u001B[43m)\u001B[49m\n\u001B[1;32m   3110\u001B[0m renderer\u001B[38;5;241m.\u001B[39mclose_group(\u001B[38;5;124m'\u001B[39m\u001B[38;5;124maxes\u001B[39m\u001B[38;5;124m'\u001B[39m)\n\u001B[1;32m   3111\u001B[0m \u001B[38;5;28mself\u001B[39m\u001B[38;5;241m.\u001B[39mstale \u001B[38;5;241m=\u001B[39m \u001B[38;5;28;01mFalse\u001B[39;00m\n",
      "File \u001B[0;32m~/miniforge3/lib/python3.10/site-packages/matplotlib/image.py:131\u001B[0m, in \u001B[0;36m_draw_list_compositing_images\u001B[0;34m(renderer, parent, artists, suppress_composite)\u001B[0m\n\u001B[1;32m    129\u001B[0m \u001B[38;5;28;01mif\u001B[39;00m not_composite \u001B[38;5;129;01mor\u001B[39;00m \u001B[38;5;129;01mnot\u001B[39;00m has_images:\n\u001B[1;32m    130\u001B[0m     \u001B[38;5;28;01mfor\u001B[39;00m a \u001B[38;5;129;01min\u001B[39;00m artists:\n\u001B[0;32m--> 131\u001B[0m         \u001B[43ma\u001B[49m\u001B[38;5;241;43m.\u001B[39;49m\u001B[43mdraw\u001B[49m\u001B[43m(\u001B[49m\u001B[43mrenderer\u001B[49m\u001B[43m)\u001B[49m\n\u001B[1;32m    132\u001B[0m \u001B[38;5;28;01melse\u001B[39;00m:\n\u001B[1;32m    133\u001B[0m     \u001B[38;5;66;03m# Composite any adjacent images together\u001B[39;00m\n\u001B[1;32m    134\u001B[0m     image_group \u001B[38;5;241m=\u001B[39m []\n",
      "File \u001B[0;32m~/miniforge3/lib/python3.10/site-packages/matplotlib/artist.py:51\u001B[0m, in \u001B[0;36mallow_rasterization.<locals>.draw_wrapper\u001B[0;34m(artist, renderer)\u001B[0m\n\u001B[1;32m     48\u001B[0m     \u001B[38;5;28;01mif\u001B[39;00m artist\u001B[38;5;241m.\u001B[39mget_agg_filter() \u001B[38;5;129;01mis\u001B[39;00m \u001B[38;5;129;01mnot\u001B[39;00m \u001B[38;5;28;01mNone\u001B[39;00m:\n\u001B[1;32m     49\u001B[0m         renderer\u001B[38;5;241m.\u001B[39mstart_filter()\n\u001B[0;32m---> 51\u001B[0m     \u001B[38;5;28;01mreturn\u001B[39;00m \u001B[43mdraw\u001B[49m\u001B[43m(\u001B[49m\u001B[43martist\u001B[49m\u001B[43m,\u001B[49m\u001B[43m \u001B[49m\u001B[43mrenderer\u001B[49m\u001B[43m)\u001B[49m\n\u001B[1;32m     52\u001B[0m \u001B[38;5;28;01mfinally\u001B[39;00m:\n\u001B[1;32m     53\u001B[0m     \u001B[38;5;28;01mif\u001B[39;00m artist\u001B[38;5;241m.\u001B[39mget_agg_filter() \u001B[38;5;129;01mis\u001B[39;00m \u001B[38;5;129;01mnot\u001B[39;00m \u001B[38;5;28;01mNone\u001B[39;00m:\n",
      "File \u001B[0;32m~/miniforge3/lib/python3.10/site-packages/matplotlib/text.py:687\u001B[0m, in \u001B[0;36mText.draw\u001B[0;34m(self, renderer)\u001B[0m\n\u001B[1;32m    684\u001B[0m renderer\u001B[38;5;241m.\u001B[39mopen_group(\u001B[38;5;124m'\u001B[39m\u001B[38;5;124mtext\u001B[39m\u001B[38;5;124m'\u001B[39m, \u001B[38;5;28mself\u001B[39m\u001B[38;5;241m.\u001B[39mget_gid())\n\u001B[1;32m    686\u001B[0m \u001B[38;5;28;01mwith\u001B[39;00m \u001B[38;5;28mself\u001B[39m\u001B[38;5;241m.\u001B[39m_cm_set(text\u001B[38;5;241m=\u001B[39m\u001B[38;5;28mself\u001B[39m\u001B[38;5;241m.\u001B[39m_get_wrapped_text()):\n\u001B[0;32m--> 687\u001B[0m     bbox, info, descent \u001B[38;5;241m=\u001B[39m \u001B[38;5;28;43mself\u001B[39;49m\u001B[38;5;241;43m.\u001B[39;49m\u001B[43m_get_layout\u001B[49m\u001B[43m(\u001B[49m\u001B[43mrenderer\u001B[49m\u001B[43m)\u001B[49m\n\u001B[1;32m    688\u001B[0m     trans \u001B[38;5;241m=\u001B[39m \u001B[38;5;28mself\u001B[39m\u001B[38;5;241m.\u001B[39mget_transform()\n\u001B[1;32m    690\u001B[0m     \u001B[38;5;66;03m# don't use self.get_position here, which refers to text\u001B[39;00m\n\u001B[1;32m    691\u001B[0m     \u001B[38;5;66;03m# position in Text:\u001B[39;00m\n",
      "File \u001B[0;32m~/miniforge3/lib/python3.10/site-packages/matplotlib/text.py:321\u001B[0m, in \u001B[0;36mText._get_layout\u001B[0;34m(self, renderer)\u001B[0m\n\u001B[1;32m    319\u001B[0m clean_line, ismath \u001B[38;5;241m=\u001B[39m \u001B[38;5;28mself\u001B[39m\u001B[38;5;241m.\u001B[39m_preprocess_math(line)\n\u001B[1;32m    320\u001B[0m \u001B[38;5;28;01mif\u001B[39;00m clean_line:\n\u001B[0;32m--> 321\u001B[0m     w, h, d \u001B[38;5;241m=\u001B[39m \u001B[43m_get_text_metrics_with_cache\u001B[49m\u001B[43m(\u001B[49m\n\u001B[1;32m    322\u001B[0m \u001B[43m        \u001B[49m\u001B[43mrenderer\u001B[49m\u001B[43m,\u001B[49m\u001B[43m \u001B[49m\u001B[43mclean_line\u001B[49m\u001B[43m,\u001B[49m\u001B[43m \u001B[49m\u001B[38;5;28;43mself\u001B[39;49m\u001B[38;5;241;43m.\u001B[39;49m\u001B[43m_fontproperties\u001B[49m\u001B[43m,\u001B[49m\n\u001B[1;32m    323\u001B[0m \u001B[43m        \u001B[49m\u001B[43mismath\u001B[49m\u001B[38;5;241;43m=\u001B[39;49m\u001B[43mismath\u001B[49m\u001B[43m,\u001B[49m\u001B[43m \u001B[49m\u001B[43mdpi\u001B[49m\u001B[38;5;241;43m=\u001B[39;49m\u001B[38;5;28;43mself\u001B[39;49m\u001B[38;5;241;43m.\u001B[39;49m\u001B[43mfigure\u001B[49m\u001B[38;5;241;43m.\u001B[39;49m\u001B[43mdpi\u001B[49m\u001B[43m)\u001B[49m\n\u001B[1;32m    324\u001B[0m \u001B[38;5;28;01melse\u001B[39;00m:\n\u001B[1;32m    325\u001B[0m     w \u001B[38;5;241m=\u001B[39m h \u001B[38;5;241m=\u001B[39m d \u001B[38;5;241m=\u001B[39m \u001B[38;5;241m0\u001B[39m\n",
      "File \u001B[0;32m~/miniforge3/lib/python3.10/site-packages/matplotlib/text.py:97\u001B[0m, in \u001B[0;36m_get_text_metrics_with_cache\u001B[0;34m(renderer, text, fontprop, ismath, dpi)\u001B[0m\n\u001B[1;32m     94\u001B[0m \u001B[38;5;124;03m\"\"\"Call ``renderer.get_text_width_height_descent``, caching the results.\"\"\"\u001B[39;00m\n\u001B[1;32m     95\u001B[0m \u001B[38;5;66;03m# Cached based on a copy of fontprop so that later in-place mutations of\u001B[39;00m\n\u001B[1;32m     96\u001B[0m \u001B[38;5;66;03m# the passed-in argument do not mess up the cache.\u001B[39;00m\n\u001B[0;32m---> 97\u001B[0m \u001B[38;5;28;01mreturn\u001B[39;00m \u001B[43m_get_text_metrics_with_cache_impl\u001B[49m\u001B[43m(\u001B[49m\n\u001B[1;32m     98\u001B[0m \u001B[43m    \u001B[49m\u001B[43mweakref\u001B[49m\u001B[38;5;241;43m.\u001B[39;49m\u001B[43mref\u001B[49m\u001B[43m(\u001B[49m\u001B[43mrenderer\u001B[49m\u001B[43m)\u001B[49m\u001B[43m,\u001B[49m\u001B[43m \u001B[49m\u001B[43mtext\u001B[49m\u001B[43m,\u001B[49m\u001B[43m \u001B[49m\u001B[43mfontprop\u001B[49m\u001B[38;5;241;43m.\u001B[39;49m\u001B[43mcopy\u001B[49m\u001B[43m(\u001B[49m\u001B[43m)\u001B[49m\u001B[43m,\u001B[49m\u001B[43m \u001B[49m\u001B[43mismath\u001B[49m\u001B[43m,\u001B[49m\u001B[43m \u001B[49m\u001B[43mdpi\u001B[49m\u001B[43m)\u001B[49m\n",
      "File \u001B[0;32m~/miniforge3/lib/python3.10/site-packages/matplotlib/text.py:105\u001B[0m, in \u001B[0;36m_get_text_metrics_with_cache_impl\u001B[0;34m(renderer_ref, text, fontprop, ismath, dpi)\u001B[0m\n\u001B[1;32m    101\u001B[0m \u001B[38;5;129m@functools\u001B[39m\u001B[38;5;241m.\u001B[39mlru_cache(\u001B[38;5;241m4096\u001B[39m)\n\u001B[1;32m    102\u001B[0m \u001B[38;5;28;01mdef\u001B[39;00m \u001B[38;5;21m_get_text_metrics_with_cache_impl\u001B[39m(\n\u001B[1;32m    103\u001B[0m         renderer_ref, text, fontprop, ismath, dpi):\n\u001B[1;32m    104\u001B[0m     \u001B[38;5;66;03m# dpi is unused, but participates in cache invalidation (via the renderer).\u001B[39;00m\n\u001B[0;32m--> 105\u001B[0m     \u001B[38;5;28;01mreturn\u001B[39;00m \u001B[43mrenderer_ref\u001B[49m\u001B[43m(\u001B[49m\u001B[43m)\u001B[49m\u001B[38;5;241;43m.\u001B[39;49m\u001B[43mget_text_width_height_descent\u001B[49m\u001B[43m(\u001B[49m\u001B[43mtext\u001B[49m\u001B[43m,\u001B[49m\u001B[43m \u001B[49m\u001B[43mfontprop\u001B[49m\u001B[43m,\u001B[49m\u001B[43m \u001B[49m\u001B[43mismath\u001B[49m\u001B[43m)\u001B[49m\n",
      "File \u001B[0;32m~/miniforge3/lib/python3.10/site-packages/matplotlib/backends/backend_agg.py:229\u001B[0m, in \u001B[0;36mRendererAgg.get_text_width_height_descent\u001B[0;34m(self, s, prop, ismath)\u001B[0m\n\u001B[1;32m    227\u001B[0m     texmanager \u001B[38;5;241m=\u001B[39m \u001B[38;5;28mself\u001B[39m\u001B[38;5;241m.\u001B[39mget_texmanager()\n\u001B[1;32m    228\u001B[0m     fontsize \u001B[38;5;241m=\u001B[39m prop\u001B[38;5;241m.\u001B[39mget_size_in_points()\n\u001B[0;32m--> 229\u001B[0m     w, h, d \u001B[38;5;241m=\u001B[39m \u001B[43mtexmanager\u001B[49m\u001B[38;5;241;43m.\u001B[39;49m\u001B[43mget_text_width_height_descent\u001B[49m\u001B[43m(\u001B[49m\n\u001B[1;32m    230\u001B[0m \u001B[43m        \u001B[49m\u001B[43ms\u001B[49m\u001B[43m,\u001B[49m\u001B[43m \u001B[49m\u001B[43mfontsize\u001B[49m\u001B[43m,\u001B[49m\u001B[43m \u001B[49m\u001B[43mrenderer\u001B[49m\u001B[38;5;241;43m=\u001B[39;49m\u001B[38;5;28;43mself\u001B[39;49m\u001B[43m)\u001B[49m\n\u001B[1;32m    231\u001B[0m     \u001B[38;5;28;01mreturn\u001B[39;00m w, h, d\n\u001B[1;32m    233\u001B[0m \u001B[38;5;28;01mif\u001B[39;00m ismath:\n",
      "File \u001B[0;32m~/miniforge3/lib/python3.10/site-packages/matplotlib/texmanager.py:362\u001B[0m, in \u001B[0;36mTexManager.get_text_width_height_descent\u001B[0;34m(cls, tex, fontsize, renderer)\u001B[0m\n\u001B[1;32m    360\u001B[0m \u001B[38;5;28;01mif\u001B[39;00m tex\u001B[38;5;241m.\u001B[39mstrip() \u001B[38;5;241m==\u001B[39m \u001B[38;5;124m'\u001B[39m\u001B[38;5;124m'\u001B[39m:\n\u001B[1;32m    361\u001B[0m     \u001B[38;5;28;01mreturn\u001B[39;00m \u001B[38;5;241m0\u001B[39m, \u001B[38;5;241m0\u001B[39m, \u001B[38;5;241m0\u001B[39m\n\u001B[0;32m--> 362\u001B[0m dvifile \u001B[38;5;241m=\u001B[39m \u001B[38;5;28;43mcls\u001B[39;49m\u001B[38;5;241;43m.\u001B[39;49m\u001B[43mmake_dvi\u001B[49m\u001B[43m(\u001B[49m\u001B[43mtex\u001B[49m\u001B[43m,\u001B[49m\u001B[43m \u001B[49m\u001B[43mfontsize\u001B[49m\u001B[43m)\u001B[49m\n\u001B[1;32m    363\u001B[0m dpi_fraction \u001B[38;5;241m=\u001B[39m renderer\u001B[38;5;241m.\u001B[39mpoints_to_pixels(\u001B[38;5;241m1.\u001B[39m) \u001B[38;5;28;01mif\u001B[39;00m renderer \u001B[38;5;28;01melse\u001B[39;00m \u001B[38;5;241m1\u001B[39m\n\u001B[1;32m    364\u001B[0m \u001B[38;5;28;01mwith\u001B[39;00m dviread\u001B[38;5;241m.\u001B[39mDvi(dvifile, \u001B[38;5;241m72\u001B[39m \u001B[38;5;241m*\u001B[39m dpi_fraction) \u001B[38;5;28;01mas\u001B[39;00m dvi:\n",
      "File \u001B[0;32m~/miniforge3/lib/python3.10/site-packages/matplotlib/texmanager.py:295\u001B[0m, in \u001B[0;36mTexManager.make_dvi\u001B[0;34m(cls, tex, fontsize)\u001B[0m\n\u001B[1;32m    286\u001B[0m     \u001B[38;5;66;03m# Generate the dvi in a temporary directory to avoid race\u001B[39;00m\n\u001B[1;32m    287\u001B[0m     \u001B[38;5;66;03m# conditions e.g. if multiple processes try to process the same tex\u001B[39;00m\n\u001B[1;32m    288\u001B[0m     \u001B[38;5;66;03m# string at the same time.  Having tmpdir be a subdirectory of the\u001B[39;00m\n\u001B[0;32m   (...)\u001B[0m\n\u001B[1;32m    292\u001B[0m     \u001B[38;5;66;03m# the absolute path may contain characters (e.g. ~) that TeX does\u001B[39;00m\n\u001B[1;32m    293\u001B[0m     \u001B[38;5;66;03m# not support.)\u001B[39;00m\n\u001B[1;32m    294\u001B[0m     \u001B[38;5;28;01mwith\u001B[39;00m TemporaryDirectory(\u001B[38;5;28mdir\u001B[39m\u001B[38;5;241m=\u001B[39mPath(dvifile)\u001B[38;5;241m.\u001B[39mparent) \u001B[38;5;28;01mas\u001B[39;00m tmpdir:\n\u001B[0;32m--> 295\u001B[0m         \u001B[38;5;28;43mcls\u001B[39;49m\u001B[38;5;241;43m.\u001B[39;49m\u001B[43m_run_checked_subprocess\u001B[49m\u001B[43m(\u001B[49m\n\u001B[1;32m    296\u001B[0m \u001B[43m            \u001B[49m\u001B[43m[\u001B[49m\u001B[38;5;124;43m\"\u001B[39;49m\u001B[38;5;124;43mlatex\u001B[39;49m\u001B[38;5;124;43m\"\u001B[39;49m\u001B[43m,\u001B[49m\u001B[43m \u001B[49m\u001B[38;5;124;43m\"\u001B[39;49m\u001B[38;5;124;43m-interaction=nonstopmode\u001B[39;49m\u001B[38;5;124;43m\"\u001B[39;49m\u001B[43m,\u001B[49m\u001B[43m \u001B[49m\u001B[38;5;124;43m\"\u001B[39;49m\u001B[38;5;124;43m--halt-on-error\u001B[39;49m\u001B[38;5;124;43m\"\u001B[39;49m\u001B[43m,\u001B[49m\n\u001B[1;32m    297\u001B[0m \u001B[43m             \u001B[49m\u001B[38;5;124;43mf\u001B[39;49m\u001B[38;5;124;43m\"\u001B[39;49m\u001B[38;5;124;43m../\u001B[39;49m\u001B[38;5;132;43;01m{\u001B[39;49;00m\u001B[43mtexfile\u001B[49m\u001B[38;5;241;43m.\u001B[39;49m\u001B[43mname\u001B[49m\u001B[38;5;132;43;01m}\u001B[39;49;00m\u001B[38;5;124;43m\"\u001B[39;49m\u001B[43m]\u001B[49m\u001B[43m,\u001B[49m\u001B[43m \u001B[49m\u001B[43mtex\u001B[49m\u001B[43m,\u001B[49m\u001B[43m \u001B[49m\u001B[43mcwd\u001B[49m\u001B[38;5;241;43m=\u001B[39;49m\u001B[43mtmpdir\u001B[49m\u001B[43m)\u001B[49m\n\u001B[1;32m    298\u001B[0m         (Path(tmpdir) \u001B[38;5;241m/\u001B[39m Path(dvifile)\u001B[38;5;241m.\u001B[39mname)\u001B[38;5;241m.\u001B[39mreplace(dvifile)\n\u001B[1;32m    299\u001B[0m \u001B[38;5;28;01mreturn\u001B[39;00m dvifile\n",
      "File \u001B[0;32m~/miniforge3/lib/python3.10/site-packages/matplotlib/texmanager.py:261\u001B[0m, in \u001B[0;36mTexManager._run_checked_subprocess\u001B[0;34m(cls, command, tex, cwd)\u001B[0m\n\u001B[1;32m    257\u001B[0m     \u001B[38;5;28;01mraise\u001B[39;00m \u001B[38;5;167;01mRuntimeError\u001B[39;00m(\n\u001B[1;32m    258\u001B[0m         \u001B[38;5;124m'\u001B[39m\u001B[38;5;124mFailed to process string with tex because \u001B[39m\u001B[38;5;132;01m{}\u001B[39;00m\u001B[38;5;124m could not be \u001B[39m\u001B[38;5;124m'\u001B[39m\n\u001B[1;32m    259\u001B[0m         \u001B[38;5;124m'\u001B[39m\u001B[38;5;124mfound\u001B[39m\u001B[38;5;124m'\u001B[39m\u001B[38;5;241m.\u001B[39mformat(command[\u001B[38;5;241m0\u001B[39m])) \u001B[38;5;28;01mfrom\u001B[39;00m \u001B[38;5;21;01mexc\u001B[39;00m\n\u001B[1;32m    260\u001B[0m \u001B[38;5;28;01mexcept\u001B[39;00m subprocess\u001B[38;5;241m.\u001B[39mCalledProcessError \u001B[38;5;28;01mas\u001B[39;00m exc:\n\u001B[0;32m--> 261\u001B[0m     \u001B[38;5;28;01mraise\u001B[39;00m \u001B[38;5;167;01mRuntimeError\u001B[39;00m(\n\u001B[1;32m    262\u001B[0m         \u001B[38;5;124m'\u001B[39m\u001B[38;5;132;01m{prog}\u001B[39;00m\u001B[38;5;124m was not able to process the following string:\u001B[39m\u001B[38;5;130;01m\\n\u001B[39;00m\u001B[38;5;124m'\u001B[39m\n\u001B[1;32m    263\u001B[0m         \u001B[38;5;124m'\u001B[39m\u001B[38;5;132;01m{tex!r}\u001B[39;00m\u001B[38;5;130;01m\\n\u001B[39;00m\u001B[38;5;130;01m\\n\u001B[39;00m\u001B[38;5;124m'\u001B[39m\n\u001B[1;32m    264\u001B[0m         \u001B[38;5;124m'\u001B[39m\u001B[38;5;124mHere is the full command invocation and its output:\u001B[39m\u001B[38;5;130;01m\\n\u001B[39;00m\u001B[38;5;130;01m\\n\u001B[39;00m\u001B[38;5;124m'\u001B[39m\n\u001B[1;32m    265\u001B[0m         \u001B[38;5;124m'\u001B[39m\u001B[38;5;132;01m{format_command}\u001B[39;00m\u001B[38;5;130;01m\\n\u001B[39;00m\u001B[38;5;130;01m\\n\u001B[39;00m\u001B[38;5;124m'\u001B[39m\n\u001B[1;32m    266\u001B[0m         \u001B[38;5;124m'\u001B[39m\u001B[38;5;132;01m{exc}\u001B[39;00m\u001B[38;5;130;01m\\n\u001B[39;00m\u001B[38;5;130;01m\\n\u001B[39;00m\u001B[38;5;124m'\u001B[39m\u001B[38;5;241m.\u001B[39mformat(\n\u001B[1;32m    267\u001B[0m             prog\u001B[38;5;241m=\u001B[39mcommand[\u001B[38;5;241m0\u001B[39m],\n\u001B[1;32m    268\u001B[0m             format_command\u001B[38;5;241m=\u001B[39mcbook\u001B[38;5;241m.\u001B[39m_pformat_subprocess(command),\n\u001B[1;32m    269\u001B[0m             tex\u001B[38;5;241m=\u001B[39mtex\u001B[38;5;241m.\u001B[39mencode(\u001B[38;5;124m'\u001B[39m\u001B[38;5;124municode_escape\u001B[39m\u001B[38;5;124m'\u001B[39m),\n\u001B[1;32m    270\u001B[0m             exc\u001B[38;5;241m=\u001B[39mexc\u001B[38;5;241m.\u001B[39moutput\u001B[38;5;241m.\u001B[39mdecode(\u001B[38;5;124m'\u001B[39m\u001B[38;5;124mutf-8\u001B[39m\u001B[38;5;124m'\u001B[39m, \u001B[38;5;124m'\u001B[39m\u001B[38;5;124mbackslashreplace\u001B[39m\u001B[38;5;124m'\u001B[39m))\n\u001B[1;32m    271\u001B[0m         ) \u001B[38;5;28;01mfrom\u001B[39;00m \u001B[38;5;28mNone\u001B[39m\n\u001B[1;32m    272\u001B[0m _log\u001B[38;5;241m.\u001B[39mdebug(report)\n\u001B[1;32m    273\u001B[0m \u001B[38;5;28;01mreturn\u001B[39;00m report\n",
      "\u001B[0;31mRuntimeError\u001B[0m: latex was not able to process the following string:\nb'$$'\n\nHere is the full command invocation and its output:\n\nlatex -interaction=nonstopmode --halt-on-error ../1bcf7fb91a305bc2532e50e653b39cab.tex\n\nThis is pdfTeX, Version 3.141592653-2.6-1.40.24 (TeX Live 2022/Homebrew) (preloaded format=latex)\n restricted \\write18 enabled.\nentering extended mode\n(../1bcf7fb91a305bc2532e50e653b39cab.tex\nLaTeX2e <2021-11-15> patch level 1\nL3 programming layer <2022-02-24>\n(/opt/homebrew/Cellar/texlive/20220321_3/share/texmf-dist/tex/latex/base/articl\ne.cls\nDocument Class: article 2021/10/04 v1.4n Standard LaTeX document class\n\n(/opt/homebrew/Cellar/texlive/20220321_3/share/texmf-dist/tex/latex/base/size10\n.clo))\n(/opt/homebrew/Cellar/texlive/20220321_3/share/texmf-dist/tex/latex/type1cm/typ\ne1cm.sty)\n(/opt/homebrew/Cellar/texlive/20220321_3/share/texmf-dist/tex/latex/cm-super/ty\npe1ec.sty\n(/opt/homebrew/Cellar/texlive/20220321_3/share/texmf-dist/tex/latex/base/t1cmr.\nfd))\n(/opt/homebrew/Cellar/texlive/20220321_3/share/texmf-dist/tex/latex/base/inpute\nnc.sty)\n(/opt/homebrew/Cellar/texlive/20220321_3/share/texmf-dist/tex/latex/geometry/ge\nometry.sty\n(/opt/homebrew/Cellar/texlive/20220321_3/share/texmf-dist/tex/latex/graphics/ke\nyval.sty)\n(/opt/homebrew/Cellar/texlive/20220321_3/share/texmf-dist/tex/generic/iftex/ifv\ntex.sty\n(/opt/homebrew/Cellar/texlive/20220321_3/share/texmf-dist/tex/generic/iftex/ift\nex.sty)))\n(/opt/homebrew/Cellar/texlive/20220321_3/share/texmf-dist/tex/latex/amsmath/ams\nmath.sty\nFor additional information on amsmath, use the `?' option.\n\n(/opt/homebrew/Cellar/texlive/20220321_3/share/texmf-dist/tex/latex/amsmath/ams\ntext.sty\n(/opt/homebrew/Cellar/texlive/20220321_3/share/texmf-dist/tex/latex/amsmath/ams\ngen.sty))\n(/opt/homebrew/Cellar/texlive/20220321_3/share/texmf-dist/tex/latex/amsmath/ams\nbsy.sty)\n(/opt/homebrew/Cellar/texlive/20220321_3/share/texmf-dist/tex/latex/amsmath/ams\nopn.sty))\n(/opt/homebrew/Cellar/texlive/20220321_3/share/texmf-dist/tex/latex/underscore/\nunderscore.sty)\n(/opt/homebrew/Cellar/texlive/20220321_3/share/texmf-dist/tex/latex/base/textco\nmp.sty)\n(/opt/homebrew/Cellar/texlive/20220321_3/share/texmf-dist/tex/latex/l3backend/l\n3backend-dvips.def)\nNo file 1bcf7fb91a305bc2532e50e653b39cab.aux.\n*geometry* driver: auto-detecting\n*geometry* detected driver: dvips\n\nLaTeX Font Warning: Font shape `OMX/cmex/m/n' in size <20> not available\n(Font)              size <20.74> substituted on input line 29.\n\n\nLaTeX Font Warning: Font shape `OMX/cmex/m/n' in size <13.99994> not available\n(Font)              size <14.4> substituted on input line 29.\n\n! Extra }, or forgotten $.\nl.29 {\\sffamily $$}\n                   %\nNo pages of output.\nTranscript written on 1bcf7fb91a305bc2532e50e653b39cab.log.\n\n\n"
     ]
    },
    {
     "data": {
      "text/plain": "<Figure size 830x1170 with 1 Axes>"
     },
     "metadata": {},
     "output_type": "display_data"
    }
   ],
   "source": [
    "# Rendering equations to A4 sized transparent .png files and saving locally\n",
    "for line_nr in tqdm(range(len(filtered_formulas))):\n",
    "    location = 'Pictures/'\n",
    "    filename = f'eq_{line_nr}'\n",
    "    latex_to_image(math_expr=filtered_formulas[line_nr],file_name=location+filename)"
   ],
   "metadata": {
    "collapsed": false,
    "pycharm": {
     "name": "#%%\n"
    }
   }
  },
  {
   "cell_type": "code",
   "execution_count": null,
   "outputs": [],
   "source": [],
   "metadata": {
    "collapsed": false,
    "pycharm": {
     "name": "#%%\n"
    }
   }
  }
 ],
 "metadata": {
  "kernelspec": {
   "display_name": "Python 3",
   "language": "python",
   "name": "python3"
  },
  "language_info": {
   "codemirror_mode": {
    "name": "ipython",
    "version": 2
   },
   "file_extension": ".py",
   "mimetype": "text/x-python",
   "name": "python",
   "nbconvert_exporter": "python",
   "pygments_lexer": "ipython2",
   "version": "2.7.6"
  }
 },
 "nbformat": 4,
 "nbformat_minor": 0
}
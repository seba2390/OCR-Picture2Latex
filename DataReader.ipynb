{
 "cells": [
  {
   "cell_type": "code",
   "execution_count": 192,
   "outputs": [],
   "source": [
    "from typing import Union, List, Tuple\n",
    "import subprocess\n",
    "import os.path\n",
    "import re\n",
    "\n",
    "from tqdm import tqdm\n",
    "import matplotlib.pyplot as plt\n",
    "import numpy as np"
   ],
   "metadata": {
    "collapsed": false,
    "pycharm": {
     "name": "#%%\n"
    }
   }
  },
  {
   "cell_type": "code",
   "execution_count": 193,
   "outputs": [],
   "source": [
    "def is_valid_latex_math(expr: str) -> bool:\n",
    "    \"\"\"Check whether a given string is a valid LaTeX math expression.\n",
    "\n",
    "        N.B. Notice 'amsmath' is included as it is also used\n",
    "        when saving .png pictures w. matplotlib\n",
    "    Args:\n",
    "        expr: A string representing a LaTeX math expression.\n",
    "\n",
    "    Returns:\n",
    "        A boolean indicating whether the expression is valid.\n",
    "\n",
    "    Raises:\n",
    "        None.\n",
    "\n",
    "    Example:\n",
    "        >>> expr = r'\\frac{1}{2} + \\sqrt{3}'\n",
    "        >>> is_valid_latex_math(expr)\n",
    "        True\n",
    "    \"\"\"\n",
    "    try:\n",
    "        # Create a LaTeX document with the expression inside a math environment\n",
    "        input_str = f'\\\\documentclass{{article}}\\\\usepackage{{amsmath}}\\\\begin{{document}}$ {expr} $\\\\end{{document}}'\n",
    "        # Compile the LaTeX document using pdflatex with batchmode and halt-on-error options\n",
    "        subprocess.check_output(['pdflatex', '-halt-on-error', '-interaction=batchmode'], input=input_str.encode(), stderr=subprocess.STDOUT)\n",
    "        # If there is no error, return True\n",
    "        return True\n",
    "    except subprocess.CalledProcessError as e:\n",
    "        # If there is an error, return False\n",
    "        return False"
   ],
   "metadata": {
    "collapsed": false,
    "pycharm": {
     "name": "#%%\n"
    }
   }
  },
  {
   "cell_type": "code",
   "execution_count": 198,
   "outputs": [],
   "source": [
    "def filter_formulas(in_filename: str, nr_equations: int, seed: int = 1) -> List[str]:\n",
    "    \"\"\"\n",
    "    Reads a file containing LaTeX formulas from 'in_filename' and removes all\n",
    "    occurrences of the '\\label{...}' substring from each formula. Each formula is\n",
    "    separated by two newline characters.\n",
    "\n",
    "    Parameters:\n",
    "        in_filename : str\n",
    "            The name of the input file containing LaTeX formulas.\n",
    "        nr_equations : int\n",
    "            The number of equations to choose from the input file.\n",
    "\n",
    "    Returns:\n",
    "        List[str] or None:\n",
    "            The function returns a list of the filtered formulas if successful.\n",
    "            Returns None if there is an error.\n",
    "\n",
    "    Raises:\n",
    "        FileNotFoundError:\n",
    "            If the input file does not exist.\n",
    "        IOError:\n",
    "            If the input file cannot be opened for reading.\n",
    "        Exception:\n",
    "            If the specified number of equations to choose is greater than the number of available equations in the input file.\n",
    "    \"\"\"\n",
    "\n",
    "    # Setting seed for numpy RNG\n",
    "    np.random.seed(seed)\n",
    "\n",
    "    # Check if the input file exists\n",
    "    if not os.path.isfile(in_filename):\n",
    "        raise FileNotFoundError(f\"File not found: {in_filename}\")\n",
    "\n",
    "    # Importing initial formulas\n",
    "    with open(in_filename, 'r', encoding='ISO-8859-1') as f:\n",
    "        formulas = [line.strip() for line in f.readlines()]\n",
    "\n",
    "    # Check if the number of equations to choose is greater than the number of available equations\n",
    "    if nr_equations > len(formulas):\n",
    "        raise Exception(f'{nr_equations} equations requested, but only {len(formulas)} available in file: {in_filename}')\n",
    "    else:\n",
    "        # Choose a random sample of equations without replacement\n",
    "        formulas = np.random.permutation(formulas).tolist()\n",
    "\n",
    "    # Define a regular expression pattern to match \\label{...}, % and $ substrings\n",
    "    pattern = re.compile(r'(\\\\label\\{.*?\\}|%|\\$)')\n",
    "\n",
    "    # Remove the \\label{...}, % and $ substring from each string in the 'formulas' list\n",
    "    first_filtering = [pattern.sub('', s) for s in formulas]\n",
    "\n",
    "    # Remove strings that local latex engine doesn't recognize as genuine latex math\n",
    "    final_filtering = []\n",
    "    for idx in tqdm(range(int(len(first_filtering[:nr_equations])*1.1))):\n",
    "        if len(final_filtering) < nr_equations:\n",
    "            if is_valid_latex_math(first_filtering[idx]):\n",
    "                final_filtering.append(first_filtering[idx])\n",
    "        else:\n",
    "            break\n",
    "\n",
    "    # Return the final filtered list of formulas\n",
    "    return final_filtering\n"
   ],
   "metadata": {
    "collapsed": false,
    "pycharm": {
     "name": "#%%\n"
    }
   }
  },
  {
   "cell_type": "code",
   "execution_count": 205,
   "outputs": [],
   "source": [
    "def save_filter_formulas(filtered_formulas: List[str], out_filename: str) -> None:\n",
    "    \"\"\"\n",
    "    Saves the filtered formulas to a file.\n",
    "\n",
    "    Args:\n",
    "        filtered_formulas: A list of filtered formulas to be saved.\n",
    "        out_filename: The name of the output file.\n",
    "\n",
    "    Returns:\n",
    "        None\n",
    "    \"\"\"\n",
    "    # Open the output file and write the filtered formulas to it\n",
    "    with open(out_filename, 'w') as f:\n",
    "        for line in filtered_formulas:\n",
    "            # Write each formula to a new line and add a blank line after it\n",
    "            f.write(line+'\\n')\n"
   ],
   "metadata": {
    "collapsed": false,
    "pycharm": {
     "name": "#%%\n"
    }
   }
  },
  {
   "cell_type": "code",
   "execution_count": 200,
   "outputs": [],
   "source": [
    "def to_inline_expr(math_expr: str) -> str:\n",
    "    \"\"\"\n",
    "    Convert a LaTeX math expression to an inline math expression.\n",
    "\n",
    "    Parameters\n",
    "    ----------\n",
    "    math_expr : str\n",
    "        The LaTeX math expression to convert.\n",
    "\n",
    "    Returns\n",
    "    -------\n",
    "    str\n",
    "        The converted inline math expression.\n",
    "    \"\"\"\n",
    "    return '$' + math_expr + '$'"
   ],
   "metadata": {
    "collapsed": false,
    "pycharm": {
     "name": "#%%\n"
    }
   }
  },
  {
   "cell_type": "code",
   "execution_count": 201,
   "outputs": [],
   "source": [
    "def latex_to_image(math_expr: str, file_name: str, file_format: str = 'png',\n",
    "                   picture_dims: Union[str,Tuple[float,float]] = 'A4',\n",
    "                   resolution: Union[float, int] = 300, transparent: bool = True) -> None:\n",
    "    \"\"\"\n",
    "    Converts a LaTeX math expression to an image in the specified file format and saves it with the specified file name.\n",
    "\n",
    "    Args:\n",
    "        math_expr (str): The LaTeX math expression to be converted to an image.\n",
    "        file_name (str): The name of the file to be saved.\n",
    "        file_format (str, optional): The format of the output file. Defaults to 'png'.\n",
    "        picture_dims (Union[str,Tuple[float,float]], optional): The dimensions of the output picture. Can be either a\n",
    "                                                               string specifying one of the standard dimensions (Letter,\n",
    "                                                               Legal, A4, A5) or a tuple of the form (width, height).\n",
    "                                                               Defaults to 'A4'.\n",
    "        resolution (Union[float, int], optional): The resolution of the output image in DPI (dots per inch). Defaults to 300.\n",
    "        transparent (bool, optional): Whether to save the image with a transparent background. Defaults to True.\n",
    "\n",
    "    Raises:\n",
    "        ValueError: If picture_dims is not one of the standard dimensions (Letter, Legal, A4, A5).\n",
    "    \"\"\"\n",
    "\n",
    "    # Standard square dimensions of output picture\n",
    "    std_dims = {\"Letter\":(8.5,14.0), \"Legal\":(8.5,14.0),\n",
    "                \"A4\":(8.3,11.7), \"A5\":(5.8, 8.3)}\n",
    "\n",
    "    if picture_dims in list(std_dims.keys()):\n",
    "        DIMS = std_dims[picture_dims]\n",
    "    else:\n",
    "        raise ValueError(f\"{picture_dims} not known - should be in: {list(std_dims.keys())}.\")\n",
    "\n",
    "    # Set the LaTeX font\n",
    "    plt.rcParams['text.usetex'] = True\n",
    "    plt.rcParams['text.latex.preamble'] = r'\\usepackage{amsmath}'\n",
    "\n",
    "    # Define the math expression as a string\n",
    "    expr = to_inline_expr(math_expr=math_expr)\n",
    "\n",
    "    # Add $ symbols to format the string as an inline math expression\n",
    "    inline_expr = to_inline_expr(math_expr=math_expr)\n",
    "\n",
    "    # Create a plot with the expression\n",
    "    fig, ax = plt.subplots(figsize=DIMS)\n",
    "    ax.text(0.5, 0.5, inline_expr, size=20, ha='center')\n",
    "\n",
    "    # Remove the plot axes\n",
    "    ax.set_axis_off()\n",
    "\n",
    "    # Save the plot as a PNG with a transparent background\n",
    "    plt.savefig(fname=file_name+\".\"+file_format, format=file_format, transparent=transparent, bbox_inches='tight', pad_inches=0.0, dpi=resolution)\n",
    "    plt.close(fig)\n"
   ],
   "metadata": {
    "collapsed": false,
    "pycharm": {
     "name": "#%%\n"
    }
   }
  },
  {
   "cell_type": "code",
   "execution_count": 202,
   "outputs": [
    {
     "name": "stderr",
     "output_type": "stream",
     "text": [
      " 93%|█████████▎| 510/550 [01:58<00:09,  4.29it/s]"
     ]
    },
    {
     "name": "stdout",
     "output_type": "stream",
     "text": [
      "Now has:  500  formulas\n"
     ]
    },
    {
     "name": "stderr",
     "output_type": "stream",
     "text": [
      "\n"
     ]
    }
   ],
   "source": [
    "# Filtering equations for unwanted tokens and illegitimate math expressions\n",
    "original_filename = 'Data/im2latex_formulas.lst'\n",
    "new_filename = 'Data/im2latex_formulas.txt'\n",
    "filtered_formulas = filter_formulas(in_filename=original_filename,\n",
    "                                    nr_equations=500)\n",
    "print(\"Now has: \", len(filtered_formulas), \" formulas\")"
   ],
   "metadata": {
    "collapsed": false,
    "pycharm": {
     "name": "#%%\n"
    }
   }
  },
  {
   "cell_type": "code",
   "execution_count": 203,
   "outputs": [
    {
     "name": "stderr",
     "output_type": "stream",
     "text": [
      "100%|██████████| 500/500 [07:55<00:00,  1.05it/s]\n"
     ]
    }
   ],
   "source": [
    "# Rendering equations to A4 sized transparent .png files and saving locally\n",
    "for line_nr in tqdm(range(len(filtered_formulas))):\n",
    "    location = 'Data/im2latex_formulas_pictures/'\n",
    "    filename = f'eq_{line_nr}'\n",
    "    latex_to_image(math_expr=filtered_formulas[line_nr],file_name=location+filename)"
   ],
   "metadata": {
    "collapsed": false,
    "pycharm": {
     "name": "#%%\n"
    }
   }
  },
  {
   "cell_type": "code",
   "execution_count": 206,
   "outputs": [],
   "source": [
    "# Writing the chosen equations to a file locally (same order as pictures)\n",
    "save_filter_formulas(filtered_formulas=filtered_formulas,out_filename=new_filename)"
   ],
   "metadata": {
    "collapsed": false,
    "pycharm": {
     "name": "#%%\n"
    }
   }
  },
  {
   "cell_type": "code",
   "execution_count": null,
   "outputs": [],
   "source": [],
   "metadata": {
    "collapsed": false,
    "pycharm": {
     "name": "#%%\n"
    }
   }
  }
 ],
 "metadata": {
  "kernelspec": {
   "display_name": "Python 3",
   "language": "python",
   "name": "python3"
  },
  "language_info": {
   "codemirror_mode": {
    "name": "ipython",
    "version": 2
   },
   "file_extension": ".py",
   "mimetype": "text/x-python",
   "name": "python",
   "nbconvert_exporter": "python",
   "pygments_lexer": "ipython2",
   "version": "2.7.6"
  }
 },
 "nbformat": 4,
 "nbformat_minor": 0
}
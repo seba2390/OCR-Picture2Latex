{
 "cells": [
  {
   "cell_type": "code",
   "execution_count": 2,
   "outputs": [],
   "source": [
    "import re\n",
    "from typing import List\n",
    "from tqdm import tqdm"
   ],
   "metadata": {
    "collapsed": false,
    "ExecuteTime": {
     "end_time": "2023-12-30T16:39:23.745684Z",
     "start_time": "2023-12-30T16:39:23.742377Z"
    }
   },
   "id": "8635089f3aaba5f9"
  },
  {
   "cell_type": "code",
   "execution_count": 3,
   "id": "initial_id",
   "metadata": {
    "collapsed": true,
    "ExecuteTime": {
     "end_time": "2023-12-30T17:40:07.975587Z",
     "start_time": "2023-12-30T16:39:24.522759Z"
    }
   },
   "outputs": [
    {
     "name": "stderr",
     "output_type": "stream",
     "text": [
      "1875593it [1:00:43, 514.79it/s]\n"
     ]
    }
   ],
   "source": [
    "# Unique inline equations\n",
    "unique_equations = []\n",
    "with open('equations/unique_inline_equations.txt', 'w') as out_file:\n",
    "    with open('equations/inline_equations.txt', 'r') as in_file:\n",
    "        for line in tqdm(in_file):\n",
    "            eq = line[:-1].replace(' ','')\n",
    "            if eq not in unique_equations:\n",
    "                unique_equations.append(eq)\n",
    "                out_file.write(line[:-1])\n",
    "                out_file.write('\\n')"
   ]
  },
  {
   "cell_type": "code",
   "execution_count": 10,
   "outputs": [
    {
     "name": "stderr",
     "output_type": "stream",
     "text": [
      "167927it [02:44, 1021.22it/s]\n"
     ]
    }
   ],
   "source": [
    "# Unique equation, align .... env. equations\n",
    "env_pattern = r'\\\\begin\\{(?:equation|align|gather|multline|flalign)\\}(.*?)\\\\end\\{(?:equation|align|gather|multline|flalign)\\}'\n",
    "unique_equations = []\n",
    "with open('equations/unique_equations.txt', 'w') as out_file:\n",
    "    with open('equations/equations.txt', 'r') as in_file:\n",
    "        for line in tqdm(in_file):\n",
    "            match = re.search(env_pattern, line.strip(), re.DOTALL)\n",
    "            equation = match.group(1).strip()\n",
    "            if equation not in unique_equations:\n",
    "                unique_equations.append(equation)\n",
    "                out_file.write(equation)\n",
    "                out_file.write('\\n')"
   ],
   "metadata": {
    "collapsed": false,
    "ExecuteTime": {
     "end_time": "2023-12-30T17:55:41.280345Z",
     "start_time": "2023-12-30T17:52:56.835398Z"
    }
   },
   "id": "7ac06e9eb201d367"
  },
  {
   "cell_type": "code",
   "execution_count": null,
   "outputs": [],
   "source": [],
   "metadata": {
    "collapsed": false
   },
   "id": "ef4a04b93e399022"
  }
 ],
 "metadata": {
  "kernelspec": {
   "display_name": "Python 3",
   "language": "python",
   "name": "python3"
  },
  "language_info": {
   "codemirror_mode": {
    "name": "ipython",
    "version": 2
   },
   "file_extension": ".py",
   "mimetype": "text/x-python",
   "name": "python",
   "nbconvert_exporter": "python",
   "pygments_lexer": "ipython2",
   "version": "2.7.6"
  }
 },
 "nbformat": 4,
 "nbformat_minor": 5
}

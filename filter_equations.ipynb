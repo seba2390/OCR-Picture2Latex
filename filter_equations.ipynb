{
 "cells": [
  {
   "cell_type": "code",
   "execution_count": 5,
   "outputs": [],
   "source": [
    "import subprocess\n"
   ],
   "metadata": {
    "collapsed": false,
    "ExecuteTime": {
     "end_time": "2023-12-28T19:34:32.922509Z",
     "start_time": "2023-12-28T19:34:32.917456Z"
    }
   },
   "id": "49efa7a3907c83b3"
  },
  {
   "cell_type": "code",
   "execution_count": 50,
   "id": "initial_id",
   "metadata": {
    "collapsed": true,
    "ExecuteTime": {
     "end_time": "2023-12-28T19:43:46.442987Z",
     "start_time": "2023-12-28T19:43:46.439658Z"
    }
   },
   "outputs": [],
   "source": [
    "\n",
    "def is_valid_latex_math(expr: str) -> bool:\n",
    "    \"\"\"Check whether a given string is a valid LaTeX math expression.\n",
    "\n",
    "        N.B. Notice 'amsmath' is included as it is also used\n",
    "        when saving .png pictures w. matplotlib\n",
    "    Args:\n",
    "        expr: A string representing a LaTeX math expression.\n",
    "\n",
    "    Returns:\n",
    "        A boolean indicating whether the expression is valid.\n",
    "\n",
    "    Raises:\n",
    "        None.\n",
    "\n",
    "    Example:\n",
    "        >>> expr = r'\\frac{1}{2} + \\sqrt{3}'\n",
    "        >>> is_valid_latex_math(expr)\n",
    "        True\n",
    "    \"\"\"\n",
    "    try:\n",
    "        # Create a LaTeX document with the expression inside a math environment\n",
    "        input_str = (f'\\\\documentclass{{article}}'\n",
    "                     f'\\\\usepackage{{amsfonts}}'\n",
    "                     f'\\\\usepackage{{mathrsfs}}'\n",
    "                     f'\\\\usepackage{{amsmath}}'\n",
    "                     f'\\\\usepackage{{bm}}'\n",
    "                     f'\\\\usepackage{{mathdots}}'\n",
    "                     f'\\\\usepackage{{amssymb}}'\n",
    "                     f'\\\\usepackage{{physics}}'\n",
    "                     f'\\\\usepackage{{siunitx}}'\n",
    "                     f'\\\\usepackage{{mathcomp}}'\n",
    "                     f'\\\\usepackage{{tensor}}'\n",
    "                     f'\\\\usepackage{{mathtools}}'\n",
    "                     f'\\\\usepackage{{xfrac}}'\n",
    "                     f'\\\\usepackage{{extarrows}}'\n",
    "                     f'\\\\usepackage{{upgreek}}'\n",
    "                     f'\\\\usepackage{{gensymb}}'\n",
    "                     f'\\\\usepackage{{empheq}}'\n",
    "                     f'\\\\usepackage{{yhmath}}'\n",
    "                     f'\\\\usepackage{{cancel}}'\n",
    "                     f'\\\\usepackage{{ntheorem}}'\n",
    "                     f'\\\\usepackage{{nicematrix}}'\n",
    "                     f'\\\\usepackage{{latexsym}}'\n",
    "                     f'\\\\usepackage{{esint}}'\n",
    "                     f'\\\\usepackage{{wasysym}}'\n",
    "                     f'\\\\begin{{document}} {expr} '\n",
    "                     f'\\\\end{{document}}')\n",
    "        # Compile the LaTeX document using pdflatex with batchmode and halt-on-error options\n",
    "        output = subprocess.check_output(['pdflatex', '-halt-on-error', '-interaction=batchmode'],\n",
    "                                         input=input_str.encode(), stderr=subprocess.STDOUT)\n",
    "        # If there is no error, return True\n",
    "        return True\n",
    "    except subprocess.CalledProcessError as e:\n",
    "        raise e\n",
    "        # Print the output of the command for debugging purposes\n",
    "        # If there is an error, return False\n",
    "        return False"
   ]
  },
  {
   "cell_type": "code",
   "execution_count": 55,
   "outputs": [
    {
     "data": {
      "text/plain": "True"
     },
     "execution_count": 55,
     "metadata": {},
     "output_type": "execute_result"
    }
   ],
   "source": [
    "test_expression = '\\\\begin{equation}x^2\\\\end{equation}'\n",
    "\n",
    "is_valid_latex_math(expr=test_expression)"
   ],
   "metadata": {
    "collapsed": false,
    "ExecuteTime": {
     "end_time": "2023-12-28T19:44:27.358357Z",
     "start_time": "2023-12-28T19:44:26.696525Z"
    }
   },
   "id": "aed34d7c192a50a8"
  },
  {
   "cell_type": "code",
   "execution_count": null,
   "outputs": [],
   "source": [],
   "metadata": {
    "collapsed": false
   },
   "id": "502b2f08bc39a618"
  }
 ],
 "metadata": {
  "kernelspec": {
   "display_name": "Python 3",
   "language": "python",
   "name": "python3"
  },
  "language_info": {
   "codemirror_mode": {
    "name": "ipython",
    "version": 2
   },
   "file_extension": ".py",
   "mimetype": "text/x-python",
   "name": "python",
   "nbconvert_exporter": "python",
   "pygments_lexer": "ipython2",
   "version": "2.7.6"
  }
 },
 "nbformat": 4,
 "nbformat_minor": 5
}

{
 "cells": [
  {
   "cell_type": "code",
   "execution_count": 37,
   "outputs": [],
   "source": [
    "import subprocess\n",
    "import re\n",
    "from tqdm import tqdm"
   ],
   "metadata": {
    "collapsed": false,
    "ExecuteTime": {
     "end_time": "2023-12-30T19:25:54.826803Z",
     "start_time": "2023-12-30T19:25:54.824231Z"
    }
   },
   "id": "49efa7a3907c83b3"
  },
  {
   "cell_type": "code",
   "execution_count": 38,
   "outputs": [
    {
     "name": "stderr",
     "output_type": "stream",
     "text": [
      "70741it [00:00, 1652525.27it/s]\n",
      "100%|██████████| 68946/68946 [00:00<00:00, 1848755.48it/s]\n"
     ]
    }
   ],
   "source": [
    "# Unique equation, align .... env. equations\n",
    "unique_equations = set()\n",
    "with open('equations/equations.txt', 'r') as in_file:\n",
    "    for line in tqdm(in_file):\n",
    "        unique_equations.add(line)\n",
    "with open('equations/unique_equations.txt', 'w') as out_file:\n",
    "    for unique_equation in tqdm(unique_equations):\n",
    "        out_file.write(unique_equation)\n",
    "with open('equations/README.TXT', 'a') as file:\n",
    "    file.write(f'\\n\\nThe \"unique_equations.txt\" file contains: {len(unique_equations)} equations - all the unique equations from \"equations.txt\" ')"
   ],
   "metadata": {
    "collapsed": false,
    "ExecuteTime": {
     "end_time": "2023-12-30T19:25:55.413751Z",
     "start_time": "2023-12-30T19:25:55.316103Z"
    }
   },
   "id": "211bad5eaadb8001"
  },
  {
   "cell_type": "code",
   "execution_count": 39,
   "id": "initial_id",
   "metadata": {
    "collapsed": true,
    "ExecuteTime": {
     "end_time": "2023-12-30T19:25:57.180373Z",
     "start_time": "2023-12-30T19:25:56.396727Z"
    }
   },
   "outputs": [
    {
     "name": "stderr",
     "output_type": "stream",
     "text": [
      "1875593it [00:00, 3146651.15it/s]\n",
      "100%|██████████| 705010/705010 [00:00<00:00, 3951769.68it/s]\n"
     ]
    }
   ],
   "source": [
    "# Unique inline equations\n",
    "unique_equations = set()\n",
    "with open('equations/inline_equations.txt', 'r') as in_file:\n",
    "    for line in tqdm(in_file):\n",
    "        unique_equations.add(line)\n",
    "with open('equations/unique_inline_equations.txt', 'w') as out_file:\n",
    "    for unique_equation in tqdm(unique_equations):\n",
    "        out_file.write(unique_equation)\n",
    "with open('equations/README.TXT', 'a') as file:\n",
    "    file.write(f'\\nThe \"unique_inline_equations.txt\" file contains: {len(unique_equations)} equations - all the unique equations from \"inline_equations.txt\" ')\n"
   ]
  },
  {
   "cell_type": "code",
   "execution_count": null,
   "outputs": [],
   "source": [],
   "metadata": {
    "collapsed": false
   },
   "id": "904abef1a844474a"
  }
 ],
 "metadata": {
  "kernelspec": {
   "display_name": "Python 3",
   "language": "python",
   "name": "python3"
  },
  "language_info": {
   "codemirror_mode": {
    "name": "ipython",
    "version": 2
   },
   "file_extension": ".py",
   "mimetype": "text/x-python",
   "name": "python",
   "nbconvert_exporter": "python",
   "pygments_lexer": "ipython2",
   "version": "2.7.6"
  }
 },
 "nbformat": 4,
 "nbformat_minor": 5
}

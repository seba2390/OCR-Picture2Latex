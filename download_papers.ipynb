{
 "cells": [
  {
   "cell_type": "code",
   "execution_count": 15,
   "outputs": [],
   "source": [
    "import os\n",
    "import shutil\n",
    "import tarfile \n",
    "import re\n",
    "import logging\n",
    "\n",
    "from tqdm import tqdm\n",
    "import arxiv\n",
    "\n",
    "from src.Categories import ArxivCategories"
   ],
   "metadata": {
    "collapsed": false,
    "ExecuteTime": {
     "end_time": "2023-12-27T13:46:28.747785Z",
     "start_time": "2023-12-27T13:46:28.745078Z"
    }
   },
   "id": "4d8847f11c2d515d"
  },
  {
   "cell_type": "code",
   "execution_count": 16,
   "outputs": [
    {
     "data": {
      "text/plain": "['astro-ph',\n 'cond-mat',\n 'qr-qc',\n 'hep-ex',\n 'hep-lat',\n 'hep-ph',\n 'hep-th',\n 'math-ph',\n 'nlin',\n 'nucl-ex',\n 'nucl-th',\n 'physics',\n 'quant-ph',\n 'math',\n 'CoRR',\n 'q-bio',\n 'q-fin',\n 'stat']"
     },
     "execution_count": 16,
     "metadata": {},
     "output_type": "execute_result"
    }
   ],
   "source": [
    "# Read https://info.arxiv.org/help/api/user-manual.html#query_details on how to construct queries\n",
    "category_tags = ArxivCategories().available_category_tags()\n",
    "category_tags"
   ],
   "metadata": {
    "collapsed": false,
    "ExecuteTime": {
     "end_time": "2023-12-27T13:46:29.143804Z",
     "start_time": "2023-12-27T13:46:29.139549Z"
    }
   },
   "id": "906b0381d5a1ac0f"
  },
  {
   "cell_type": "code",
   "execution_count": 17,
   "outputs": [
    {
     "name": "stderr",
     "output_type": "stream",
     "text": [
      "0it [00:00, ?it/s]INFO:arxiv:Requesting page (first: True, try: 0): https://export.arxiv.org/api/query?search_query=cat:physics&id_list=&sortBy=submittedDate&sortOrder=descending&start=0&max_results=100\n",
      "DEBUG:urllib3.connectionpool:Starting new HTTPS connection (1): export.arxiv.org:443\n",
      "DEBUG:urllib3.connectionpool:https://export.arxiv.org:443 \"GET /api/query?search_query=cat:physics&id_list=&sortBy=submittedDate&sortOrder=descending&start=0&max_results=100 HTTP/1.1\" 200 409\n",
      "INFO:arxiv:Got empty first page; stopping generation\n",
      "0it [00:00, ?it/s]\n"
     ]
    }
   ],
   "source": [
    "# Set up logging\n",
    "logging.basicConfig(level=logging.DEBUG)\n",
    "\n",
    "# Function to sanitize file paths\n",
    "def sanitize_filename(name: str) -> str:\n",
    "    return re.sub(r'[^\\w\\s-]', '', name.replace(' ', '_'))\n",
    "\n",
    "def clean_directory(folder: str) -> None:\n",
    "    \"\"\"\n",
    "    Recursively clean a directory, keeping only .tex files.\n",
    "\n",
    "    This function traverses through all files and subdirectories within the given folder.\n",
    "    It retains files with a .tex extension and removes all other files. If a subdirectory\n",
    "    is found, the function is called recursively on that subdirectory. Empty directories\n",
    "    are removed.\n",
    "\n",
    "    Parameters:\n",
    "    folder (str): The path to the directory to be cleaned.\n",
    "    \"\"\"\n",
    "    for filename in os.listdir(folder):\n",
    "        file_path = os.path.join(folder, filename)\n",
    "\n",
    "        # Check if the current path is a file or a directory\n",
    "        if os.path.isfile(file_path):\n",
    "            # Remove the file if it does not have a .tex extension\n",
    "            if not filename.endswith('.tex'):\n",
    "                os.remove(file_path)\n",
    "        elif os.path.isdir(file_path):\n",
    "            # Recursively clean the subdirectory\n",
    "            clean_directory(file_path)\n",
    "\n",
    "            # Remove the subdirectory if it is empty after cleaning\n",
    "            if not os.listdir(file_path):\n",
    "                os.rmdir(file_path)\n",
    "\n",
    "# Number of papers to download\n",
    "N_papers = 100\n",
    "\n",
    "# Initialize arXiv client\n",
    "client = arxiv.Client()\n",
    "\n",
    "# Query arXiv\n",
    "results = client.results(arxiv.Search(query=\"cat:physics\",\n",
    "                                      max_results=N_papers,\n",
    "                                      sort_by=arxiv.SortCriterion.SubmittedDate))\n",
    "\n",
    "# Download and process papers\n",
    "for paper in tqdm(results):\n",
    "    folder_path = 'papers/'\n",
    "    sanitized_title = sanitize_filename(paper.title)\n",
    "    paper_title_path = os.path.join(folder_path, sanitized_title)\n",
    "    tar_path = paper_title_path + '.tar.gz'\n",
    "\n",
    "    try:\n",
    "        # Download the source\n",
    "        paper.download_source(dirpath=folder_path, filename=os.path.basename(tar_path))\n",
    "\n",
    "        # Extract the tar.gz file\n",
    "        with tarfile.open(tar_path) as file:\n",
    "            file.extractall(paper_title_path)\n",
    "\n",
    "        # Clean the directory\n",
    "        clean_directory(paper_title_path)\n",
    "\n",
    "        # Remove the tar.gz file\n",
    "        os.remove(tar_path)\n",
    "\n",
    "        # Remove the folder if it's empty\n",
    "        if not os.listdir(paper_title_path):\n",
    "            os.rmdir(paper_title_path)\n",
    "\n",
    "    except Exception as e:\n",
    "        logging.error(f\"An error occurred with paper '{paper.title}': {e}\")\n",
    "\n",
    "        # Clean up any partially downloaded or extracted files\n",
    "        if os.path.exists(tar_path):\n",
    "            os.remove(tar_path)\n",
    "        if os.path.exists(paper_title_path):\n",
    "            clean_directory(paper_title_path)\n",
    "            os.rmdir(paper_title_path)\n"
   ],
   "metadata": {
    "collapsed": false,
    "ExecuteTime": {
     "end_time": "2023-12-27T13:46:30.458885Z",
     "start_time": "2023-12-27T13:46:29.628055Z"
    }
   },
   "id": "ced042fb1138d116"
  },
  {
   "cell_type": "code",
   "execution_count": null,
   "outputs": [],
   "source": [],
   "metadata": {
    "collapsed": false
   },
   "id": "84dd74dd33ed9a2b"
  }
 ],
 "metadata": {
  "kernelspec": {
   "display_name": "Python 3",
   "language": "python",
   "name": "python3"
  },
  "language_info": {
   "codemirror_mode": {
    "name": "ipython",
    "version": 2
   },
   "file_extension": ".py",
   "mimetype": "text/x-python",
   "name": "python",
   "nbconvert_exporter": "python",
   "pygments_lexer": "ipython2",
   "version": "2.7.6"
  }
 },
 "nbformat": 4,
 "nbformat_minor": 5
}

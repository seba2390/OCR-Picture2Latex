{
 "cells": [
  {
   "cell_type": "code",
   "execution_count": 4,
   "outputs": [],
   "source": [
    "import os\n",
    "from typing import List\n",
    "import tarfile \n",
    "import re\n",
    "import logging\n",
    "\n",
    "from tqdm import tqdm\n",
    "import arxiv\n",
    "\n",
    "from src.Categories import ArxivCategories"
   ],
   "metadata": {
    "collapsed": false,
    "ExecuteTime": {
     "end_time": "2023-12-27T23:12:59.892107Z",
     "start_time": "2023-12-27T23:12:59.890035Z"
    }
   },
   "id": "4d8847f11c2d515d"
  },
  {
   "cell_type": "code",
   "execution_count": 5,
   "outputs": [
    {
     "data": {
      "text/plain": "['astro-ph',\n 'cond-mat',\n 'qr-qc',\n 'hep-ex',\n 'hep-lat',\n 'hep-ph',\n 'hep-th',\n 'math-ph',\n 'nlin',\n 'nucl-ex',\n 'nucl-th',\n 'physics',\n 'quant-ph',\n 'math',\n 'CoRR',\n 'q-bio',\n 'q-fin',\n 'stat']"
     },
     "execution_count": 5,
     "metadata": {},
     "output_type": "execute_result"
    }
   ],
   "source": [
    "# Read https://info.arxiv.org/help/api/user-manual.html#query_details on how to construct queries\n",
    "category_tags = ArxivCategories().available_category_tags()\n",
    "category_tags"
   ],
   "metadata": {
    "collapsed": false,
    "ExecuteTime": {
     "end_time": "2023-12-27T23:13:00.050188Z",
     "start_time": "2023-12-27T23:13:00.045548Z"
    }
   },
   "id": "906b0381d5a1ac0f"
  },
  {
   "cell_type": "code",
   "execution_count": 6,
   "outputs": [],
   "source": [
    "def get_arxiv_paper_ids(start_number: int, end_number: int, representation_length: int, year: int, month: int) -> List[str]:\n",
    "    \"\"\"\n",
    "    Generate a list of formatted arXiv paper IDs within a specified range.\n",
    "\n",
    "    This function creates arXiv paper IDs using a combination of the specified year, month, and a range of numbers. \n",
    "    The IDs are formatted to match common arXiv ID conventions.\n",
    "\n",
    "    Parameters:\n",
    "    start_number (int): The starting number in the range of paper IDs.\n",
    "    end_number (int): The ending number in the range of paper IDs (inclusive).\n",
    "    representation_length (int): The total length of the numerical part of the paper ID.\n",
    "    year (int): The year of publication (last two digits, e.g., 23 for 2023).\n",
    "    month (int): The month of publication (e.g., 12 for December, 2 for February).\n",
    "\n",
    "    Returns:\n",
    "    List[str]: A list of formatted arXiv paper IDs.\n",
    "    \"\"\"\n",
    "\n",
    "    # Generate a list of numbers in the specified range, converting each to a string\n",
    "    numbers = [str(num) for num in range(start_number, end_number + 1)]\n",
    "\n",
    "    # Format each number into the arXiv paper ID format\n",
    "    return [\n",
    "        f\"{year:02d}{month:02d}.\" +  # Format year and month with leading zeros\n",
    "        '0' * (representation_length - len(num)) +  # Add leading zeros to the number part\n",
    "        num  # Append the number\n",
    "        for num in numbers\n",
    "    ]\n",
    "\n",
    "# Set up logging\n",
    "#logging.basicConfig(level=logging.DEBUG)\n",
    "\n",
    "# Function to sanitize file paths\n",
    "def sanitize_filename(name: str) -> str:\n",
    "    return re.sub(r'[^\\w\\s-]', '', name.replace(' ', '_'))\n",
    "\n",
    "def clean_directory(folder: str) -> None:\n",
    "    \"\"\"\n",
    "    Recursively clean a directory, keeping only .tex files.\n",
    "\n",
    "    This function traverses through all files and subdirectories within the given folder.\n",
    "    It retains files with a .tex extension and removes all other files. If a subdirectory\n",
    "    is found, the function is called recursively on that subdirectory. Empty directories\n",
    "    are removed.\n",
    "\n",
    "    Parameters:\n",
    "    folder (str): The path to the directory to be cleaned.\n",
    "    \"\"\"\n",
    "    for filename in os.listdir(folder):\n",
    "        file_path = os.path.join(folder, filename)\n",
    "\n",
    "        # Check if the current path is a file or a directory\n",
    "        if os.path.isfile(file_path):\n",
    "            # Remove the file if it does not have a .tex extension\n",
    "            if not filename.endswith('.tex'):\n",
    "                os.remove(file_path)\n",
    "        elif os.path.isdir(file_path):\n",
    "            # Recursively clean the subdirectory\n",
    "            clean_directory(file_path)\n",
    "\n",
    "            # Remove the subdirectory if it is empty after cleaning\n",
    "            if not os.listdir(file_path):\n",
    "                os.rmdir(file_path)\n"
   ],
   "metadata": {
    "collapsed": false,
    "ExecuteTime": {
     "end_time": "2023-12-27T23:13:00.568116Z",
     "start_time": "2023-12-27T23:13:00.566492Z"
    }
   },
   "id": "8b785808e96b51d3"
  },
  {
   "cell_type": "code",
   "execution_count": 7,
   "outputs": [
    {
     "name": "stdout",
     "output_type": "stream",
     "text": [
      "##########MONTH:  3 ##########\n"
     ]
    },
    {
     "name": "stderr",
     "output_type": "stream",
     "text": [
      "101it [04:48,  2.86s/it]\n"
     ]
    },
    {
     "name": "stdout",
     "output_type": "stream",
     "text": [
      "##########MONTH:  4 ##########\n"
     ]
    },
    {
     "name": "stderr",
     "output_type": "stream",
     "text": [
      "101it [03:53,  2.31s/it]\n"
     ]
    },
    {
     "name": "stdout",
     "output_type": "stream",
     "text": [
      "##########MONTH:  5 ##########\n"
     ]
    },
    {
     "name": "stderr",
     "output_type": "stream",
     "text": [
      "101it [05:02,  3.00s/it]\n"
     ]
    },
    {
     "name": "stdout",
     "output_type": "stream",
     "text": [
      "##########MONTH:  6 ##########\n"
     ]
    },
    {
     "name": "stderr",
     "output_type": "stream",
     "text": [
      "101it [04:45,  2.82s/it]\n"
     ]
    },
    {
     "name": "stdout",
     "output_type": "stream",
     "text": [
      "##########MONTH:  7 ##########\n"
     ]
    },
    {
     "name": "stderr",
     "output_type": "stream",
     "text": [
      "101it [03:53,  2.31s/it]\n"
     ]
    },
    {
     "name": "stdout",
     "output_type": "stream",
     "text": [
      "##########MONTH:  8 ##########\n"
     ]
    },
    {
     "name": "stderr",
     "output_type": "stream",
     "text": [
      "101it [03:56,  2.34s/it]\n"
     ]
    },
    {
     "name": "stdout",
     "output_type": "stream",
     "text": [
      "##########MONTH:  9 ##########\n"
     ]
    },
    {
     "name": "stderr",
     "output_type": "stream",
     "text": [
      "101it [03:53,  2.31s/it]\n"
     ]
    },
    {
     "name": "stdout",
     "output_type": "stream",
     "text": [
      "##########MONTH:  10 ##########\n"
     ]
    },
    {
     "name": "stderr",
     "output_type": "stream",
     "text": [
      "101it [05:01,  2.98s/it]\n"
     ]
    },
    {
     "name": "stdout",
     "output_type": "stream",
     "text": [
      "##########MONTH:  11 ##########\n"
     ]
    },
    {
     "name": "stderr",
     "output_type": "stream",
     "text": [
      "101it [05:28,  3.25s/it]\n"
     ]
    },
    {
     "name": "stdout",
     "output_type": "stream",
     "text": [
      "##########MONTH:  12 ##########\n"
     ]
    },
    {
     "name": "stderr",
     "output_type": "stream",
     "text": [
      "101it [05:10,  3.08s/it]\n"
     ]
    }
   ],
   "source": [
    "# Number of papers to download\n",
    "N_papers = 100\n",
    "start_number = 210\n",
    "# Initialize arXiv client\n",
    "client = arxiv.Client()\n",
    "\n",
    "for month in [3,4,5,6,7,8,9,10,11,12]:\n",
    "    print(\"#\"*10+\" MONTH: \", month, \"#\"*10)\n",
    "    # Query arXiv\n",
    "    id_list = get_arxiv_paper_ids(start_number=start_number,\n",
    "                                  end_number=start_number+N_papers,\n",
    "                                  representation_length=5, # Check arxiv to find this for specific year,month\n",
    "                                  year=23,\n",
    "                                  month=month)\n",
    "    results = client.results(arxiv.Search(id_list=id_list))\n",
    "    \n",
    "    # Download and process papers\n",
    "    for paper in tqdm(results):\n",
    "        folder_path = 'papers/'\n",
    "        sanitized_title = sanitize_filename(paper.title)\n",
    "        paper_title_path = os.path.join(folder_path, sanitized_title)\n",
    "        tar_path = paper_title_path + '.tar.gz'\n",
    "    \n",
    "        try:\n",
    "            # Download the source\n",
    "            paper.download_source(dirpath=folder_path, filename=os.path.basename(tar_path))\n",
    "    \n",
    "            # Extract the tar.gz file\n",
    "            with tarfile.open(tar_path) as file:\n",
    "                file.extractall(paper_title_path)\n",
    "    \n",
    "            # Clean the directory\n",
    "            clean_directory(paper_title_path)\n",
    "    \n",
    "            # Remove the tar.gz file\n",
    "            os.remove(tar_path)\n",
    "    \n",
    "            # Remove the folder if it's empty\n",
    "            if not os.listdir(paper_title_path):\n",
    "                os.rmdir(paper_title_path)\n",
    "    \n",
    "        except Exception as e:\n",
    "            logging.error(f\"An error occurred with paper '{paper.title}': {e}\")\n",
    "    \n",
    "            # Clean up any partially downloaded or extracted files\n",
    "            if os.path.exists(tar_path):\n",
    "                os.remove(tar_path)\n",
    "            if os.path.exists(paper_title_path):\n",
    "                clean_directory(paper_title_path)\n",
    "                os.rmdir(paper_title_path)\n"
   ],
   "metadata": {
    "collapsed": false,
    "ExecuteTime": {
     "end_time": "2023-12-27T23:58:54.508688Z",
     "start_time": "2023-12-27T23:13:01.037572Z"
    }
   },
   "id": "ced042fb1138d116"
  },
  {
   "cell_type": "code",
   "execution_count": 26,
   "outputs": [],
   "source": [],
   "metadata": {
    "collapsed": false,
    "ExecuteTime": {
     "end_time": "2023-12-27T21:02:50.973452Z",
     "start_time": "2023-12-27T21:02:50.971030Z"
    }
   },
   "id": "82f3f2013b53497f"
  },
  {
   "cell_type": "code",
   "execution_count": null,
   "outputs": [],
   "source": [],
   "metadata": {
    "collapsed": false
   },
   "id": "727e74631fffc8de"
  }
 ],
 "metadata": {
  "kernelspec": {
   "display_name": "Python 3",
   "language": "python",
   "name": "python3"
  },
  "language_info": {
   "codemirror_mode": {
    "name": "ipython",
    "version": 2
   },
   "file_extension": ".py",
   "mimetype": "text/x-python",
   "name": "python",
   "nbconvert_exporter": "python",
   "pygments_lexer": "ipython2",
   "version": "2.7.6"
  }
 },
 "nbformat": 4,
 "nbformat_minor": 5
}

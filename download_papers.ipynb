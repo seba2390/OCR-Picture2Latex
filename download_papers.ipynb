{
 "cells": [
  {
   "cell_type": "code",
   "execution_count": 4,
   "outputs": [],
   "source": [
    "import os\n",
    "import shutil\n",
    "from tqdm import tqdm\n",
    "\n",
    "import tarfile \n",
    "import arxiv\n",
    "\n",
    "from src.Categories import ArxivCategories"
   ],
   "metadata": {
    "collapsed": false,
    "ExecuteTime": {
     "end_time": "2023-12-27T02:52:13.467519Z",
     "start_time": "2023-12-27T02:52:13.459124Z"
    }
   },
   "id": "4d8847f11c2d515d"
  },
  {
   "cell_type": "code",
   "execution_count": 5,
   "outputs": [
    {
     "data": {
      "text/plain": "['astro-ph',\n 'cond-mat',\n 'qr-qc',\n 'hep-ex',\n 'hep-lat',\n 'hep-ph',\n 'hep-th',\n 'math-ph',\n 'nlin',\n 'nucl-ex',\n 'nucl-th',\n 'physics',\n 'quant-ph',\n 'math',\n 'CoRR',\n 'q-bio',\n 'q-fin',\n 'stat']"
     },
     "execution_count": 5,
     "metadata": {},
     "output_type": "execute_result"
    }
   ],
   "source": [
    "# Read https://info.arxiv.org/help/api/user-manual.html#query_details on how to construct queries\n",
    "category_tags = ArxivCategories().available_category_tags()\n",
    "category_tags"
   ],
   "metadata": {
    "collapsed": false,
    "ExecuteTime": {
     "end_time": "2023-12-27T02:52:14.045537Z",
     "start_time": "2023-12-27T02:52:14.038328Z"
    }
   },
   "id": "906b0381d5a1ac0f"
  },
  {
   "cell_type": "code",
   "execution_count": 7,
   "outputs": [
    {
     "name": "stderr",
     "output_type": "stream",
     "text": [
      "0it [00:00, ?it/s]INFO:arxiv:Requesting page (first: True, try: 0): https://export.arxiv.org/api/query?search_query=cat:quant-ph&id_list=&sortBy=submittedDate&sortOrder=descending&start=0&max_results=100\n",
      "DEBUG:urllib3.connectionpool:Starting new HTTPS connection (1): export.arxiv.org:443\n",
      "DEBUG:urllib3.connectionpool:https://export.arxiv.org:443 \"GET /api/query?search_query=cat:quant-ph&id_list=&sortBy=submittedDate&sortOrder=descending&start=0&max_results=100 HTTP/1.1\" 200 54584\n",
      "INFO:arxiv:Got first page: 100 of 142475 total results\n",
      "4it [01:32, 23.14s/it]\n"
     ]
    },
    {
     "ename": "KeyboardInterrupt",
     "evalue": "",
     "output_type": "error",
     "traceback": [
      "\u001B[0;31m---------------------------------------------------------------------------\u001B[0m",
      "\u001B[0;31mKeyboardInterrupt\u001B[0m                         Traceback (most recent call last)",
      "Cell \u001B[0;32mIn [7], line 15\u001B[0m\n\u001B[1;32m     12\u001B[0m tar_path \u001B[38;5;241m=\u001B[39m paper_title_path \u001B[38;5;241m+\u001B[39m \u001B[38;5;124m'\u001B[39m\u001B[38;5;124m.tar.gz\u001B[39m\u001B[38;5;124m'\u001B[39m\n\u001B[1;32m     14\u001B[0m \u001B[38;5;66;03m# Download the source\u001B[39;00m\n\u001B[0;32m---> 15\u001B[0m \u001B[43mpaper\u001B[49m\u001B[38;5;241;43m.\u001B[39;49m\u001B[43mdownload_source\u001B[49m\u001B[43m(\u001B[49m\u001B[43mdirpath\u001B[49m\u001B[38;5;241;43m=\u001B[39;49m\u001B[43mfolder_path\u001B[49m\u001B[43m,\u001B[49m\u001B[43m \u001B[49m\u001B[43mfilename\u001B[49m\u001B[38;5;241;43m=\u001B[39;49m\u001B[43mos\u001B[49m\u001B[38;5;241;43m.\u001B[39;49m\u001B[43mpath\u001B[49m\u001B[38;5;241;43m.\u001B[39;49m\u001B[43mbasename\u001B[49m\u001B[43m(\u001B[49m\u001B[43mtar_path\u001B[49m\u001B[43m)\u001B[49m\u001B[43m)\u001B[49m\n\u001B[1;32m     17\u001B[0m \u001B[38;5;66;03m# Extract the tar.gz file\u001B[39;00m\n\u001B[1;32m     18\u001B[0m \u001B[38;5;28;01mwith\u001B[39;00m tarfile\u001B[38;5;241m.\u001B[39mopen(tar_path) \u001B[38;5;28;01mas\u001B[39;00m file:\n",
      "File \u001B[0;32m~/miniforge3/lib/python3.10/site-packages/arxiv/__init__.py:229\u001B[0m, in \u001B[0;36mResult.download_source\u001B[0;34m(self, dirpath, filename)\u001B[0m\n\u001B[1;32m    227\u001B[0m \u001B[38;5;66;03m# Bodge: construct the source URL from the PDF URL.\u001B[39;00m\n\u001B[1;32m    228\u001B[0m source_url \u001B[38;5;241m=\u001B[39m \u001B[38;5;28mself\u001B[39m\u001B[38;5;241m.\u001B[39mpdf_url\u001B[38;5;241m.\u001B[39mreplace(\u001B[38;5;124m\"\u001B[39m\u001B[38;5;124m/pdf/\u001B[39m\u001B[38;5;124m\"\u001B[39m, \u001B[38;5;124m\"\u001B[39m\u001B[38;5;124m/src/\u001B[39m\u001B[38;5;124m\"\u001B[39m)\n\u001B[0;32m--> 229\u001B[0m written_path, _ \u001B[38;5;241m=\u001B[39m \u001B[43murlretrieve\u001B[49m\u001B[43m(\u001B[49m\u001B[43msource_url\u001B[49m\u001B[43m,\u001B[49m\u001B[43m \u001B[49m\u001B[43mpath\u001B[49m\u001B[43m)\u001B[49m\n\u001B[1;32m    230\u001B[0m \u001B[38;5;28;01mreturn\u001B[39;00m written_path\n",
      "File \u001B[0;32m~/miniforge3/lib/python3.10/urllib/request.py:270\u001B[0m, in \u001B[0;36murlretrieve\u001B[0;34m(url, filename, reporthook, data)\u001B[0m\n\u001B[1;32m    267\u001B[0m     reporthook(blocknum, bs, size)\n\u001B[1;32m    269\u001B[0m \u001B[38;5;28;01mwhile\u001B[39;00m \u001B[38;5;28;01mTrue\u001B[39;00m:\n\u001B[0;32m--> 270\u001B[0m     block \u001B[38;5;241m=\u001B[39m \u001B[43mfp\u001B[49m\u001B[38;5;241;43m.\u001B[39;49m\u001B[43mread\u001B[49m\u001B[43m(\u001B[49m\u001B[43mbs\u001B[49m\u001B[43m)\u001B[49m\n\u001B[1;32m    271\u001B[0m     \u001B[38;5;28;01mif\u001B[39;00m \u001B[38;5;129;01mnot\u001B[39;00m block:\n\u001B[1;32m    272\u001B[0m         \u001B[38;5;28;01mbreak\u001B[39;00m\n",
      "File \u001B[0;32m~/miniforge3/lib/python3.10/http/client.py:465\u001B[0m, in \u001B[0;36mHTTPResponse.read\u001B[0;34m(self, amt)\u001B[0m\n\u001B[1;32m    462\u001B[0m \u001B[38;5;28;01mif\u001B[39;00m \u001B[38;5;28mself\u001B[39m\u001B[38;5;241m.\u001B[39mlength \u001B[38;5;129;01mis\u001B[39;00m \u001B[38;5;129;01mnot\u001B[39;00m \u001B[38;5;28;01mNone\u001B[39;00m \u001B[38;5;129;01mand\u001B[39;00m amt \u001B[38;5;241m>\u001B[39m \u001B[38;5;28mself\u001B[39m\u001B[38;5;241m.\u001B[39mlength:\n\u001B[1;32m    463\u001B[0m     \u001B[38;5;66;03m# clip the read to the \"end of response\"\u001B[39;00m\n\u001B[1;32m    464\u001B[0m     amt \u001B[38;5;241m=\u001B[39m \u001B[38;5;28mself\u001B[39m\u001B[38;5;241m.\u001B[39mlength\n\u001B[0;32m--> 465\u001B[0m s \u001B[38;5;241m=\u001B[39m \u001B[38;5;28;43mself\u001B[39;49m\u001B[38;5;241;43m.\u001B[39;49m\u001B[43mfp\u001B[49m\u001B[38;5;241;43m.\u001B[39;49m\u001B[43mread\u001B[49m\u001B[43m(\u001B[49m\u001B[43mamt\u001B[49m\u001B[43m)\u001B[49m\n\u001B[1;32m    466\u001B[0m \u001B[38;5;28;01mif\u001B[39;00m \u001B[38;5;129;01mnot\u001B[39;00m s \u001B[38;5;129;01mand\u001B[39;00m amt:\n\u001B[1;32m    467\u001B[0m     \u001B[38;5;66;03m# Ideally, we would raise IncompleteRead if the content-length\u001B[39;00m\n\u001B[1;32m    468\u001B[0m     \u001B[38;5;66;03m# wasn't satisfied, but it might break compatibility.\u001B[39;00m\n\u001B[1;32m    469\u001B[0m     \u001B[38;5;28mself\u001B[39m\u001B[38;5;241m.\u001B[39m_close_conn()\n",
      "File \u001B[0;32m~/miniforge3/lib/python3.10/socket.py:705\u001B[0m, in \u001B[0;36mSocketIO.readinto\u001B[0;34m(self, b)\u001B[0m\n\u001B[1;32m    703\u001B[0m \u001B[38;5;28;01mwhile\u001B[39;00m \u001B[38;5;28;01mTrue\u001B[39;00m:\n\u001B[1;32m    704\u001B[0m     \u001B[38;5;28;01mtry\u001B[39;00m:\n\u001B[0;32m--> 705\u001B[0m         \u001B[38;5;28;01mreturn\u001B[39;00m \u001B[38;5;28;43mself\u001B[39;49m\u001B[38;5;241;43m.\u001B[39;49m\u001B[43m_sock\u001B[49m\u001B[38;5;241;43m.\u001B[39;49m\u001B[43mrecv_into\u001B[49m\u001B[43m(\u001B[49m\u001B[43mb\u001B[49m\u001B[43m)\u001B[49m\n\u001B[1;32m    706\u001B[0m     \u001B[38;5;28;01mexcept\u001B[39;00m timeout:\n\u001B[1;32m    707\u001B[0m         \u001B[38;5;28mself\u001B[39m\u001B[38;5;241m.\u001B[39m_timeout_occurred \u001B[38;5;241m=\u001B[39m \u001B[38;5;28;01mTrue\u001B[39;00m\n",
      "\u001B[0;31mKeyboardInterrupt\u001B[0m: "
     ]
    }
   ],
   "source": [
    "import logging\n",
    "logging.basicConfig(level=logging.DEBUG)\n",
    "N_papers = 100\n",
    "\n",
    "client = arxiv.Client()\n",
    "results = client.results(arxiv.Search(query=\"cat:quant-ph\",\n",
    "                                      max_results=N_papers,\n",
    "                                      sort_by = arxiv.SortCriterion.SubmittedDate))\n",
    "for paper in tqdm(results):\n",
    "    folder_path = 'papers/'\n",
    "    paper_title_path = os.path.join(folder_path, paper.title)\n",
    "    tar_path = paper_title_path + '.tar.gz'\n",
    "\n",
    "    # Download the source\n",
    "    paper.download_source(dirpath=folder_path, filename=os.path.basename(tar_path))\n",
    "\n",
    "    # Extract the tar.gz file\n",
    "    with tarfile.open(tar_path) as file:\n",
    "        file.extractall(paper_title_path)\n",
    "\n",
    "    # Delete the tar.gz file\n",
    "    os.remove(tar_path)\n",
    "\n",
    "    # Delete everything except .tex files\n",
    "    for filename in os.listdir(paper_title_path):\n",
    "        file_path = os.path.join(paper_title_path, filename)\n",
    "        if os.path.isfile(file_path) and not filename.endswith('.tex'):\n",
    "            os.remove(file_path)\n",
    "        elif os.path.isdir(file_path):  # If it's a directory\n",
    "            shutil.rmtree(file_path)  # Use shutil.rmtree to remove directories\n",
    "\n",
    "    # If the folder is empty, delete it\n",
    "    if not os.listdir(paper_title_path):\n",
    "        os.rmdir(paper_title_path)\n",
    "      \n",
    "    \n"
   ],
   "metadata": {
    "collapsed": false,
    "ExecuteTime": {
     "end_time": "2023-12-27T02:54:08.247632Z",
     "start_time": "2023-12-27T02:52:35.619923Z"
    }
   },
   "id": "ced042fb1138d116"
  },
  {
   "cell_type": "code",
   "execution_count": 1,
   "outputs": [
    {
     "name": "stdout",
     "output_type": "stream",
     "text": [
      "Extracted content saved to extracted_main.tex\n"
     ]
    }
   ],
   "source": [
    "import re\n",
    "import os\n",
    "\n",
    "# Define the LaTeX environments you want to extract\n",
    "environments = ['equation', 'align', 'gather', 'multline', 'flalign']\n",
    "\n",
    "# Regular expression for matching LaTeX environments\n",
    "env_regex = r'\\\\begin\\{(' + '|'.join(environments) + r')\\}(.*?)\\\\end\\{\\1\\}'\n",
    "\n",
    "# Function to extract all LaTeX environments from a text\n",
    "def extract_latex_envs(text, regex):\n",
    "    return re.findall(regex, text, re.DOTALL)\n",
    "\n",
    "# Read the .tex file\n",
    "def read_tex_file(file_path):\n",
    "    with open(file_path, 'r', encoding='utf-8') as file:\n",
    "        return file.read()\n",
    "\n",
    "# Save the extracted content to a new file\n",
    "def save_extracted_content(content, output_file):\n",
    "    with open(output_file, 'w', encoding='utf-8') as file:\n",
    "        for env, math in content:\n",
    "            file.write(f'\\\\begin{{{env}}}\\n{math}\\\\end{{{env}}}\\n\\n')\n",
    "\n",
    "# Main function to process all .tex files in a directory\n",
    "def process_tex_files(directory):\n",
    "    for filename in os.listdir(directory):\n",
    "        if filename.endswith('.tex'):\n",
    "            file_path = os.path.join(directory, filename)\n",
    "            tex_content = read_tex_file(file_path)\n",
    "            extracted_content = extract_latex_envs(tex_content, env_regex)\n",
    "            if extracted_content:\n",
    "                output_file = f'extracted_{filename}'\n",
    "                save_extracted_content(extracted_content, output_file)\n",
    "                print(f'Extracted content saved to {output_file}')\n",
    "\n",
    "# Replace 'your_directory_path' with the path to your .tex files\n",
    "process_tex_files('papers/')\n"
   ],
   "metadata": {
    "collapsed": false,
    "ExecuteTime": {
     "end_time": "2023-12-27T02:46:03.040345Z",
     "start_time": "2023-12-27T02:46:03.035219Z"
    }
   },
   "id": "3e81d7f4f7c1a435"
  },
  {
   "cell_type": "code",
   "execution_count": null,
   "outputs": [],
   "source": [],
   "metadata": {
    "collapsed": false
   },
   "id": "84dd74dd33ed9a2b"
  }
 ],
 "metadata": {
  "kernelspec": {
   "display_name": "Python 3",
   "language": "python",
   "name": "python3"
  },
  "language_info": {
   "codemirror_mode": {
    "name": "ipython",
    "version": 2
   },
   "file_extension": ".py",
   "mimetype": "text/x-python",
   "name": "python",
   "nbconvert_exporter": "python",
   "pygments_lexer": "ipython2",
   "version": "2.7.6"
  }
 },
 "nbformat": 4,
 "nbformat_minor": 5
}

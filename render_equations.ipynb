{
 "cells": [
  {
   "cell_type": "code",
   "execution_count": 65,
   "outputs": [],
   "source": [
    "import os\n",
    "import subprocess\n",
    "from joblib import Parallel, delayed\n",
    "\n",
    "from tqdm import tqdm\n"
   ],
   "metadata": {
    "collapsed": false,
    "ExecuteTime": {
     "end_time": "2023-12-30T20:09:24.455584Z",
     "start_time": "2023-12-30T20:09:24.444450Z"
    }
   },
   "id": "6560dae24072ab7a"
  },
  {
   "cell_type": "code",
   "execution_count": 69,
   "outputs": [
    {
     "data": {
      "text/plain": "True"
     },
     "execution_count": 69,
     "metadata": {},
     "output_type": "execute_result"
    }
   ],
   "source": [
    "def create_pdf_from_latex(latex_content: str, output_filename:str, counter: int) -> bool:\n",
    "    # Check if the content is already a math environment\n",
    "    if latex_content.strip().startswith(\"\\\\begin\"):\n",
    "        math_content = latex_content\n",
    "    else:\n",
    "        math_content = f\"\\\\({latex_content}\\\\)\"  # Inline math\n",
    "\n",
    "    document_template = f\"\"\"\n",
    "    \\\\documentclass[12pt]{{article}}\n",
    "    \\\\usepackage{{amsmath}}\n",
    "    \\\\usepackage{{amsfonts}}\n",
    "    \\\\usepackage{{amssymb}}\n",
    "    \\\\usepackage{{amsthm}}\n",
    "    \\\\usepackage{{mathtools}}\n",
    "    \\\\usepackage{{physics}}\n",
    "    \\\\usepackage{{siunitx}}\n",
    "    \\\\usepackage{{mhchem}}\n",
    "    \\\\pagestyle{{empty}}\n",
    "    \\\\begin{{document}}\n",
    "    \\\\begin{{center}}\n",
    "    {math_content}\n",
    "    \\\\end{{center}}\n",
    "    \\\\end{{document}}\n",
    "    \"\"\"\n",
    "    \n",
    "    try: \n",
    "        with open(f\"temp_{counter}.tex\", \"w\") as file:\n",
    "            file.write(document_template)\n",
    "    \n",
    "        subprocess.run([\"pdflatex\", f\"temp_{counter}.tex\"], stdout=subprocess.DEVNULL, stderr=subprocess.DEVNULL)\n",
    "        os.rename(f\"temp_{counter}.pdf\", f\"{output_filename}\")\n",
    "        os.remove(f\"temp_{counter}.tex\")\n",
    "        os.remove(f\"temp_{counter}.aux\")\n",
    "        os.remove(f\"temp_{counter}.log\")\n",
    "        \n",
    "        result = subprocess.run([\"pdfcrop\", \n",
    "                                 output_filename, \n",
    "                                 output_filename], capture_output=True, text=True)\n",
    "        return True\n",
    "    except Exception as e:\n",
    "        return False\n",
    "\n",
    "# Example usage\n",
    "latex_math = \"\\\\begin{equation*}e^{i\\\\pi} + 1 = 0\\\\end{equation*}\"\n",
    "output_file = \"output_0.pdf\"\n",
    "\n",
    "create_pdf_from_latex(latex_math, output_file, 0)\n"
   ],
   "metadata": {
    "collapsed": false,
    "ExecuteTime": {
     "end_time": "2023-12-30T20:09:44.518316Z",
     "start_time": "2023-12-30T20:09:43.733559Z"
    }
   },
   "id": "a6ee74743727dcd5"
  },
  {
   "cell_type": "code",
   "execution_count": 64,
   "outputs": [],
   "source": [
    "equations = open('equations/unique_equations.txt','r').readlines()[:100]\n",
    "rendered_equations = []"
   ],
   "metadata": {
    "collapsed": false,
    "ExecuteTime": {
     "end_time": "2023-12-30T20:06:52.924955Z",
     "start_time": "2023-12-30T20:06:52.905539Z"
    }
   },
   "id": "a4721ef256e8dbc8"
  },
  {
   "cell_type": "code",
   "execution_count": 55,
   "outputs": [
    {
     "name": "stderr",
     "output_type": "stream",
     "text": [
      "100%|██████████| 68946/68946 [00:06<00:00, 11400.66it/s]\n"
     ]
    }
   ],
   "source": [
    "counter, equation_counter = 0,1\n",
    "with open('outputs/rendered_equations.txt','w') as file:\n",
    "    for equation in tqdm(open('equations/unique_equations.txt','r').readlines()):\n",
    "        equation_rendered = True\n",
    "        if counter < 10:\n",
    "            try:\n",
    "                create_pdf_from_latex(equation, 'outputs/output_' + str(counter) + '.pdf')\n",
    "            except Exception as e:\n",
    "                equation_rendered = False\n",
    "            if equation_rendered:\n",
    "                rendered_equations.append(equation)\n",
    "        counter += 1\n",
    "        \n",
    "    "
   ],
   "metadata": {
    "collapsed": false,
    "ExecuteTime": {
     "end_time": "2023-12-30T19:56:16.739377Z",
     "start_time": "2023-12-30T19:56:10.663705Z"
    }
   },
   "id": "60c4f639ec8356a0"
  },
  {
   "cell_type": "code",
   "execution_count": null,
   "outputs": [],
   "source": [
    "with open('outputs/rendered_equations.txt','w') as file:\n",
    "    for equation in rendered_equations:\n",
    "        file.write(equation)"
   ],
   "metadata": {
    "collapsed": false
   },
   "id": "97abaf6638569051"
  },
  {
   "cell_type": "code",
   "execution_count": 57,
   "outputs": [],
   "source": [
    "for file in os.listdir('outputs'):\n",
    "    if file.endswith('.pdf'):\n",
    "        result = subprocess.run([\"convert\",\n",
    "                                 \"-density\",\n",
    "                                 \"500\",\n",
    "                                 'outputs/'+file,\n",
    "                                 'outputs/'+file[:-4]+\".png\"])\n",
    "        os.remove('outputs/'+file)"
   ],
   "metadata": {
    "collapsed": false,
    "ExecuteTime": {
     "end_time": "2023-12-30T19:56:40.019750Z",
     "start_time": "2023-12-30T19:56:39.264733Z"
    }
   },
   "id": "d018a1041f6015f9"
  },
  {
   "cell_type": "code",
   "execution_count": null,
   "outputs": [],
   "source": [],
   "metadata": {
    "collapsed": false
   },
   "id": "5a5c1967c990acf4"
  }
 ],
 "metadata": {
  "kernelspec": {
   "display_name": "Python 3",
   "language": "python",
   "name": "python3"
  },
  "language_info": {
   "codemirror_mode": {
    "name": "ipython",
    "version": 2
   },
   "file_extension": ".py",
   "mimetype": "text/x-python",
   "name": "python",
   "nbconvert_exporter": "python",
   "pygments_lexer": "ipython2",
   "version": "2.7.6"
  }
 },
 "nbformat": 4,
 "nbformat_minor": 5
}

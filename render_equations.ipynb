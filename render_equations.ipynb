{
 "cells": [
  {
   "cell_type": "code",
   "execution_count": 1,
   "id": "b8ecdbd5f919f764",
   "metadata": {
    "collapsed": true,
    "ExecuteTime": {
     "end_time": "2023-12-28T19:52:37.799869Z",
     "start_time": "2023-12-28T19:52:37.451420Z"
    }
   },
   "outputs": [],
   "source": [
    "import matplotlib.pyplot as plt\n",
    "import os\n",
    "from typing import Union, Tuple"
   ]
  },
  {
   "cell_type": "code",
   "execution_count": 12,
   "outputs": [],
   "source": [
    "def latex_to_image(math_expr: str, file_name: str, location: str, file_format: str = 'png',\n",
    "                   picture_dims: Union[str,Tuple[float,float]] = 'A4',\n",
    "                   resolution: Union[float, int] = 300, transparent: bool = True) -> None:\n",
    "    \"\"\"\n",
    "    Converts a LaTeX math expression to an image in the specified file format and saves it with the specified file name.\n",
    "\n",
    "    Args:\n",
    "        math_expr (str): The LaTeX math expression to be converted to an image.\n",
    "        file_name (str): The name of the file to be saved.\n",
    "        file_format (str, optional): The format of the output file. Defaults to 'png'.\n",
    "        picture_dims (Union[str,Tuple[float,float]], optional): The dimensions of the output picture. Can be either a\n",
    "                                                               string specifying one of the standard dimensions (Letter,\n",
    "                                                               Legal, A4, A5) or a tuple of the form (width, height).\n",
    "                                                               Defaults to 'A4'.\n",
    "        resolution (Union[float, int], optional): The resolution of the output image in DPI (dots per inch). Defaults to 300.\n",
    "        transparent (bool, optional): Whether to save the image with a transparent background. Defaults to True.\n",
    "\n",
    "    Raises:\n",
    "        ValueError: If picture_dims is not one of the standard dimensions (Letter, Legal, A4, A5).\n",
    "    \"\"\"\n",
    "\n",
    "    # Standard square dimensions of output picture\n",
    "    std_dims = {\"Letter\":(8.5,14.0), \"Legal\":(8.5,14.0),\n",
    "                \"A4\":(8.3,11.7), \"A5\":(5.8, 8.3)}\n",
    "\n",
    "    if picture_dims in list(std_dims.keys()):\n",
    "        DIMS = std_dims[picture_dims]\n",
    "    else:\n",
    "        raise ValueError(f\"{picture_dims} not known - should be in: {list(std_dims.keys())}.\")\n",
    "\n",
    "    # Create the download directory if it doesn't exist\n",
    "    if not os.path.exists(location):\n",
    "        # Notify the user that the download directory was created\n",
    "        print(f\"N.B.: Path '{location}' didn't already exist, so it was created... \")\n",
    "        os.makedirs(location)\n",
    "\n",
    "    # Set the LaTeX font\n",
    "    plt.rcParams['text.usetex'] = True\n",
    "    plt.rcParams['text.latex.preamble'] = f'\\\\usepackage{{amsfonts}}'+f'\\\\usepackage{{mathrsfs}}'+f'\\\\usepackage{{amsmath}}'+f'\\\\usepackage{{bm}}'+f'\\\\usepackage{{mathdots}}'+f'\\\\usepackage{{amssymb}}'+f'\\\\usepackage{{physics}}'\n",
    "\n",
    "    # Add $ symbols to format the string as an inline math expression\n",
    "    inline_expr = to_inline_expr(math_expr=math_expr)\n",
    "\n",
    "    # Create a plot with the expression\n",
    "    fig, ax = plt.subplots(figsize=DIMS)\n",
    "    ax.text(0.5, 0.5, inline_expr, size=20, ha='center')\n",
    "\n",
    "    # Remove the plot axes\n",
    "    ax.set_axis_off()\n",
    "\n",
    "    # Save the plot as a PNG with a transparent background\n",
    "    plt.savefig(fname=location+file_name+\".\"+file_format, format=file_format, transparent=transparent, bbox_inches='tight', pad_inches=0.0, dpi=resolution)\n",
    "    plt.close(fig)\n",
    "    \n",
    "def to_inline_expr(math_expr: str) -> str:\n",
    "    \"\"\"\n",
    "    Convert a LaTeX math expression to an inline math expression.\n",
    "\n",
    "    Parameters\n",
    "    ----------\n",
    "    math_expr : str\n",
    "        The LaTeX math expression to convert.\n",
    "\n",
    "    Returns\n",
    "    -------\n",
    "    str\n",
    "        The converted inline math expression.\n",
    "    \"\"\"\n",
    "    return '$' + math_expr + '$'"
   ],
   "metadata": {
    "collapsed": false,
    "ExecuteTime": {
     "end_time": "2023-12-28T19:58:28.927853Z",
     "start_time": "2023-12-28T19:58:28.913487Z"
    }
   },
   "id": "a6ee74743727dcd5"
  },
  {
   "cell_type": "code",
   "execution_count": 13,
   "outputs": [],
   "source": [
    "equation = ' 2e^{-x^4}'\n",
    "\n",
    "latex_to_image(math_expr=equation,file_name='test',location='./')"
   ],
   "metadata": {
    "collapsed": false,
    "ExecuteTime": {
     "end_time": "2023-12-28T19:58:30.633151Z",
     "start_time": "2023-12-28T19:58:29.336519Z"
    }
   },
   "id": "c7f8fd63bed5da04"
  },
  {
   "cell_type": "code",
   "execution_count": null,
   "outputs": [],
   "source": [],
   "metadata": {
    "collapsed": false
   },
   "id": "5e66b8072c655482"
  }
 ],
 "metadata": {
  "kernelspec": {
   "display_name": "Python 3",
   "language": "python",
   "name": "python3"
  },
  "language_info": {
   "codemirror_mode": {
    "name": "ipython",
    "version": 2
   },
   "file_extension": ".py",
   "mimetype": "text/x-python",
   "name": "python",
   "nbconvert_exporter": "python",
   "pygments_lexer": "ipython2",
   "version": "2.7.6"
  }
 },
 "nbformat": 4,
 "nbformat_minor": 5
}

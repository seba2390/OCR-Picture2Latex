{
 "cells": [
  {
   "cell_type": "code",
   "execution_count": 1,
   "outputs": [],
   "source": [
    "from ArxivEquationScraping import *\n",
    "from EquationFiltering import *\n",
    "from PictureGenerator import *"
   ],
   "metadata": {
    "collapsed": false,
    "pycharm": {
     "name": "#%%\n"
    }
   }
  },
  {
   "cell_type": "markdown",
   "source": [
    "#### - Scraping ArXiv for STEM-category papers:"
   ],
   "metadata": {
    "collapsed": false,
    "pycharm": {
     "name": "#%% md\n"
    }
   }
  },
  {
   "cell_type": "code",
   "execution_count": 2,
   "outputs": [
    {
     "name": "stdout",
     "output_type": "stream",
     "text": [
      "======= Downloading: 10 (out of 1438) papers in category: 'physics' in YY/MM: 2303 =======\n",
      "Downloading paper:  1  with id:  2303.00033  ...\n",
      "Downloading paper:  2  with id:  2303.00036  ...\n",
      "Downloading paper:  3  with id:  2303.00037  ...\n",
      "Downloading paper:  4  with id:  2303.00041  ...\n",
      "Downloading paper:  5  with id:  2303.00059  ...\n",
      "Downloading paper:  6  with id:  2303.00061  ...\n",
      "Downloading paper:  7  with id:  2303.00072  ...\n",
      "Downloading paper:  8  with id:  2303.00081  ...\n",
      "Downloading paper:  9  with id:  2303.00104  ...\n",
      "Downloading paper:  10  with id:  2303.00114  ...\n"
     ]
    }
   ],
   "source": [
    "nr_papers = 10\n",
    "STEM_category = 'physics'\n",
    "download_directory = \"arxiv_papers/\"\n",
    "download_arxiv_papers(STEM_category, nr_papers, download_dir=download_directory)"
   ],
   "metadata": {
    "collapsed": false,
    "pycharm": {
     "name": "#%%\n"
    }
   }
  },
  {
   "cell_type": "markdown",
   "source": [
    "#### - Extracting .tex files from papers and deleting other files:"
   ],
   "metadata": {
    "collapsed": false,
    "pycharm": {
     "name": "#%% md\n"
    }
   }
  },
  {
   "cell_type": "code",
   "execution_count": 3,
   "outputs": [
    {
     "name": "stdout",
     "output_type": "stream",
     "text": [
      " ===== Handling file nr: 1 with id: .DS_Store =====\n",
      " ===== Handling file nr: 2 with id: 2303.00072 =====\n",
      " File nr: 2 with id: 2303.00072 - contains '.tex' file: \n",
      "Extracting main.tex as main.tex\n",
      " ===== Handling file nr: 3 with id: 2303.00081 =====\n",
      " File nr: 3 with id: 2303.00081 - contains '.tex' file: \n",
      "Extracting main.tex as main_1.tex\n",
      " ===== Handling file nr: 4 with id: 2303.00059 =====\n",
      " File nr: 4 with id: 2303.00059 - contains '.tex' file: \n",
      "Extracting PoP_LRRC.tex as PoP_LRRC.tex\n",
      " ===== Handling file nr: 5 with id: 2303.00061 =====\n",
      " Deleting file nr: 5 with id: 2303.00061 - no '.tex' file found...\n",
      " ===== Handling file nr: 6 with id: 2303.00033 =====\n",
      " File nr: 6 with id: 2303.00033 - contains '.tex' file: \n",
      "Extracting main.tex as main_2.tex\n",
      " ===== Handling file nr: 7 with id: 2303.00114 =====\n",
      " Deleting file nr: 7 with id: 2303.00114 - no '.tex' file found...\n",
      " ===== Handling file nr: 8 with id: 2303.00104 =====\n",
      " Deleting file nr: 8 with id: 2303.00104 - no '.tex' file found...\n",
      " ===== Handling file nr: 9 with id: 2303.00041 =====\n",
      " Deleting file nr: 9 with id: 2303.00041 - no '.tex' file found...\n",
      " ===== Handling file nr: 10 with id: 2303.00036 =====\n",
      " File nr: 10 with id: 2303.00036 - contains '.tex' file: \n",
      "Extracting isingKnowledgeForArXivBBL.tex as isingKnowledgeForArXivBBL.tex\n",
      " ===== Handling file nr: 11 with id: 2303.00037 =====\n",
      " File nr: 11 with id: 2303.00037 - contains '.tex' file: \n",
      "Extracting Jeffery-averaged spheroid migration/main_ver3.tex as Jeffery-averaged spheroid migration/main_ver3.tex\n",
      "Extracting main_ver3.tex as main_ver3.tex\n"
     ]
    }
   ],
   "source": [
    "unpack_tex_files(download_directory=download_directory)"
   ],
   "metadata": {
    "collapsed": false,
    "pycharm": {
     "name": "#%%\n"
    }
   }
  },
  {
   "cell_type": "markdown",
   "source": [
    "#### - Scraping .tex files for equations:"
   ],
   "metadata": {
    "collapsed": false,
    "pycharm": {
     "name": "#%% md\n"
    }
   }
  },
  {
   "cell_type": "code",
   "execution_count": 4,
   "outputs": [
    {
     "name": "stderr",
     "output_type": "stream",
     "text": [
      "100%|██████████| 7/7 [00:00<00:00, 1346.36it/s]"
     ]
    },
    {
     "name": "stdout",
     "output_type": "stream",
     "text": [
      "==== Scraped: 794 equations, and saved to: scraped_equations.txt ====\n"
     ]
    },
    {
     "name": "stderr",
     "output_type": "stream",
     "text": [
      "\n"
     ]
    }
   ],
   "source": [
    "file_names = [download_directory+file_name for file_name in os.listdir(download_directory) if file_name != \".DS_Store\"]\n",
    "output_file_name = \"scraped_equations.txt\"\n",
    "math_scraper(input_names=file_names,output_name=output_file_name)"
   ],
   "metadata": {
    "collapsed": false,
    "pycharm": {
     "name": "#%%\n"
    }
   }
  },
  {
   "cell_type": "markdown",
   "source": [
    "#### - Filtering equations for unwanted tokens and illegitimate math expressions:\n"
   ],
   "metadata": {
    "collapsed": false,
    "pycharm": {
     "name": "#%% md\n"
    }
   }
  },
  {
   "cell_type": "code",
   "execution_count": 5,
   "outputs": [
    {
     "name": "stderr",
     "output_type": "stream",
     "text": [
      "100%|██████████| 55/55 [00:09<00:00,  5.58it/s]"
     ]
    },
    {
     "name": "stdout",
     "output_type": "stream",
     "text": [
      "Now has:  29  formulas\n"
     ]
    },
    {
     "name": "stderr",
     "output_type": "stream",
     "text": [
      "\n"
     ]
    }
   ],
   "source": [
    "nr_equations = 50\n",
    "original_filename = output_file_name\n",
    "filtered_formulas = filter_formulas(in_filename=original_filename,\n",
    "                                    nr_equations=50)\n",
    "print(\"Now has: \", len(filtered_formulas), \" formulas\")"
   ],
   "metadata": {
    "collapsed": false,
    "pycharm": {
     "name": "#%%\n"
    }
   }
  },
  {
   "cell_type": "markdown",
   "source": [
    "##### Save filtered equations to file:\n"
   ],
   "metadata": {
    "collapsed": false,
    "pycharm": {
     "name": "#%% md\n"
    }
   }
  },
  {
   "cell_type": "code",
   "execution_count": 6,
   "outputs": [],
   "source": [
    "# Writing the chosen equations to a file locally (same order as pictures)\n",
    "new_filename = 'filtered_equations.txt'\n",
    "save_filtered_formulas(filtered_formulas=filtered_formulas,out_filename=new_filename)"
   ],
   "metadata": {
    "collapsed": false,
    "pycharm": {
     "name": "#%%\n"
    }
   }
  },
  {
   "cell_type": "markdown",
   "source": [
    "##### Show one of the extracted equations:"
   ],
   "metadata": {
    "collapsed": false,
    "pycharm": {
     "name": "#%% md\n"
    }
   }
  },
  {
   "cell_type": "code",
   "execution_count": 7,
   "outputs": [
    {
     "data": {
      "text/plain": "<Figure size 400x400 with 1 Axes>",
      "image/png": "[encoded data removed]"
     },
     "metadata": {},
     "output_type": "display_data"
    }
   ],
   "source": [
    "render_and_show(filtered_formulas[13])"
   ],
   "metadata": {
    "collapsed": false,
    "pycharm": {
     "name": "#%%\n"
    }
   }
  },
  {
   "cell_type": "markdown",
   "source": [
    "#### - Rendering equations to A4 sized transparent .png files and saving locally:\n"
   ],
   "metadata": {
    "collapsed": false,
    "pycharm": {
     "name": "#%% md\n"
    }
   }
  },
  {
   "cell_type": "code",
   "execution_count": 8,
   "outputs": [
    {
     "name": "stderr",
     "output_type": "stream",
     "text": [
      "100%|██████████| 29/29 [00:24<00:00,  1.16it/s]\n"
     ]
    }
   ],
   "source": [
    "for line_nr in tqdm(range(len(filtered_formulas))):\n",
    "    location = 'EquationRenders/'\n",
    "    filename = f'eq_{line_nr}'\n",
    "    latex_to_image(math_expr=filtered_formulas[line_nr], file_name=filename, location=location)"
   ],
   "metadata": {
    "collapsed": false,
    "pycharm": {
     "name": "#%%\n"
    }
   }
  },
  {
   "cell_type": "code",
   "execution_count": 8,
   "outputs": [],
   "source": [],
   "metadata": {
    "collapsed": false,
    "pycharm": {
     "name": "#%%\n"
    }
   }
  }
 ],
 "metadata": {
  "kernelspec": {
   "display_name": "Python 3",
   "language": "python",
   "name": "python3"
  },
  "language_info": {
   "codemirror_mode": {
    "name": "ipython",
    "version": 2
   },
   "file_extension": ".py",
   "mimetype": "text/x-python",
   "name": "python",
   "nbconvert_exporter": "python",
   "pygments_lexer": "ipython2",
   "version": "2.7.6"
  }
 },
 "nbformat": 4,
 "nbformat_minor": 0
}
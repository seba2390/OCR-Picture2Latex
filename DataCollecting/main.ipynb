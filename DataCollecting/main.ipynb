{
 "cells": [
  {
   "cell_type": "code",
   "execution_count": 13,
   "outputs": [],
   "source": [
    "import logging\n",
    "\n",
    "from ArxivEquationScraping import *\n",
    "from EquationFiltering import *\n",
    "from PictureGenerator import *"
   ],
   "metadata": {
    "collapsed": false,
    "pycharm": {
     "name": "#%%\n"
    }
   }
  },
  {
   "cell_type": "markdown",
   "source": [
    "#### - Scraping ArXiv for STEM-category papers:"
   ],
   "metadata": {
    "collapsed": false,
    "pycharm": {
     "name": "#%% md\n"
    }
   }
  },
  {
   "cell_type": "code",
   "execution_count": 4,
   "outputs": [
    {
     "name": "stdout",
     "output_type": "stream",
     "text": [
      "======= Downloading: 10 (out of 1561) papers in category: 'physics' in YY/MM: 2303 =======\n",
      "Downloading paper:  1  with id:  2303.00033  ...\n",
      "Downloading paper:  2  with id:  2303.00036  ...\n",
      "Downloading paper:  3  with id:  2303.00037  ...\n",
      "Downloading paper:  4  with id:  2303.00041  ...\n",
      "Downloading paper:  5  with id:  2303.00059  ...\n",
      "Downloading paper:  6  with id:  2303.00061  ...\n",
      "Downloading paper:  7  with id:  2303.00072  ...\n",
      "Downloading paper:  8  with id:  2303.00081  ...\n",
      "Downloading paper:  9  with id:  2303.00104  ...\n",
      "Downloading paper:  10  with id:  2303.00114  ...\n"
     ]
    }
   ],
   "source": [
    "nr_papers = 10\n",
    "STEM_category = 'physics'\n",
    "download_directory = \"arxiv_papers/\"\n",
    "download_arxiv_papers(STEM_category, nr_papers, download_dir=download_directory)"
   ],
   "metadata": {
    "collapsed": false,
    "pycharm": {
     "name": "#%%\n"
    }
   }
  },
  {
   "cell_type": "markdown",
   "source": [
    "#### - Extracting .tex files from papers and deleting other files:"
   ],
   "metadata": {
    "collapsed": false,
    "pycharm": {
     "name": "#%% md\n"
    }
   }
  },
  {
   "cell_type": "code",
   "execution_count": 5,
   "outputs": [
    {
     "name": "stdout",
     "output_type": "stream",
     "text": [
      " ===== Handling file nr: 1 with id: .DS_Store =====\n",
      " ===== Handling file nr: 2 with id: 2303.00072 =====\n",
      " File nr: 2 with id: 2303.00072 - contains '.tex' file: \n",
      "Extracting main.tex as main.tex\n",
      " ===== Handling file nr: 3 with id: 2303.00081 =====\n",
      " File nr: 3 with id: 2303.00081 - contains '.tex' file: \n",
      "Extracting main.tex as main_1.tex\n",
      " ===== Handling file nr: 4 with id: 2303.00059 =====\n",
      " File nr: 4 with id: 2303.00059 - contains '.tex' file: \n",
      "Extracting PoP_LRRC.tex as PoP_LRRC.tex\n",
      " ===== Handling file nr: 5 with id: 2303.00061 =====\n",
      " Deleting file nr: 5 with id: 2303.00061 - no '.tex' file found...\n",
      " ===== Handling file nr: 6 with id: 2303.00033 =====\n",
      " File nr: 6 with id: 2303.00033 - contains '.tex' file: \n",
      "Extracting main.tex as main_2.tex\n",
      " ===== Handling file nr: 7 with id: 2303.00114 =====\n",
      " Deleting file nr: 7 with id: 2303.00114 - no '.tex' file found...\n",
      " ===== Handling file nr: 8 with id: 2303.00104 =====\n",
      " Deleting file nr: 8 with id: 2303.00104 - no '.tex' file found...\n",
      " ===== Handling file nr: 9 with id: 2303.00041 =====\n",
      " Deleting file nr: 9 with id: 2303.00041 - no '.tex' file found...\n",
      " ===== Handling file nr: 10 with id: 2303.00036 =====\n",
      " File nr: 10 with id: 2303.00036 - contains '.tex' file: \n",
      "Extracting isingKnowledgeForArXivBBL.tex as isingKnowledgeForArXivBBL.tex\n",
      " ===== Handling file nr: 11 with id: 2303.00037 =====\n",
      " File nr: 11 with id: 2303.00037 - contains '.tex' file: \n",
      "Extracting Jeffery-averaged spheroid migration/main_ver3.tex as Jeffery-averaged spheroid migration/main_ver3.tex\n",
      "Extracting main_ver3.tex as main_ver3.tex\n"
     ]
    }
   ],
   "source": [
    "unpack_tex_files(download_directory=download_directory)"
   ],
   "metadata": {
    "collapsed": false,
    "pycharm": {
     "name": "#%%\n"
    }
   }
  },
  {
   "cell_type": "markdown",
   "source": [
    "#### - Scraping .tex files for equations:"
   ],
   "metadata": {
    "collapsed": false,
    "pycharm": {
     "name": "#%% md\n"
    }
   }
  },
  {
   "cell_type": "code",
   "execution_count": 6,
   "outputs": [
    {
     "name": "stderr",
     "output_type": "stream",
     "text": [
      "100%|██████████| 7/7 [00:00<00:00, 3965.98it/s]"
     ]
    },
    {
     "name": "stdout",
     "output_type": "stream",
     "text": [
      "==== Scraped: 37 equations, and saved to: scraped_equations.txt ====\n"
     ]
    },
    {
     "name": "stderr",
     "output_type": "stream",
     "text": [
      "\n"
     ]
    }
   ],
   "source": [
    "download_directory = \"arxiv_papers/\"\n",
    "file_names = [download_directory+file_name for file_name in os.listdir(download_directory) if file_name != \".DS_Store\"]\n",
    "output_file_name = \"scraped_equations.txt\"\n",
    "equations = math_scraper(input_names=file_names,output_name=output_file_name)"
   ],
   "metadata": {
    "collapsed": false,
    "pycharm": {
     "name": "#%%\n"
    }
   }
  },
  {
   "cell_type": "markdown",
   "source": [
    "#### - Filtering equations:\n"
   ],
   "metadata": {
    "collapsed": false,
    "pycharm": {
     "name": "#%% md\n"
    }
   }
  },
  {
   "cell_type": "code",
   "execution_count": 8,
   "outputs": [
    {
     "name": "stderr",
     "output_type": "stream",
     "text": [
      "100%|██████████| 36/36 [00:08<00:00,  4.30it/s]"
     ]
    },
    {
     "name": "stdout",
     "output_type": "stream",
     "text": [
      "==== 33 out of 36 are valid equations ====\n"
     ]
    },
    {
     "name": "stderr",
     "output_type": "stream",
     "text": [
      "\n"
     ]
    }
   ],
   "source": [
    "\n",
    "valid_equations = []\n",
    "for i in tqdm(range(len(equations))):\n",
    "    equation = equations[i]\n",
    "    equation_start_token = r'\\begin{equation}'\n",
    "    equation_end_token = r'\\end{equation}'\n",
    "    if is_valid_latex_math(expr=equation_start_token+equation+equation_end_token):\n",
    "        valid_equations.append(equation)\n",
    "print(f\"==== {len(valid_equations)} out of {len(equations)} are valid equations ====\")\n"
   ],
   "metadata": {
    "collapsed": false,
    "pycharm": {
     "name": "#%%\n"
    }
   }
  },
  {
   "cell_type": "markdown",
   "source": [
    "##### Show one of the extracted equations:"
   ],
   "metadata": {
    "collapsed": false,
    "pycharm": {
     "name": "#%% md\n"
    }
   }
  },
  {
   "cell_type": "code",
   "execution_count": 9,
   "outputs": [
    {
     "name": "stdout",
     "output_type": "stream",
     "text": [
      "\\begin{aligned}\\partial_{t}\\omega+u\\cdot\\nabla\\omega &  =0\\\\u\\left(  t,x\\right)   &  =\\int K\\left(  x,y\\right)  \\omega\\left(  t,y\\right)dy\\\\\\omega|_{t=0} &  =\\omega_{0}\\end{aligned}\n"
     ]
    }
   ],
   "source": [
    "print(valid_equations[5])"
   ],
   "metadata": {
    "collapsed": false,
    "pycharm": {
     "name": "#%%\n"
    }
   }
  },
  {
   "cell_type": "code",
   "execution_count": 10,
   "outputs": [
    {
     "name": "stdout",
     "output_type": "stream",
     "text": [
      "$\\begin{aligned}\\partial_{t}\\omega+u\\cdot\\nabla\\omega &  =0\\\\u\\left(  t,x\\right)   &  =\\int K\\left(  x,y\\right)  \\omega\\left(  t,y\\right)dy\\\\\\omega|_{t=0} &  =\\omega_{0}\\end{aligned}$\n"
     ]
    }
   ],
   "source": [
    "print(to_inline_expr(valid_equations[5]))"
   ],
   "metadata": {
    "collapsed": false,
    "pycharm": {
     "name": "#%%\n"
    }
   }
  },
  {
   "cell_type": "code",
   "execution_count": 11,
   "outputs": [
    {
     "data": {
      "text/plain": "<Figure size 400x400 with 1 Axes>",
      "image/png": "[encoded data removed]"
     },
     "metadata": {},
     "output_type": "display_data"
    }
   ],
   "source": [
    "render_and_show(valid_equations[5])"
   ],
   "metadata": {
    "collapsed": false,
    "pycharm": {
     "name": "#%%\n"
    }
   }
  },
  {
   "cell_type": "markdown",
   "source": [
    "#### - Rendering equations to A4 sized transparent .png files and saving locally:\n"
   ],
   "metadata": {
    "collapsed": false,
    "pycharm": {
     "name": "#%% md\n"
    }
   }
  },
  {
   "cell_type": "code",
   "execution_count": 26,
   "outputs": [
    {
     "name": "stdout",
     "output_type": "stream",
     "text": [
      "Exception reporting mode: Plain\n"
     ]
    },
    {
     "name": "stderr",
     "output_type": "stream",
     "text": [
      "100%|██████████| 33/33 [00:07<00:00,  4.14it/s]"
     ]
    },
    {
     "name": "stdout",
     "output_type": "stream",
     "text": [
      "Error in callback <function _draw_all_if_interactive at 0x1599168c0> (for post_execute):\n"
     ]
    },
    {
     "name": "stderr",
     "output_type": "stream",
     "text": [
      "\n"
     ]
    },
    {
     "ename": "RuntimeError",
     "evalue": "latex was not able to process the following string:\nb'$\\\\\\\\begin{split}    &\\\\\\\\sigma^+: \\\\\\\\frac{\\\\\\\\widehat{x}\\\\\\\\cos\\\\\\\\theta+ \\\\\\\\mathrm{i}\\\\\\\\widehat{y}}{{\\\\\\\\sqrt{2}}}. \\\\\\\\\\\\\\\\    &\\\\\\\\sigma^-: \\\\\\\\frac{\\\\\\\\widehat{x}\\\\\\\\cos\\\\\\\\theta- \\\\\\\\mathrm{i}\\\\\\\\widehat{y}}{{\\\\\\\\sqrt{2}}}.\\\\\\\\\\\\\\\\    &\\\\\\\\pi: \\\\\\\\hspace{0.2cm} \\\\\\\\widehat{x}\\\\\\\\sin\\\\\\\\theta.\\\\\\\\end{split}$'\n\nHere is the full command invocation and its output:\n\nlatex -interaction=nonstopmode --halt-on-error ../f7d2d54d7fcc0e42a4e4bb69cfdcbd33.tex\n\nThis is pdfTeX, Version 3.141592653-2.6-1.40.24 (TeX Live 2022/Homebrew) (preloaded format=latex)\n restricted \\write18 enabled.\nentering extended mode\n(../f7d2d54d7fcc0e42a4e4bb69cfdcbd33.tex\nLaTeX2e <2021-11-15> patch level 1\nL3 programming layer <2022-02-24>\n(/opt/homebrew/Cellar/texlive/20220321_3/share/texmf-dist/tex/latex/base/articl\ne.cls\nDocument Class: article 2021/10/04 v1.4n Standard LaTeX document class\n\n(/opt/homebrew/Cellar/texlive/20220321_3/share/texmf-dist/tex/latex/base/size10\n.clo))\n(/opt/homebrew/Cellar/texlive/20220321_3/share/texmf-dist/tex/latex/type1cm/typ\ne1cm.sty)\n(/opt/homebrew/Cellar/texlive/20220321_3/share/texmf-dist/tex/latex/cm-super/ty\npe1ec.sty\n(/opt/homebrew/Cellar/texlive/20220321_3/share/texmf-dist/tex/latex/base/t1cmr.\nfd))\n(/opt/homebrew/Cellar/texlive/20220321_3/share/texmf-dist/tex/latex/base/inpute\nnc.sty)\n(/opt/homebrew/Cellar/texlive/20220321_3/share/texmf-dist/tex/latex/geometry/ge\nometry.sty\n(/opt/homebrew/Cellar/texlive/20220321_3/share/texmf-dist/tex/latex/graphics/ke\nyval.sty)\n(/opt/homebrew/Cellar/texlive/20220321_3/share/texmf-dist/tex/generic/iftex/ifv\ntex.sty\n(/opt/homebrew/Cellar/texlive/20220321_3/share/texmf-dist/tex/generic/iftex/ift\nex.sty)))\n(/opt/homebrew/Cellar/texlive/20220321_3/share/texmf-dist/tex/latex/amsmath/ams\nmath.sty\nFor additional information on amsmath, use the `?' option.\n\n(/opt/homebrew/Cellar/texlive/20220321_3/share/texmf-dist/tex/latex/amsmath/ams\ntext.sty\n(/opt/homebrew/Cellar/texlive/20220321_3/share/texmf-dist/tex/latex/amsmath/ams\ngen.sty))\n(/opt/homebrew/Cellar/texlive/20220321_3/share/texmf-dist/tex/latex/amsmath/ams\nbsy.sty)\n(/opt/homebrew/Cellar/texlive/20220321_3/share/texmf-dist/tex/latex/amsmath/ams\nopn.sty))\n(/opt/homebrew/Cellar/texlive/20220321_3/share/texmf-dist/tex/latex/underscore/\nunderscore.sty)\n(/opt/homebrew/Cellar/texlive/20220321_3/share/texmf-dist/tex/latex/base/textco\nmp.sty)\n(/opt/homebrew/Cellar/texlive/20220321_3/share/texmf-dist/tex/latex/l3backend/l\n3backend-dvips.def)\nNo file f7d2d54d7fcc0e42a4e4bb69cfdcbd33.aux.\n*geometry* driver: auto-detecting\n*geometry* detected driver: dvips\n\nLaTeX Font Warning: Font shape `OMX/cmex/m/n' in size <20> not available\n(Font)              size <20.74> substituted on input line 29.\n\n\nLaTeX Font Warning: Font shape `OMX/cmex/m/n' in size <13.99994> not available\n(Font)              size <14.4> substituted on input line 29.\n\n\n! Package amsmath Error: \\begin{split} won't work here.\n\nSee the amsmath package documentation for explanation.\nType  H <return>  for immediate help.\n ...                                              \n                                                  \nl.29 ...e{0.2cm} \\widehat{x}\\sin\\theta.\\end{split}\n                                                  $}%\nNo pages of output.\nTranscript written on f7d2d54d7fcc0e42a4e4bb69cfdcbd33.log.\n\n\n",
     "output_type": "error",
     "traceback": [
      "\u001B[0;31mRuntimeError\u001B[0m\u001B[0;31m:\u001B[0m latex was not able to process the following string:\nb'$\\\\\\\\begin{split}    &\\\\\\\\sigma^+: \\\\\\\\frac{\\\\\\\\widehat{x}\\\\\\\\cos\\\\\\\\theta+ \\\\\\\\mathrm{i}\\\\\\\\widehat{y}}{{\\\\\\\\sqrt{2}}}. \\\\\\\\\\\\\\\\    &\\\\\\\\sigma^-: \\\\\\\\frac{\\\\\\\\widehat{x}\\\\\\\\cos\\\\\\\\theta- \\\\\\\\mathrm{i}\\\\\\\\widehat{y}}{{\\\\\\\\sqrt{2}}}.\\\\\\\\\\\\\\\\    &\\\\\\\\pi: \\\\\\\\hspace{0.2cm} \\\\\\\\widehat{x}\\\\\\\\sin\\\\\\\\theta.\\\\\\\\end{split}$'\n\nHere is the full command invocation and its output:\n\nlatex -interaction=nonstopmode --halt-on-error ../f7d2d54d7fcc0e42a4e4bb69cfdcbd33.tex\n\nThis is pdfTeX, Version 3.141592653-2.6-1.40.24 (TeX Live 2022/Homebrew) (preloaded format=latex)\n restricted \\write18 enabled.\nentering extended mode\n(../f7d2d54d7fcc0e42a4e4bb69cfdcbd33.tex\nLaTeX2e <2021-11-15> patch level 1\nL3 programming layer <2022-02-24>\n(/opt/homebrew/Cellar/texlive/20220321_3/share/texmf-dist/tex/latex/base/articl\ne.cls\nDocument Class: article 2021/10/04 v1.4n Standard LaTeX document class\n\n(/opt/homebrew/Cellar/texlive/20220321_3/share/texmf-dist/tex/latex/base/size10\n.clo))\n(/opt/homebrew/Cellar/texlive/20220321_3/share/texmf-dist/tex/latex/type1cm/typ\ne1cm.sty)\n(/opt/homebrew/Cellar/texlive/20220321_3/share/texmf-dist/tex/latex/cm-super/ty\npe1ec.sty\n(/opt/homebrew/Cellar/texlive/20220321_3/share/texmf-dist/tex/latex/base/t1cmr.\nfd))\n(/opt/homebrew/Cellar/texlive/20220321_3/share/texmf-dist/tex/latex/base/inpute\nnc.sty)\n(/opt/homebrew/Cellar/texlive/20220321_3/share/texmf-dist/tex/latex/geometry/ge\nometry.sty\n(/opt/homebrew/Cellar/texlive/20220321_3/share/texmf-dist/tex/latex/graphics/ke\nyval.sty)\n(/opt/homebrew/Cellar/texlive/20220321_3/share/texmf-dist/tex/generic/iftex/ifv\ntex.sty\n(/opt/homebrew/Cellar/texlive/20220321_3/share/texmf-dist/tex/generic/iftex/ift\nex.sty)))\n(/opt/homebrew/Cellar/texlive/20220321_3/share/texmf-dist/tex/latex/amsmath/ams\nmath.sty\nFor additional information on amsmath, use the `?' option.\n\n(/opt/homebrew/Cellar/texlive/20220321_3/share/texmf-dist/tex/latex/amsmath/ams\ntext.sty\n(/opt/homebrew/Cellar/texlive/20220321_3/share/texmf-dist/tex/latex/amsmath/ams\ngen.sty))\n(/opt/homebrew/Cellar/texlive/20220321_3/share/texmf-dist/tex/latex/amsmath/ams\nbsy.sty)\n(/opt/homebrew/Cellar/texlive/20220321_3/share/texmf-dist/tex/latex/amsmath/ams\nopn.sty))\n(/opt/homebrew/Cellar/texlive/20220321_3/share/texmf-dist/tex/latex/underscore/\nunderscore.sty)\n(/opt/homebrew/Cellar/texlive/20220321_3/share/texmf-dist/tex/latex/base/textco\nmp.sty)\n(/opt/homebrew/Cellar/texlive/20220321_3/share/texmf-dist/tex/latex/l3backend/l\n3backend-dvips.def)\nNo file f7d2d54d7fcc0e42a4e4bb69cfdcbd33.aux.\n*geometry* driver: auto-detecting\n*geometry* detected driver: dvips\n\nLaTeX Font Warning: Font shape `OMX/cmex/m/n' in size <20> not available\n(Font)              size <20.74> substituted on input line 29.\n\n\nLaTeX Font Warning: Font shape `OMX/cmex/m/n' in size <13.99994> not available\n(Font)              size <14.4> substituted on input line 29.\n\n\n! Package amsmath Error: \\begin{split} won't work here.\n\nSee the amsmath package documentation for explanation.\nType  H <return>  for immediate help.\n ...                                              \n                                                  \nl.29 ...e{0.2cm} \\widehat{x}\\sin\\theta.\\end{split}\n                                                  $}%\nNo pages of output.\nTranscript written on f7d2d54d7fcc0e42a4e4bb69cfdcbd33.log.\n\n\n\n"
     ]
    },
    {
     "ename": "RuntimeError",
     "evalue": "latex was not able to process the following string:\nb'$\\\\\\\\begin{split}    &\\\\\\\\sigma^+: \\\\\\\\frac{\\\\\\\\widehat{x}\\\\\\\\cos\\\\\\\\theta+ \\\\\\\\mathrm{i}\\\\\\\\widehat{y}}{{\\\\\\\\sqrt{2}}}. \\\\\\\\\\\\\\\\    &\\\\\\\\sigma^-: \\\\\\\\frac{\\\\\\\\widehat{x}\\\\\\\\cos\\\\\\\\theta- \\\\\\\\mathrm{i}\\\\\\\\widehat{y}}{{\\\\\\\\sqrt{2}}}.\\\\\\\\\\\\\\\\    &\\\\\\\\pi: \\\\\\\\hspace{0.2cm} \\\\\\\\widehat{x}\\\\\\\\sin\\\\\\\\theta.\\\\\\\\end{split}$'\n\nHere is the full command invocation and its output:\n\nlatex -interaction=nonstopmode --halt-on-error ../f7d2d54d7fcc0e42a4e4bb69cfdcbd33.tex\n\nThis is pdfTeX, Version 3.141592653-2.6-1.40.24 (TeX Live 2022/Homebrew) (preloaded format=latex)\n restricted \\write18 enabled.\nentering extended mode\n(../f7d2d54d7fcc0e42a4e4bb69cfdcbd33.tex\nLaTeX2e <2021-11-15> patch level 1\nL3 programming layer <2022-02-24>\n(/opt/homebrew/Cellar/texlive/20220321_3/share/texmf-dist/tex/latex/base/articl\ne.cls\nDocument Class: article 2021/10/04 v1.4n Standard LaTeX document class\n\n(/opt/homebrew/Cellar/texlive/20220321_3/share/texmf-dist/tex/latex/base/size10\n.clo))\n(/opt/homebrew/Cellar/texlive/20220321_3/share/texmf-dist/tex/latex/type1cm/typ\ne1cm.sty)\n(/opt/homebrew/Cellar/texlive/20220321_3/share/texmf-dist/tex/latex/cm-super/ty\npe1ec.sty\n(/opt/homebrew/Cellar/texlive/20220321_3/share/texmf-dist/tex/latex/base/t1cmr.\nfd))\n(/opt/homebrew/Cellar/texlive/20220321_3/share/texmf-dist/tex/latex/base/inpute\nnc.sty)\n(/opt/homebrew/Cellar/texlive/20220321_3/share/texmf-dist/tex/latex/geometry/ge\nometry.sty\n(/opt/homebrew/Cellar/texlive/20220321_3/share/texmf-dist/tex/latex/graphics/ke\nyval.sty)\n(/opt/homebrew/Cellar/texlive/20220321_3/share/texmf-dist/tex/generic/iftex/ifv\ntex.sty\n(/opt/homebrew/Cellar/texlive/20220321_3/share/texmf-dist/tex/generic/iftex/ift\nex.sty)))\n(/opt/homebrew/Cellar/texlive/20220321_3/share/texmf-dist/tex/latex/amsmath/ams\nmath.sty\nFor additional information on amsmath, use the `?' option.\n\n(/opt/homebrew/Cellar/texlive/20220321_3/share/texmf-dist/tex/latex/amsmath/ams\ntext.sty\n(/opt/homebrew/Cellar/texlive/20220321_3/share/texmf-dist/tex/latex/amsmath/ams\ngen.sty))\n(/opt/homebrew/Cellar/texlive/20220321_3/share/texmf-dist/tex/latex/amsmath/ams\nbsy.sty)\n(/opt/homebrew/Cellar/texlive/20220321_3/share/texmf-dist/tex/latex/amsmath/ams\nopn.sty))\n(/opt/homebrew/Cellar/texlive/20220321_3/share/texmf-dist/tex/latex/underscore/\nunderscore.sty)\n(/opt/homebrew/Cellar/texlive/20220321_3/share/texmf-dist/tex/latex/base/textco\nmp.sty)\n(/opt/homebrew/Cellar/texlive/20220321_3/share/texmf-dist/tex/latex/l3backend/l\n3backend-dvips.def)\nNo file f7d2d54d7fcc0e42a4e4bb69cfdcbd33.aux.\n*geometry* driver: auto-detecting\n*geometry* detected driver: dvips\n\nLaTeX Font Warning: Font shape `OMX/cmex/m/n' in size <20> not available\n(Font)              size <20.74> substituted on input line 29.\n\n\nLaTeX Font Warning: Font shape `OMX/cmex/m/n' in size <13.99994> not available\n(Font)              size <14.4> substituted on input line 29.\n\n\n! Package amsmath Error: \\begin{split} won't work here.\n\nSee the amsmath package documentation for explanation.\nType  H <return>  for immediate help.\n ...                                              \n                                                  \nl.29 ...e{0.2cm} \\widehat{x}\\sin\\theta.\\end{split}\n                                                  $}%\nNo pages of output.\nTranscript written on f7d2d54d7fcc0e42a4e4bb69cfdcbd33.log.\n\n\n",
     "output_type": "error",
     "traceback": [
      "\u001B[0;31mRuntimeError\u001B[0m\u001B[0;31m:\u001B[0m latex was not able to process the following string:\nb'$\\\\\\\\begin{split}    &\\\\\\\\sigma^+: \\\\\\\\frac{\\\\\\\\widehat{x}\\\\\\\\cos\\\\\\\\theta+ \\\\\\\\mathrm{i}\\\\\\\\widehat{y}}{{\\\\\\\\sqrt{2}}}. \\\\\\\\\\\\\\\\    &\\\\\\\\sigma^-: \\\\\\\\frac{\\\\\\\\widehat{x}\\\\\\\\cos\\\\\\\\theta- \\\\\\\\mathrm{i}\\\\\\\\widehat{y}}{{\\\\\\\\sqrt{2}}}.\\\\\\\\\\\\\\\\    &\\\\\\\\pi: \\\\\\\\hspace{0.2cm} \\\\\\\\widehat{x}\\\\\\\\sin\\\\\\\\theta.\\\\\\\\end{split}$'\n\nHere is the full command invocation and its output:\n\nlatex -interaction=nonstopmode --halt-on-error ../f7d2d54d7fcc0e42a4e4bb69cfdcbd33.tex\n\nThis is pdfTeX, Version 3.141592653-2.6-1.40.24 (TeX Live 2022/Homebrew) (preloaded format=latex)\n restricted \\write18 enabled.\nentering extended mode\n(../f7d2d54d7fcc0e42a4e4bb69cfdcbd33.tex\nLaTeX2e <2021-11-15> patch level 1\nL3 programming layer <2022-02-24>\n(/opt/homebrew/Cellar/texlive/20220321_3/share/texmf-dist/tex/latex/base/articl\ne.cls\nDocument Class: article 2021/10/04 v1.4n Standard LaTeX document class\n\n(/opt/homebrew/Cellar/texlive/20220321_3/share/texmf-dist/tex/latex/base/size10\n.clo))\n(/opt/homebrew/Cellar/texlive/20220321_3/share/texmf-dist/tex/latex/type1cm/typ\ne1cm.sty)\n(/opt/homebrew/Cellar/texlive/20220321_3/share/texmf-dist/tex/latex/cm-super/ty\npe1ec.sty\n(/opt/homebrew/Cellar/texlive/20220321_3/share/texmf-dist/tex/latex/base/t1cmr.\nfd))\n(/opt/homebrew/Cellar/texlive/20220321_3/share/texmf-dist/tex/latex/base/inpute\nnc.sty)\n(/opt/homebrew/Cellar/texlive/20220321_3/share/texmf-dist/tex/latex/geometry/ge\nometry.sty\n(/opt/homebrew/Cellar/texlive/20220321_3/share/texmf-dist/tex/latex/graphics/ke\nyval.sty)\n(/opt/homebrew/Cellar/texlive/20220321_3/share/texmf-dist/tex/generic/iftex/ifv\ntex.sty\n(/opt/homebrew/Cellar/texlive/20220321_3/share/texmf-dist/tex/generic/iftex/ift\nex.sty)))\n(/opt/homebrew/Cellar/texlive/20220321_3/share/texmf-dist/tex/latex/amsmath/ams\nmath.sty\nFor additional information on amsmath, use the `?' option.\n\n(/opt/homebrew/Cellar/texlive/20220321_3/share/texmf-dist/tex/latex/amsmath/ams\ntext.sty\n(/opt/homebrew/Cellar/texlive/20220321_3/share/texmf-dist/tex/latex/amsmath/ams\ngen.sty))\n(/opt/homebrew/Cellar/texlive/20220321_3/share/texmf-dist/tex/latex/amsmath/ams\nbsy.sty)\n(/opt/homebrew/Cellar/texlive/20220321_3/share/texmf-dist/tex/latex/amsmath/ams\nopn.sty))\n(/opt/homebrew/Cellar/texlive/20220321_3/share/texmf-dist/tex/latex/underscore/\nunderscore.sty)\n(/opt/homebrew/Cellar/texlive/20220321_3/share/texmf-dist/tex/latex/base/textco\nmp.sty)\n(/opt/homebrew/Cellar/texlive/20220321_3/share/texmf-dist/tex/latex/l3backend/l\n3backend-dvips.def)\nNo file f7d2d54d7fcc0e42a4e4bb69cfdcbd33.aux.\n*geometry* driver: auto-detecting\n*geometry* detected driver: dvips\n\nLaTeX Font Warning: Font shape `OMX/cmex/m/n' in size <20> not available\n(Font)              size <20.74> substituted on input line 29.\n\n\nLaTeX Font Warning: Font shape `OMX/cmex/m/n' in size <13.99994> not available\n(Font)              size <14.4> substituted on input line 29.\n\n\n! Package amsmath Error: \\begin{split} won't work here.\n\nSee the amsmath package documentation for explanation.\nType  H <return>  for immediate help.\n ...                                              \n                                                  \nl.29 ...e{0.2cm} \\widehat{x}\\sin\\theta.\\end{split}\n                                                  $}%\nNo pages of output.\nTranscript written on f7d2d54d7fcc0e42a4e4bb69cfdcbd33.log.\n\n\n\n"
     ]
    },
    {
     "data": {
      "text/plain": "<Figure size 830x1170 with 1 Axes>"
     },
     "metadata": {},
     "output_type": "display_data"
    },
    {
     "ename": "RuntimeError",
     "evalue": "latex was not able to process the following string:\nb'$\\\\\\\\begin{split} \\\\\\\\widehat{x} \\\\\\\\rightarrow \\\\\\\\widehat{x}\\\\\\\\cos\\\\\\\\theta-\\\\\\\\widehat{z}\\\\\\\\sin\\\\\\\\theta, \\\\\\\\\\\\\\\\ \\\\\\\\widehat{z} \\\\\\\\rightarrow \\\\\\\\widehat{z}\\\\\\\\cos\\\\\\\\theta+\\\\\\\\widehat{x}\\\\\\\\sin\\\\\\\\theta.\\\\\\\\end{split}$'\n\nHere is the full command invocation and its output:\n\nlatex -interaction=nonstopmode --halt-on-error ../72b9a4efe4a7d9dda1468c3cab76bf4a.tex\n\nThis is pdfTeX, Version 3.141592653-2.6-1.40.24 (TeX Live 2022/Homebrew) (preloaded format=latex)\n restricted \\write18 enabled.\nentering extended mode\n(../72b9a4efe4a7d9dda1468c3cab76bf4a.tex\nLaTeX2e <2021-11-15> patch level 1\nL3 programming layer <2022-02-24>\n(/opt/homebrew/Cellar/texlive/20220321_3/share/texmf-dist/tex/latex/base/articl\ne.cls\nDocument Class: article 2021/10/04 v1.4n Standard LaTeX document class\n\n(/opt/homebrew/Cellar/texlive/20220321_3/share/texmf-dist/tex/latex/base/size10\n.clo))\n(/opt/homebrew/Cellar/texlive/20220321_3/share/texmf-dist/tex/latex/type1cm/typ\ne1cm.sty)\n(/opt/homebrew/Cellar/texlive/20220321_3/share/texmf-dist/tex/latex/cm-super/ty\npe1ec.sty\n(/opt/homebrew/Cellar/texlive/20220321_3/share/texmf-dist/tex/latex/base/t1cmr.\nfd))\n(/opt/homebrew/Cellar/texlive/20220321_3/share/texmf-dist/tex/latex/base/inpute\nnc.sty)\n(/opt/homebrew/Cellar/texlive/20220321_3/share/texmf-dist/tex/latex/geometry/ge\nometry.sty\n(/opt/homebrew/Cellar/texlive/20220321_3/share/texmf-dist/tex/latex/graphics/ke\nyval.sty)\n(/opt/homebrew/Cellar/texlive/20220321_3/share/texmf-dist/tex/generic/iftex/ifv\ntex.sty\n(/opt/homebrew/Cellar/texlive/20220321_3/share/texmf-dist/tex/generic/iftex/ift\nex.sty)))\n(/opt/homebrew/Cellar/texlive/20220321_3/share/texmf-dist/tex/latex/amsmath/ams\nmath.sty\nFor additional information on amsmath, use the `?' option.\n\n(/opt/homebrew/Cellar/texlive/20220321_3/share/texmf-dist/tex/latex/amsmath/ams\ntext.sty\n(/opt/homebrew/Cellar/texlive/20220321_3/share/texmf-dist/tex/latex/amsmath/ams\ngen.sty))\n(/opt/homebrew/Cellar/texlive/20220321_3/share/texmf-dist/tex/latex/amsmath/ams\nbsy.sty)\n(/opt/homebrew/Cellar/texlive/20220321_3/share/texmf-dist/tex/latex/amsmath/ams\nopn.sty))\n(/opt/homebrew/Cellar/texlive/20220321_3/share/texmf-dist/tex/latex/underscore/\nunderscore.sty)\n(/opt/homebrew/Cellar/texlive/20220321_3/share/texmf-dist/tex/latex/base/textco\nmp.sty)\n(/opt/homebrew/Cellar/texlive/20220321_3/share/texmf-dist/tex/latex/l3backend/l\n3backend-dvips.def)\nNo file 72b9a4efe4a7d9dda1468c3cab76bf4a.aux.\n*geometry* driver: auto-detecting\n*geometry* detected driver: dvips\n\nLaTeX Font Warning: Font shape `OMX/cmex/m/n' in size <20> not available\n(Font)              size <20.74> substituted on input line 29.\n\n\nLaTeX Font Warning: Font shape `OMX/cmex/m/n' in size <13.99994> not available\n(Font)              size <14.4> substituted on input line 29.\n\n\n! Package amsmath Error: \\begin{split} won't work here.\n\nSee the amsmath package documentation for explanation.\nType  H <return>  for immediate help.\n ...                                              \n                                                  \nl.29 ...os\\theta+\\widehat{x}\\sin\\theta.\\end{split}\n                                                  $}%\nNo pages of output.\nTranscript written on 72b9a4efe4a7d9dda1468c3cab76bf4a.log.\n\n\n",
     "output_type": "error",
     "traceback": [
      "\u001B[0;31mRuntimeError\u001B[0m\u001B[0;31m:\u001B[0m latex was not able to process the following string:\nb'$\\\\\\\\begin{split} \\\\\\\\widehat{x} \\\\\\\\rightarrow \\\\\\\\widehat{x}\\\\\\\\cos\\\\\\\\theta-\\\\\\\\widehat{z}\\\\\\\\sin\\\\\\\\theta, \\\\\\\\\\\\\\\\ \\\\\\\\widehat{z} \\\\\\\\rightarrow \\\\\\\\widehat{z}\\\\\\\\cos\\\\\\\\theta+\\\\\\\\widehat{x}\\\\\\\\sin\\\\\\\\theta.\\\\\\\\end{split}$'\n\nHere is the full command invocation and its output:\n\nlatex -interaction=nonstopmode --halt-on-error ../72b9a4efe4a7d9dda1468c3cab76bf4a.tex\n\nThis is pdfTeX, Version 3.141592653-2.6-1.40.24 (TeX Live 2022/Homebrew) (preloaded format=latex)\n restricted \\write18 enabled.\nentering extended mode\n(../72b9a4efe4a7d9dda1468c3cab76bf4a.tex\nLaTeX2e <2021-11-15> patch level 1\nL3 programming layer <2022-02-24>\n(/opt/homebrew/Cellar/texlive/20220321_3/share/texmf-dist/tex/latex/base/articl\ne.cls\nDocument Class: article 2021/10/04 v1.4n Standard LaTeX document class\n\n(/opt/homebrew/Cellar/texlive/20220321_3/share/texmf-dist/tex/latex/base/size10\n.clo))\n(/opt/homebrew/Cellar/texlive/20220321_3/share/texmf-dist/tex/latex/type1cm/typ\ne1cm.sty)\n(/opt/homebrew/Cellar/texlive/20220321_3/share/texmf-dist/tex/latex/cm-super/ty\npe1ec.sty\n(/opt/homebrew/Cellar/texlive/20220321_3/share/texmf-dist/tex/latex/base/t1cmr.\nfd))\n(/opt/homebrew/Cellar/texlive/20220321_3/share/texmf-dist/tex/latex/base/inpute\nnc.sty)\n(/opt/homebrew/Cellar/texlive/20220321_3/share/texmf-dist/tex/latex/geometry/ge\nometry.sty\n(/opt/homebrew/Cellar/texlive/20220321_3/share/texmf-dist/tex/latex/graphics/ke\nyval.sty)\n(/opt/homebrew/Cellar/texlive/20220321_3/share/texmf-dist/tex/generic/iftex/ifv\ntex.sty\n(/opt/homebrew/Cellar/texlive/20220321_3/share/texmf-dist/tex/generic/iftex/ift\nex.sty)))\n(/opt/homebrew/Cellar/texlive/20220321_3/share/texmf-dist/tex/latex/amsmath/ams\nmath.sty\nFor additional information on amsmath, use the `?' option.\n\n(/opt/homebrew/Cellar/texlive/20220321_3/share/texmf-dist/tex/latex/amsmath/ams\ntext.sty\n(/opt/homebrew/Cellar/texlive/20220321_3/share/texmf-dist/tex/latex/amsmath/ams\ngen.sty))\n(/opt/homebrew/Cellar/texlive/20220321_3/share/texmf-dist/tex/latex/amsmath/ams\nbsy.sty)\n(/opt/homebrew/Cellar/texlive/20220321_3/share/texmf-dist/tex/latex/amsmath/ams\nopn.sty))\n(/opt/homebrew/Cellar/texlive/20220321_3/share/texmf-dist/tex/latex/underscore/\nunderscore.sty)\n(/opt/homebrew/Cellar/texlive/20220321_3/share/texmf-dist/tex/latex/base/textco\nmp.sty)\n(/opt/homebrew/Cellar/texlive/20220321_3/share/texmf-dist/tex/latex/l3backend/l\n3backend-dvips.def)\nNo file 72b9a4efe4a7d9dda1468c3cab76bf4a.aux.\n*geometry* driver: auto-detecting\n*geometry* detected driver: dvips\n\nLaTeX Font Warning: Font shape `OMX/cmex/m/n' in size <20> not available\n(Font)              size <20.74> substituted on input line 29.\n\n\nLaTeX Font Warning: Font shape `OMX/cmex/m/n' in size <13.99994> not available\n(Font)              size <14.4> substituted on input line 29.\n\n\n! Package amsmath Error: \\begin{split} won't work here.\n\nSee the amsmath package documentation for explanation.\nType  H <return>  for immediate help.\n ...                                              \n                                                  \nl.29 ...os\\theta+\\widehat{x}\\sin\\theta.\\end{split}\n                                                  $}%\nNo pages of output.\nTranscript written on 72b9a4efe4a7d9dda1468c3cab76bf4a.log.\n\n\n\n"
     ]
    },
    {
     "data": {
      "text/plain": "<Figure size 830x1170 with 1 Axes>"
     },
     "metadata": {},
     "output_type": "display_data"
    },
    {
     "ename": "RuntimeError",
     "evalue": "latex was not able to process the following string:\nb\"$\\\\\\\\begin{split}   \\\\\\\\mathcal{M}_{\\\\\\\\rm{O}}= \\\\\\\\sqrt{\\\\\\\\frac{4\\\\\\\\pi}{3}}\\\\\\\\langle l'm_l'|&\\\\\\\\frac{\\\\\\\\widehat{x}\\\\\\\\cos\\\\\\\\theta+ \\\\\\\\mathrm{i}\\\\\\\\widehat{y}}{\\\\\\\\sqrt{2}}Y_{1, 1}+\\\\\\\\frac{\\\\\\\\widehat{x}\\\\\\\\cos\\\\\\\\theta- \\\\\\\\mathrm{i}\\\\\\\\widehat{y}}{\\\\\\\\sqrt{2}}Y_{1,- 1}\\\\\\\\\\\\\\\\&+\\\\\\\\widehat{x}\\\\\\\\sin\\\\\\\\theta Y_{1,0}|lm_l\\\\\\\\rangle.   \\\\\\\\end{split}$\"\n\nHere is the full command invocation and its output:\n\nlatex -interaction=nonstopmode --halt-on-error ../f9eff92dfb428b32450770dc7873e351.tex\n\nThis is pdfTeX, Version 3.141592653-2.6-1.40.24 (TeX Live 2022/Homebrew) (preloaded format=latex)\n restricted \\write18 enabled.\nentering extended mode\n(../f9eff92dfb428b32450770dc7873e351.tex\nLaTeX2e <2021-11-15> patch level 1\nL3 programming layer <2022-02-24>\n(/opt/homebrew/Cellar/texlive/20220321_3/share/texmf-dist/tex/latex/base/articl\ne.cls\nDocument Class: article 2021/10/04 v1.4n Standard LaTeX document class\n\n(/opt/homebrew/Cellar/texlive/20220321_3/share/texmf-dist/tex/latex/base/size10\n.clo))\n(/opt/homebrew/Cellar/texlive/20220321_3/share/texmf-dist/tex/latex/type1cm/typ\ne1cm.sty)\n(/opt/homebrew/Cellar/texlive/20220321_3/share/texmf-dist/tex/latex/cm-super/ty\npe1ec.sty\n(/opt/homebrew/Cellar/texlive/20220321_3/share/texmf-dist/tex/latex/base/t1cmr.\nfd))\n(/opt/homebrew/Cellar/texlive/20220321_3/share/texmf-dist/tex/latex/base/inpute\nnc.sty)\n(/opt/homebrew/Cellar/texlive/20220321_3/share/texmf-dist/tex/latex/geometry/ge\nometry.sty\n(/opt/homebrew/Cellar/texlive/20220321_3/share/texmf-dist/tex/latex/graphics/ke\nyval.sty)\n(/opt/homebrew/Cellar/texlive/20220321_3/share/texmf-dist/tex/generic/iftex/ifv\ntex.sty\n(/opt/homebrew/Cellar/texlive/20220321_3/share/texmf-dist/tex/generic/iftex/ift\nex.sty)))\n(/opt/homebrew/Cellar/texlive/20220321_3/share/texmf-dist/tex/latex/amsmath/ams\nmath.sty\nFor additional information on amsmath, use the `?' option.\n\n(/opt/homebrew/Cellar/texlive/20220321_3/share/texmf-dist/tex/latex/amsmath/ams\ntext.sty\n(/opt/homebrew/Cellar/texlive/20220321_3/share/texmf-dist/tex/latex/amsmath/ams\ngen.sty))\n(/opt/homebrew/Cellar/texlive/20220321_3/share/texmf-dist/tex/latex/amsmath/ams\nbsy.sty)\n(/opt/homebrew/Cellar/texlive/20220321_3/share/texmf-dist/tex/latex/amsmath/ams\nopn.sty))\n(/opt/homebrew/Cellar/texlive/20220321_3/share/texmf-dist/tex/latex/underscore/\nunderscore.sty)\n(/opt/homebrew/Cellar/texlive/20220321_3/share/texmf-dist/tex/latex/base/textco\nmp.sty)\n(/opt/homebrew/Cellar/texlive/20220321_3/share/texmf-dist/tex/latex/l3backend/l\n3backend-dvips.def)\nNo file f9eff92dfb428b32450770dc7873e351.aux.\n*geometry* driver: auto-detecting\n*geometry* detected driver: dvips\n\nLaTeX Font Warning: Font shape `OMX/cmex/m/n' in size <20> not available\n(Font)              size <20.74> substituted on input line 29.\n\n\nLaTeX Font Warning: Font shape `OMX/cmex/m/n' in size <13.99994> not available\n(Font)              size <14.4> substituted on input line 29.\n\n\n! Package amsmath Error: \\begin{split} won't work here.\n\nSee the amsmath package documentation for explanation.\nType  H <return>  for immediate help.\n ...                                              \n                                                  \nl.29 ...n\\theta Y_{1,0}|lm_l\\rangle.   \\end{split}\n                                                  $}%\nNo pages of output.\nTranscript written on f9eff92dfb428b32450770dc7873e351.log.\n\n\n",
     "output_type": "error",
     "traceback": [
      "\u001B[0;31mRuntimeError\u001B[0m\u001B[0;31m:\u001B[0m latex was not able to process the following string:\nb\"$\\\\\\\\begin{split}   \\\\\\\\mathcal{M}_{\\\\\\\\rm{O}}= \\\\\\\\sqrt{\\\\\\\\frac{4\\\\\\\\pi}{3}}\\\\\\\\langle l'm_l'|&\\\\\\\\frac{\\\\\\\\widehat{x}\\\\\\\\cos\\\\\\\\theta+ \\\\\\\\mathrm{i}\\\\\\\\widehat{y}}{\\\\\\\\sqrt{2}}Y_{1, 1}+\\\\\\\\frac{\\\\\\\\widehat{x}\\\\\\\\cos\\\\\\\\theta- \\\\\\\\mathrm{i}\\\\\\\\widehat{y}}{\\\\\\\\sqrt{2}}Y_{1,- 1}\\\\\\\\\\\\\\\\&+\\\\\\\\widehat{x}\\\\\\\\sin\\\\\\\\theta Y_{1,0}|lm_l\\\\\\\\rangle.   \\\\\\\\end{split}$\"\n\nHere is the full command invocation and its output:\n\nlatex -interaction=nonstopmode --halt-on-error ../f9eff92dfb428b32450770dc7873e351.tex\n\nThis is pdfTeX, Version 3.141592653-2.6-1.40.24 (TeX Live 2022/Homebrew) (preloaded format=latex)\n restricted \\write18 enabled.\nentering extended mode\n(../f9eff92dfb428b32450770dc7873e351.tex\nLaTeX2e <2021-11-15> patch level 1\nL3 programming layer <2022-02-24>\n(/opt/homebrew/Cellar/texlive/20220321_3/share/texmf-dist/tex/latex/base/articl\ne.cls\nDocument Class: article 2021/10/04 v1.4n Standard LaTeX document class\n\n(/opt/homebrew/Cellar/texlive/20220321_3/share/texmf-dist/tex/latex/base/size10\n.clo))\n(/opt/homebrew/Cellar/texlive/20220321_3/share/texmf-dist/tex/latex/type1cm/typ\ne1cm.sty)\n(/opt/homebrew/Cellar/texlive/20220321_3/share/texmf-dist/tex/latex/cm-super/ty\npe1ec.sty\n(/opt/homebrew/Cellar/texlive/20220321_3/share/texmf-dist/tex/latex/base/t1cmr.\nfd))\n(/opt/homebrew/Cellar/texlive/20220321_3/share/texmf-dist/tex/latex/base/inpute\nnc.sty)\n(/opt/homebrew/Cellar/texlive/20220321_3/share/texmf-dist/tex/latex/geometry/ge\nometry.sty\n(/opt/homebrew/Cellar/texlive/20220321_3/share/texmf-dist/tex/latex/graphics/ke\nyval.sty)\n(/opt/homebrew/Cellar/texlive/20220321_3/share/texmf-dist/tex/generic/iftex/ifv\ntex.sty\n(/opt/homebrew/Cellar/texlive/20220321_3/share/texmf-dist/tex/generic/iftex/ift\nex.sty)))\n(/opt/homebrew/Cellar/texlive/20220321_3/share/texmf-dist/tex/latex/amsmath/ams\nmath.sty\nFor additional information on amsmath, use the `?' option.\n\n(/opt/homebrew/Cellar/texlive/20220321_3/share/texmf-dist/tex/latex/amsmath/ams\ntext.sty\n(/opt/homebrew/Cellar/texlive/20220321_3/share/texmf-dist/tex/latex/amsmath/ams\ngen.sty))\n(/opt/homebrew/Cellar/texlive/20220321_3/share/texmf-dist/tex/latex/amsmath/ams\nbsy.sty)\n(/opt/homebrew/Cellar/texlive/20220321_3/share/texmf-dist/tex/latex/amsmath/ams\nopn.sty))\n(/opt/homebrew/Cellar/texlive/20220321_3/share/texmf-dist/tex/latex/underscore/\nunderscore.sty)\n(/opt/homebrew/Cellar/texlive/20220321_3/share/texmf-dist/tex/latex/base/textco\nmp.sty)\n(/opt/homebrew/Cellar/texlive/20220321_3/share/texmf-dist/tex/latex/l3backend/l\n3backend-dvips.def)\nNo file f9eff92dfb428b32450770dc7873e351.aux.\n*geometry* driver: auto-detecting\n*geometry* detected driver: dvips\n\nLaTeX Font Warning: Font shape `OMX/cmex/m/n' in size <20> not available\n(Font)              size <20.74> substituted on input line 29.\n\n\nLaTeX Font Warning: Font shape `OMX/cmex/m/n' in size <13.99994> not available\n(Font)              size <14.4> substituted on input line 29.\n\n\n! Package amsmath Error: \\begin{split} won't work here.\n\nSee the amsmath package documentation for explanation.\nType  H <return>  for immediate help.\n ...                                              \n                                                  \nl.29 ...n\\theta Y_{1,0}|lm_l\\rangle.   \\end{split}\n                                                  $}%\nNo pages of output.\nTranscript written on f9eff92dfb428b32450770dc7873e351.log.\n\n\n\n"
     ]
    },
    {
     "data": {
      "text/plain": "<Figure size 830x1170 with 1 Axes>"
     },
     "metadata": {},
     "output_type": "display_data"
    },
    {
     "ename": "RuntimeError",
     "evalue": "latex was not able to process the following string:\nb'$ \\\\\\\\begin{split}\\\\\\\\mathbf{ E_{\\\\\\\\rm{out}}} &= \\\\\\\\begin{bmatrix}  1 & 0 \\\\\\\\\\\\\\\\ 0 & 1  \\\\\\\\end{bmatrix}\\\\\\\\cdot \\\\\\\\begin{bmatrix} {{f(n_a)}} & 0 \\\\\\\\\\\\\\\\ 0 & {f(n_b)} \\\\\\\\end{bmatrix}\\\\\\\\cdot \\\\\\\\overbrace{\\\\\\\\begin{bmatrix} 1 & 0 \\\\\\\\\\\\\\\\ 0 & 1 \\\\\\\\end{bmatrix}}^{\\\\\\\\longleftrightarrow, \\\\\\\\hspace{0.1cm}  \\\\\\\\updownarrow} \\\\\\\\cdot\\\\\\\\overbrace{\\\\\\\\begin{bmatrix} 1\\\\\\\\\\\\\\\\ 0 \\\\\\\\end{bmatrix}}^{\\\\\\\\longleftrightarrow} \\\\\\\\\\\\\\\\ &= \\\\\\\\begin{bmatrix} f(n_a) & 0) \\\\\\\\\\\\\\\\ 0 & f(n_b) \\\\\\\\end{bmatrix} \\\\\\\\cdot \\\\\\\\begin{bmatrix} 1 \\\\\\\\\\\\\\\\ 0 \\\\\\\\end{bmatrix} \\\\\\\\\\\\\\\\&= \\\\\\\\begin{bmatrix} f(n_a) \\\\\\\\\\\\\\\\ 0 \\\\\\\\end{bmatrix} \\\\\\\\\\\\\\\\&= f(n_a) \\\\\\\\cdot \\\\\\\\begin{bmatrix} 1 \\\\\\\\\\\\\\\\ 0 \\\\\\\\end{bmatrix}\\\\\\\\end{split}$'\n\nHere is the full command invocation and its output:\n\nlatex -interaction=nonstopmode --halt-on-error ../8b2107af34c4ac060ddb0c8cafda5b59.tex\n\nThis is pdfTeX, Version 3.141592653-2.6-1.40.24 (TeX Live 2022/Homebrew) (preloaded format=latex)\n restricted \\write18 enabled.\nentering extended mode\n(../8b2107af34c4ac060ddb0c8cafda5b59.tex\nLaTeX2e <2021-11-15> patch level 1\nL3 programming layer <2022-02-24>\n(/opt/homebrew/Cellar/texlive/20220321_3/share/texmf-dist/tex/latex/base/articl\ne.cls\nDocument Class: article 2021/10/04 v1.4n Standard LaTeX document class\n\n(/opt/homebrew/Cellar/texlive/20220321_3/share/texmf-dist/tex/latex/base/size10\n.clo))\n(/opt/homebrew/Cellar/texlive/20220321_3/share/texmf-dist/tex/latex/type1cm/typ\ne1cm.sty)\n(/opt/homebrew/Cellar/texlive/20220321_3/share/texmf-dist/tex/latex/cm-super/ty\npe1ec.sty\n(/opt/homebrew/Cellar/texlive/20220321_3/share/texmf-dist/tex/latex/base/t1cmr.\nfd))\n(/opt/homebrew/Cellar/texlive/20220321_3/share/texmf-dist/tex/latex/base/inpute\nnc.sty)\n(/opt/homebrew/Cellar/texlive/20220321_3/share/texmf-dist/tex/latex/geometry/ge\nometry.sty\n(/opt/homebrew/Cellar/texlive/20220321_3/share/texmf-dist/tex/latex/graphics/ke\nyval.sty)\n(/opt/homebrew/Cellar/texlive/20220321_3/share/texmf-dist/tex/generic/iftex/ifv\ntex.sty\n(/opt/homebrew/Cellar/texlive/20220321_3/share/texmf-dist/tex/generic/iftex/ift\nex.sty)))\n(/opt/homebrew/Cellar/texlive/20220321_3/share/texmf-dist/tex/latex/amsmath/ams\nmath.sty\nFor additional information on amsmath, use the `?' option.\n\n(/opt/homebrew/Cellar/texlive/20220321_3/share/texmf-dist/tex/latex/amsmath/ams\ntext.sty\n(/opt/homebrew/Cellar/texlive/20220321_3/share/texmf-dist/tex/latex/amsmath/ams\ngen.sty))\n(/opt/homebrew/Cellar/texlive/20220321_3/share/texmf-dist/tex/latex/amsmath/ams\nbsy.sty)\n(/opt/homebrew/Cellar/texlive/20220321_3/share/texmf-dist/tex/latex/amsmath/ams\nopn.sty))\n(/opt/homebrew/Cellar/texlive/20220321_3/share/texmf-dist/tex/latex/underscore/\nunderscore.sty)\n(/opt/homebrew/Cellar/texlive/20220321_3/share/texmf-dist/tex/latex/base/textco\nmp.sty)\n(/opt/homebrew/Cellar/texlive/20220321_3/share/texmf-dist/tex/latex/l3backend/l\n3backend-dvips.def)\nNo file 8b2107af34c4ac060ddb0c8cafda5b59.aux.\n*geometry* driver: auto-detecting\n*geometry* detected driver: dvips\n\nLaTeX Font Warning: Font shape `OMX/cmex/m/n' in size <20> not available\n(Font)              size <20.74> substituted on input line 29.\n\n\nLaTeX Font Warning: Font shape `OMX/cmex/m/n' in size <13.99994> not available\n(Font)              size <14.4> substituted on input line 29.\n\n\n! Package amsmath Error: \\begin{split} won't work here.\n\nSee the amsmath package documentation for explanation.\nType  H <return>  for immediate help.\n ...                                              \n                                                  \nl.29 ...n{bmatrix} 1 \\\\ 0 \\end{bmatrix}\\end{split}\n                                                  $}%\nNo pages of output.\nTranscript written on 8b2107af34c4ac060ddb0c8cafda5b59.log.\n\n\n",
     "output_type": "error",
     "traceback": [
      "\u001B[0;31mRuntimeError\u001B[0m\u001B[0;31m:\u001B[0m latex was not able to process the following string:\nb'$ \\\\\\\\begin{split}\\\\\\\\mathbf{ E_{\\\\\\\\rm{out}}} &= \\\\\\\\begin{bmatrix}  1 & 0 \\\\\\\\\\\\\\\\ 0 & 1  \\\\\\\\end{bmatrix}\\\\\\\\cdot \\\\\\\\begin{bmatrix} {{f(n_a)}} & 0 \\\\\\\\\\\\\\\\ 0 & {f(n_b)} \\\\\\\\end{bmatrix}\\\\\\\\cdot \\\\\\\\overbrace{\\\\\\\\begin{bmatrix} 1 & 0 \\\\\\\\\\\\\\\\ 0 & 1 \\\\\\\\end{bmatrix}}^{\\\\\\\\longleftrightarrow, \\\\\\\\hspace{0.1cm}  \\\\\\\\updownarrow} \\\\\\\\cdot\\\\\\\\overbrace{\\\\\\\\begin{bmatrix} 1\\\\\\\\\\\\\\\\ 0 \\\\\\\\end{bmatrix}}^{\\\\\\\\longleftrightarrow} \\\\\\\\\\\\\\\\ &= \\\\\\\\begin{bmatrix} f(n_a) & 0) \\\\\\\\\\\\\\\\ 0 & f(n_b) \\\\\\\\end{bmatrix} \\\\\\\\cdot \\\\\\\\begin{bmatrix} 1 \\\\\\\\\\\\\\\\ 0 \\\\\\\\end{bmatrix} \\\\\\\\\\\\\\\\&= \\\\\\\\begin{bmatrix} f(n_a) \\\\\\\\\\\\\\\\ 0 \\\\\\\\end{bmatrix} \\\\\\\\\\\\\\\\&= f(n_a) \\\\\\\\cdot \\\\\\\\begin{bmatrix} 1 \\\\\\\\\\\\\\\\ 0 \\\\\\\\end{bmatrix}\\\\\\\\end{split}$'\n\nHere is the full command invocation and its output:\n\nlatex -interaction=nonstopmode --halt-on-error ../8b2107af34c4ac060ddb0c8cafda5b59.tex\n\nThis is pdfTeX, Version 3.141592653-2.6-1.40.24 (TeX Live 2022/Homebrew) (preloaded format=latex)\n restricted \\write18 enabled.\nentering extended mode\n(../8b2107af34c4ac060ddb0c8cafda5b59.tex\nLaTeX2e <2021-11-15> patch level 1\nL3 programming layer <2022-02-24>\n(/opt/homebrew/Cellar/texlive/20220321_3/share/texmf-dist/tex/latex/base/articl\ne.cls\nDocument Class: article 2021/10/04 v1.4n Standard LaTeX document class\n\n(/opt/homebrew/Cellar/texlive/20220321_3/share/texmf-dist/tex/latex/base/size10\n.clo))\n(/opt/homebrew/Cellar/texlive/20220321_3/share/texmf-dist/tex/latex/type1cm/typ\ne1cm.sty)\n(/opt/homebrew/Cellar/texlive/20220321_3/share/texmf-dist/tex/latex/cm-super/ty\npe1ec.sty\n(/opt/homebrew/Cellar/texlive/20220321_3/share/texmf-dist/tex/latex/base/t1cmr.\nfd))\n(/opt/homebrew/Cellar/texlive/20220321_3/share/texmf-dist/tex/latex/base/inpute\nnc.sty)\n(/opt/homebrew/Cellar/texlive/20220321_3/share/texmf-dist/tex/latex/geometry/ge\nometry.sty\n(/opt/homebrew/Cellar/texlive/20220321_3/share/texmf-dist/tex/latex/graphics/ke\nyval.sty)\n(/opt/homebrew/Cellar/texlive/20220321_3/share/texmf-dist/tex/generic/iftex/ifv\ntex.sty\n(/opt/homebrew/Cellar/texlive/20220321_3/share/texmf-dist/tex/generic/iftex/ift\nex.sty)))\n(/opt/homebrew/Cellar/texlive/20220321_3/share/texmf-dist/tex/latex/amsmath/ams\nmath.sty\nFor additional information on amsmath, use the `?' option.\n\n(/opt/homebrew/Cellar/texlive/20220321_3/share/texmf-dist/tex/latex/amsmath/ams\ntext.sty\n(/opt/homebrew/Cellar/texlive/20220321_3/share/texmf-dist/tex/latex/amsmath/ams\ngen.sty))\n(/opt/homebrew/Cellar/texlive/20220321_3/share/texmf-dist/tex/latex/amsmath/ams\nbsy.sty)\n(/opt/homebrew/Cellar/texlive/20220321_3/share/texmf-dist/tex/latex/amsmath/ams\nopn.sty))\n(/opt/homebrew/Cellar/texlive/20220321_3/share/texmf-dist/tex/latex/underscore/\nunderscore.sty)\n(/opt/homebrew/Cellar/texlive/20220321_3/share/texmf-dist/tex/latex/base/textco\nmp.sty)\n(/opt/homebrew/Cellar/texlive/20220321_3/share/texmf-dist/tex/latex/l3backend/l\n3backend-dvips.def)\nNo file 8b2107af34c4ac060ddb0c8cafda5b59.aux.\n*geometry* driver: auto-detecting\n*geometry* detected driver: dvips\n\nLaTeX Font Warning: Font shape `OMX/cmex/m/n' in size <20> not available\n(Font)              size <20.74> substituted on input line 29.\n\n\nLaTeX Font Warning: Font shape `OMX/cmex/m/n' in size <13.99994> not available\n(Font)              size <14.4> substituted on input line 29.\n\n\n! Package amsmath Error: \\begin{split} won't work here.\n\nSee the amsmath package documentation for explanation.\nType  H <return>  for immediate help.\n ...                                              \n                                                  \nl.29 ...n{bmatrix} 1 \\\\ 0 \\end{bmatrix}\\end{split}\n                                                  $}%\nNo pages of output.\nTranscript written on 8b2107af34c4ac060ddb0c8cafda5b59.log.\n\n\n\n"
     ]
    },
    {
     "data": {
      "text/plain": "<Figure size 830x1170 with 1 Axes>"
     },
     "metadata": {},
     "output_type": "display_data"
    },
    {
     "ename": "RuntimeError",
     "evalue": "latex was not able to process the following string:\nb'$\\\\\\\\begin{split}\\\\\\\\mathbf{E_{\\\\\\\\rm{out}}} &= \\\\\\\\begin{bmatrix} {{f(n_a)}} & 0\\\\\\\\\\\\\\\\ {f(n_b)}-{f(n_a)} & {f(n_b)} \\\\\\\\end{bmatrix} \\\\\\\\cdot \\\\\\\\overbrace{\\\\\\\\begin{bmatrix} 0 \\\\\\\\\\\\\\\\ 1 \\\\\\\\end{bmatrix}}^{\\\\\\\\updownarrow}\\\\\\\\\\\\\\\\&=\\\\\\\\begin{bmatrix} {0}\\\\\\\\\\\\\\\\ {f(n_b)} \\\\\\\\end{bmatrix}  \\\\\\\\\\\\\\\\&= {f(n_b)} \\\\\\\\cdot \\\\\\\\begin{bmatrix} 0\\\\\\\\\\\\\\\\ 1 \\\\\\\\end{bmatrix}\\\\\\\\end{split}$'\n\nHere is the full command invocation and its output:\n\nlatex -interaction=nonstopmode --halt-on-error ../0a18a857ef455a97f6d22f7d57a913ff.tex\n\nThis is pdfTeX, Version 3.141592653-2.6-1.40.24 (TeX Live 2022/Homebrew) (preloaded format=latex)\n restricted \\write18 enabled.\nentering extended mode\n(../0a18a857ef455a97f6d22f7d57a913ff.tex\nLaTeX2e <2021-11-15> patch level 1\nL3 programming layer <2022-02-24>\n(/opt/homebrew/Cellar/texlive/20220321_3/share/texmf-dist/tex/latex/base/articl\ne.cls\nDocument Class: article 2021/10/04 v1.4n Standard LaTeX document class\n\n(/opt/homebrew/Cellar/texlive/20220321_3/share/texmf-dist/tex/latex/base/size10\n.clo))\n(/opt/homebrew/Cellar/texlive/20220321_3/share/texmf-dist/tex/latex/type1cm/typ\ne1cm.sty)\n(/opt/homebrew/Cellar/texlive/20220321_3/share/texmf-dist/tex/latex/cm-super/ty\npe1ec.sty\n(/opt/homebrew/Cellar/texlive/20220321_3/share/texmf-dist/tex/latex/base/t1cmr.\nfd))\n(/opt/homebrew/Cellar/texlive/20220321_3/share/texmf-dist/tex/latex/base/inpute\nnc.sty)\n(/opt/homebrew/Cellar/texlive/20220321_3/share/texmf-dist/tex/latex/geometry/ge\nometry.sty\n(/opt/homebrew/Cellar/texlive/20220321_3/share/texmf-dist/tex/latex/graphics/ke\nyval.sty)\n(/opt/homebrew/Cellar/texlive/20220321_3/share/texmf-dist/tex/generic/iftex/ifv\ntex.sty\n(/opt/homebrew/Cellar/texlive/20220321_3/share/texmf-dist/tex/generic/iftex/ift\nex.sty)))\n(/opt/homebrew/Cellar/texlive/20220321_3/share/texmf-dist/tex/latex/amsmath/ams\nmath.sty\nFor additional information on amsmath, use the `?' option.\n\n(/opt/homebrew/Cellar/texlive/20220321_3/share/texmf-dist/tex/latex/amsmath/ams\ntext.sty\n(/opt/homebrew/Cellar/texlive/20220321_3/share/texmf-dist/tex/latex/amsmath/ams\ngen.sty))\n(/opt/homebrew/Cellar/texlive/20220321_3/share/texmf-dist/tex/latex/amsmath/ams\nbsy.sty)\n(/opt/homebrew/Cellar/texlive/20220321_3/share/texmf-dist/tex/latex/amsmath/ams\nopn.sty))\n(/opt/homebrew/Cellar/texlive/20220321_3/share/texmf-dist/tex/latex/underscore/\nunderscore.sty)\n(/opt/homebrew/Cellar/texlive/20220321_3/share/texmf-dist/tex/latex/base/textco\nmp.sty)\n(/opt/homebrew/Cellar/texlive/20220321_3/share/texmf-dist/tex/latex/l3backend/l\n3backend-dvips.def)\nNo file 0a18a857ef455a97f6d22f7d57a913ff.aux.\n*geometry* driver: auto-detecting\n*geometry* detected driver: dvips\n\nLaTeX Font Warning: Font shape `OMX/cmex/m/n' in size <20> not available\n(Font)              size <20.74> substituted on input line 29.\n\n\nLaTeX Font Warning: Font shape `OMX/cmex/m/n' in size <13.99994> not available\n(Font)              size <14.4> substituted on input line 29.\n\n\n! Package amsmath Error: \\begin{split} won't work here.\n\nSee the amsmath package documentation for explanation.\nType  H <return>  for immediate help.\n ...                                              \n                                                  \nl.29 ...in{bmatrix} 0\\\\ 1 \\end{bmatrix}\\end{split}\n                                                  $}%\nNo pages of output.\nTranscript written on 0a18a857ef455a97f6d22f7d57a913ff.log.\n\n\n",
     "output_type": "error",
     "traceback": [
      "\u001B[0;31mRuntimeError\u001B[0m\u001B[0;31m:\u001B[0m latex was not able to process the following string:\nb'$\\\\\\\\begin{split}\\\\\\\\mathbf{E_{\\\\\\\\rm{out}}} &= \\\\\\\\begin{bmatrix} {{f(n_a)}} & 0\\\\\\\\\\\\\\\\ {f(n_b)}-{f(n_a)} & {f(n_b)} \\\\\\\\end{bmatrix} \\\\\\\\cdot \\\\\\\\overbrace{\\\\\\\\begin{bmatrix} 0 \\\\\\\\\\\\\\\\ 1 \\\\\\\\end{bmatrix}}^{\\\\\\\\updownarrow}\\\\\\\\\\\\\\\\&=\\\\\\\\begin{bmatrix} {0}\\\\\\\\\\\\\\\\ {f(n_b)} \\\\\\\\end{bmatrix}  \\\\\\\\\\\\\\\\&= {f(n_b)} \\\\\\\\cdot \\\\\\\\begin{bmatrix} 0\\\\\\\\\\\\\\\\ 1 \\\\\\\\end{bmatrix}\\\\\\\\end{split}$'\n\nHere is the full command invocation and its output:\n\nlatex -interaction=nonstopmode --halt-on-error ../0a18a857ef455a97f6d22f7d57a913ff.tex\n\nThis is pdfTeX, Version 3.141592653-2.6-1.40.24 (TeX Live 2022/Homebrew) (preloaded format=latex)\n restricted \\write18 enabled.\nentering extended mode\n(../0a18a857ef455a97f6d22f7d57a913ff.tex\nLaTeX2e <2021-11-15> patch level 1\nL3 programming layer <2022-02-24>\n(/opt/homebrew/Cellar/texlive/20220321_3/share/texmf-dist/tex/latex/base/articl\ne.cls\nDocument Class: article 2021/10/04 v1.4n Standard LaTeX document class\n\n(/opt/homebrew/Cellar/texlive/20220321_3/share/texmf-dist/tex/latex/base/size10\n.clo))\n(/opt/homebrew/Cellar/texlive/20220321_3/share/texmf-dist/tex/latex/type1cm/typ\ne1cm.sty)\n(/opt/homebrew/Cellar/texlive/20220321_3/share/texmf-dist/tex/latex/cm-super/ty\npe1ec.sty\n(/opt/homebrew/Cellar/texlive/20220321_3/share/texmf-dist/tex/latex/base/t1cmr.\nfd))\n(/opt/homebrew/Cellar/texlive/20220321_3/share/texmf-dist/tex/latex/base/inpute\nnc.sty)\n(/opt/homebrew/Cellar/texlive/20220321_3/share/texmf-dist/tex/latex/geometry/ge\nometry.sty\n(/opt/homebrew/Cellar/texlive/20220321_3/share/texmf-dist/tex/latex/graphics/ke\nyval.sty)\n(/opt/homebrew/Cellar/texlive/20220321_3/share/texmf-dist/tex/generic/iftex/ifv\ntex.sty\n(/opt/homebrew/Cellar/texlive/20220321_3/share/texmf-dist/tex/generic/iftex/ift\nex.sty)))\n(/opt/homebrew/Cellar/texlive/20220321_3/share/texmf-dist/tex/latex/amsmath/ams\nmath.sty\nFor additional information on amsmath, use the `?' option.\n\n(/opt/homebrew/Cellar/texlive/20220321_3/share/texmf-dist/tex/latex/amsmath/ams\ntext.sty\n(/opt/homebrew/Cellar/texlive/20220321_3/share/texmf-dist/tex/latex/amsmath/ams\ngen.sty))\n(/opt/homebrew/Cellar/texlive/20220321_3/share/texmf-dist/tex/latex/amsmath/ams\nbsy.sty)\n(/opt/homebrew/Cellar/texlive/20220321_3/share/texmf-dist/tex/latex/amsmath/ams\nopn.sty))\n(/opt/homebrew/Cellar/texlive/20220321_3/share/texmf-dist/tex/latex/underscore/\nunderscore.sty)\n(/opt/homebrew/Cellar/texlive/20220321_3/share/texmf-dist/tex/latex/base/textco\nmp.sty)\n(/opt/homebrew/Cellar/texlive/20220321_3/share/texmf-dist/tex/latex/l3backend/l\n3backend-dvips.def)\nNo file 0a18a857ef455a97f6d22f7d57a913ff.aux.\n*geometry* driver: auto-detecting\n*geometry* detected driver: dvips\n\nLaTeX Font Warning: Font shape `OMX/cmex/m/n' in size <20> not available\n(Font)              size <20.74> substituted on input line 29.\n\n\nLaTeX Font Warning: Font shape `OMX/cmex/m/n' in size <13.99994> not available\n(Font)              size <14.4> substituted on input line 29.\n\n\n! Package amsmath Error: \\begin{split} won't work here.\n\nSee the amsmath package documentation for explanation.\nType  H <return>  for immediate help.\n ...                                              \n                                                  \nl.29 ...in{bmatrix} 0\\\\ 1 \\end{bmatrix}\\end{split}\n                                                  $}%\nNo pages of output.\nTranscript written on 0a18a857ef455a97f6d22f7d57a913ff.log.\n\n\n\n"
     ]
    },
    {
     "data": {
      "text/plain": "<Figure size 830x1170 with 1 Axes>"
     },
     "metadata": {},
     "output_type": "display_data"
    },
    {
     "ename": "RuntimeError",
     "evalue": "latex was not able to process the following string:\nb'$ \\\\\\\\begin{split} \\\\\\\\mathbf{R} =\\\\\\\\begin{bmatrix} a_1 & b_1 \\\\\\\\\\\\\\\\ a_2 & b_2 \\\\\\\\end{bmatrix}^\\\\\\\\dagger = \\\\\\\\mathcal{F} \\\\\\\\cdot \\\\\\\\begin{bmatrix} \\\\\\\\cos\\\\\\\\beta & -\\\\\\\\sin\\\\\\\\beta \\\\\\\\\\\\\\\\ \\\\\\\\sin\\\\\\\\beta & \\\\\\\\cos\\\\\\\\beta \\\\\\\\end{bmatrix} \\\\\\\\\\\\\\\\\\\\\\\\implies \\\\\\\\lvert a_1\\\\\\\\cdot b_1 \\\\\\\\rvert = \\\\\\\\lvert a_2\\\\\\\\cdot b_2 \\\\\\\\rvert.\\\\\\\\end{split} $'\n\nHere is the full command invocation and its output:\n\nlatex -interaction=nonstopmode --halt-on-error ../003c602110d85b4ea6fa5e65ad1770d2.tex\n\nThis is pdfTeX, Version 3.141592653-2.6-1.40.24 (TeX Live 2022/Homebrew) (preloaded format=latex)\n restricted \\write18 enabled.\nentering extended mode\n(../003c602110d85b4ea6fa5e65ad1770d2.tex\nLaTeX2e <2021-11-15> patch level 1\nL3 programming layer <2022-02-24>\n(/opt/homebrew/Cellar/texlive/20220321_3/share/texmf-dist/tex/latex/base/articl\ne.cls\nDocument Class: article 2021/10/04 v1.4n Standard LaTeX document class\n\n(/opt/homebrew/Cellar/texlive/20220321_3/share/texmf-dist/tex/latex/base/size10\n.clo))\n(/opt/homebrew/Cellar/texlive/20220321_3/share/texmf-dist/tex/latex/type1cm/typ\ne1cm.sty)\n(/opt/homebrew/Cellar/texlive/20220321_3/share/texmf-dist/tex/latex/cm-super/ty\npe1ec.sty\n(/opt/homebrew/Cellar/texlive/20220321_3/share/texmf-dist/tex/latex/base/t1cmr.\nfd))\n(/opt/homebrew/Cellar/texlive/20220321_3/share/texmf-dist/tex/latex/base/inpute\nnc.sty)\n(/opt/homebrew/Cellar/texlive/20220321_3/share/texmf-dist/tex/latex/geometry/ge\nometry.sty\n(/opt/homebrew/Cellar/texlive/20220321_3/share/texmf-dist/tex/latex/graphics/ke\nyval.sty)\n(/opt/homebrew/Cellar/texlive/20220321_3/share/texmf-dist/tex/generic/iftex/ifv\ntex.sty\n(/opt/homebrew/Cellar/texlive/20220321_3/share/texmf-dist/tex/generic/iftex/ift\nex.sty)))\n(/opt/homebrew/Cellar/texlive/20220321_3/share/texmf-dist/tex/latex/amsmath/ams\nmath.sty\nFor additional information on amsmath, use the `?' option.\n\n(/opt/homebrew/Cellar/texlive/20220321_3/share/texmf-dist/tex/latex/amsmath/ams\ntext.sty\n(/opt/homebrew/Cellar/texlive/20220321_3/share/texmf-dist/tex/latex/amsmath/ams\ngen.sty))\n(/opt/homebrew/Cellar/texlive/20220321_3/share/texmf-dist/tex/latex/amsmath/ams\nbsy.sty)\n(/opt/homebrew/Cellar/texlive/20220321_3/share/texmf-dist/tex/latex/amsmath/ams\nopn.sty))\n(/opt/homebrew/Cellar/texlive/20220321_3/share/texmf-dist/tex/latex/underscore/\nunderscore.sty)\n(/opt/homebrew/Cellar/texlive/20220321_3/share/texmf-dist/tex/latex/base/textco\nmp.sty)\n(/opt/homebrew/Cellar/texlive/20220321_3/share/texmf-dist/tex/latex/l3backend/l\n3backend-dvips.def)\nNo file 003c602110d85b4ea6fa5e65ad1770d2.aux.\n*geometry* driver: auto-detecting\n*geometry* detected driver: dvips\n\nLaTeX Font Warning: Font shape `OMX/cmex/m/n' in size <20> not available\n(Font)              size <20.74> substituted on input line 29.\n\n\nLaTeX Font Warning: Font shape `OMX/cmex/m/n' in size <13.99994> not available\n(Font)              size <14.4> substituted on input line 29.\n\n\n! Package amsmath Error: \\begin{split} won't work here.\n\nSee the amsmath package documentation for explanation.\nType  H <return>  for immediate help.\n ...                                              \n                                                  \nl.29 ...t = \\lvert a_2\\cdot b_2 \\rvert.\\end{split}\n                                                   $}%\nNo pages of output.\nTranscript written on 003c602110d85b4ea6fa5e65ad1770d2.log.\n\n\n",
     "output_type": "error",
     "traceback": [
      "\u001B[0;31mRuntimeError\u001B[0m\u001B[0;31m:\u001B[0m latex was not able to process the following string:\nb'$ \\\\\\\\begin{split} \\\\\\\\mathbf{R} =\\\\\\\\begin{bmatrix} a_1 & b_1 \\\\\\\\\\\\\\\\ a_2 & b_2 \\\\\\\\end{bmatrix}^\\\\\\\\dagger = \\\\\\\\mathcal{F} \\\\\\\\cdot \\\\\\\\begin{bmatrix} \\\\\\\\cos\\\\\\\\beta & -\\\\\\\\sin\\\\\\\\beta \\\\\\\\\\\\\\\\ \\\\\\\\sin\\\\\\\\beta & \\\\\\\\cos\\\\\\\\beta \\\\\\\\end{bmatrix} \\\\\\\\\\\\\\\\\\\\\\\\implies \\\\\\\\lvert a_1\\\\\\\\cdot b_1 \\\\\\\\rvert = \\\\\\\\lvert a_2\\\\\\\\cdot b_2 \\\\\\\\rvert.\\\\\\\\end{split} $'\n\nHere is the full command invocation and its output:\n\nlatex -interaction=nonstopmode --halt-on-error ../003c602110d85b4ea6fa5e65ad1770d2.tex\n\nThis is pdfTeX, Version 3.141592653-2.6-1.40.24 (TeX Live 2022/Homebrew) (preloaded format=latex)\n restricted \\write18 enabled.\nentering extended mode\n(../003c602110d85b4ea6fa5e65ad1770d2.tex\nLaTeX2e <2021-11-15> patch level 1\nL3 programming layer <2022-02-24>\n(/opt/homebrew/Cellar/texlive/20220321_3/share/texmf-dist/tex/latex/base/articl\ne.cls\nDocument Class: article 2021/10/04 v1.4n Standard LaTeX document class\n\n(/opt/homebrew/Cellar/texlive/20220321_3/share/texmf-dist/tex/latex/base/size10\n.clo))\n(/opt/homebrew/Cellar/texlive/20220321_3/share/texmf-dist/tex/latex/type1cm/typ\ne1cm.sty)\n(/opt/homebrew/Cellar/texlive/20220321_3/share/texmf-dist/tex/latex/cm-super/ty\npe1ec.sty\n(/opt/homebrew/Cellar/texlive/20220321_3/share/texmf-dist/tex/latex/base/t1cmr.\nfd))\n(/opt/homebrew/Cellar/texlive/20220321_3/share/texmf-dist/tex/latex/base/inpute\nnc.sty)\n(/opt/homebrew/Cellar/texlive/20220321_3/share/texmf-dist/tex/latex/geometry/ge\nometry.sty\n(/opt/homebrew/Cellar/texlive/20220321_3/share/texmf-dist/tex/latex/graphics/ke\nyval.sty)\n(/opt/homebrew/Cellar/texlive/20220321_3/share/texmf-dist/tex/generic/iftex/ifv\ntex.sty\n(/opt/homebrew/Cellar/texlive/20220321_3/share/texmf-dist/tex/generic/iftex/ift\nex.sty)))\n(/opt/homebrew/Cellar/texlive/20220321_3/share/texmf-dist/tex/latex/amsmath/ams\nmath.sty\nFor additional information on amsmath, use the `?' option.\n\n(/opt/homebrew/Cellar/texlive/20220321_3/share/texmf-dist/tex/latex/amsmath/ams\ntext.sty\n(/opt/homebrew/Cellar/texlive/20220321_3/share/texmf-dist/tex/latex/amsmath/ams\ngen.sty))\n(/opt/homebrew/Cellar/texlive/20220321_3/share/texmf-dist/tex/latex/amsmath/ams\nbsy.sty)\n(/opt/homebrew/Cellar/texlive/20220321_3/share/texmf-dist/tex/latex/amsmath/ams\nopn.sty))\n(/opt/homebrew/Cellar/texlive/20220321_3/share/texmf-dist/tex/latex/underscore/\nunderscore.sty)\n(/opt/homebrew/Cellar/texlive/20220321_3/share/texmf-dist/tex/latex/base/textco\nmp.sty)\n(/opt/homebrew/Cellar/texlive/20220321_3/share/texmf-dist/tex/latex/l3backend/l\n3backend-dvips.def)\nNo file 003c602110d85b4ea6fa5e65ad1770d2.aux.\n*geometry* driver: auto-detecting\n*geometry* detected driver: dvips\n\nLaTeX Font Warning: Font shape `OMX/cmex/m/n' in size <20> not available\n(Font)              size <20.74> substituted on input line 29.\n\n\nLaTeX Font Warning: Font shape `OMX/cmex/m/n' in size <13.99994> not available\n(Font)              size <14.4> substituted on input line 29.\n\n\n! Package amsmath Error: \\begin{split} won't work here.\n\nSee the amsmath package documentation for explanation.\nType  H <return>  for immediate help.\n ...                                              \n                                                  \nl.29 ...t = \\lvert a_2\\cdot b_2 \\rvert.\\end{split}\n                                                   $}%\nNo pages of output.\nTranscript written on 003c602110d85b4ea6fa5e65ad1770d2.log.\n\n\n\n"
     ]
    },
    {
     "data": {
      "text/plain": "<Figure size 830x1170 with 1 Axes>"
     },
     "metadata": {},
     "output_type": "display_data"
    }
   ],
   "source": [
    "%xmode Plain\n",
    "import logging\n",
    "import contextlib\n",
    "\n",
    "\n",
    "saved = 0\n",
    "for line_nr in tqdm(range(len(valid_equations))):\n",
    "    location = 'EquationRenders/'\n",
    "    try:\n",
    "        filename = f'eq_line_{line_nr}'\n",
    "        latex_to_image(math_expr=valid_equations[line_nr], file_name=filename, location=location)\n",
    "        saved += 1\n",
    "    except Exception as e:\n",
    "        # log the error message to a file\n",
    "        pass\n"
   ],
   "metadata": {
    "collapsed": false,
    "pycharm": {
     "name": "#%%\n"
    }
   }
  },
  {
   "cell_type": "code",
   "execution_count": 12,
   "outputs": [],
   "source": [],
   "metadata": {
    "collapsed": false,
    "pycharm": {
     "name": "#%%\n"
    }
   }
  }
 ],
 "metadata": {
  "kernelspec": {
   "display_name": "Python 3",
   "language": "python",
   "name": "python3"
  },
  "language_info": {
   "codemirror_mode": {
    "name": "ipython",
    "version": 2
   },
   "file_extension": ".py",
   "mimetype": "text/x-python",
   "name": "python",
   "nbconvert_exporter": "python",
   "pygments_lexer": "ipython2",
   "version": "2.7.6"
  }
 },
 "nbformat": 4,
 "nbformat_minor": 0
}
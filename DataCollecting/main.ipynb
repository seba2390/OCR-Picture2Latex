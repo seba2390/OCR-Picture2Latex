{
 "cells": [
  {
   "cell_type": "code",
   "execution_count": 1,
   "outputs": [],
   "source": [
    "import logging\n",
    "\n",
    "from ArxivEquationScraping import *\n",
    "from EquationFiltering import *\n",
    "from PictureGenerator import *"
   ],
   "metadata": {
    "collapsed": false,
    "pycharm": {
     "name": "#%%\n"
    }
   }
  },
  {
   "cell_type": "markdown",
   "source": [
    "#### - Scraping ArXiv for STEM-category papers:"
   ],
   "metadata": {
    "collapsed": false,
    "pycharm": {
     "name": "#%% md\n"
    }
   }
  },
  {
   "cell_type": "code",
   "execution_count": 2,
   "outputs": [
    {
     "name": "stdout",
     "output_type": "stream",
     "text": [
      "======= Downloading: 100 (out of 1561) papers in category: 'physics' in YY/MM: 2303 =======\n",
      "Downloading paper:  1  with id:  2303.00033  ...\n",
      "Downloading paper:  2  with id:  2303.00036  ...\n",
      "Downloading paper:  3  with id:  2303.00037  ...\n",
      "Downloading paper:  4  with id:  2303.00041  ...\n",
      "Downloading paper:  5  with id:  2303.00059  ...\n",
      "Downloading paper:  6  with id:  2303.00061  ...\n",
      "Downloading paper:  7  with id:  2303.00072  ...\n",
      "Downloading paper:  8  with id:  2303.00081  ...\n",
      "Downloading paper:  9  with id:  2303.00104  ...\n",
      "Downloading paper:  10  with id:  2303.00114  ...\n",
      "Downloading paper:  11  with id:  2303.00121  ...\n",
      "Downloading paper:  12  with id:  2303.00127  ...\n",
      "Downloading paper:  13  with id:  2303.00166  ...\n",
      "Downloading paper:  14  with id:  2303.00176  ...\n",
      "Downloading paper:  15  with id:  2303.00184  ...\n",
      "Downloading paper:  16  with id:  2303.00189  ...\n",
      "Downloading paper:  17  with id:  2303.00195  ...\n",
      "Downloading paper:  18  with id:  2303.00197  ...\n",
      "Downloading paper:  19  with id:  2303.00224  ...\n",
      "Downloading paper:  20  with id:  2303.00225  ...\n",
      "Downloading paper:  21  with id:  2303.00239  ...\n",
      "Downloading paper:  22  with id:  2303.00248  ...\n",
      "Downloading paper:  23  with id:  2303.00266  ...\n",
      "Downloading paper:  24  with id:  2303.00287  ...\n",
      "Downloading paper:  25  with id:  2303.00290  ...\n",
      "Downloading paper:  26  with id:  2303.00352  ...\n",
      "Downloading paper:  27  with id:  2303.00361  ...\n",
      "Downloading paper:  28  with id:  2303.00365  ...\n",
      "Downloading paper:  29  with id:  2303.00395  ...\n",
      "Downloading paper:  30  with id:  2303.00415  ...\n",
      "Downloading paper:  31  with id:  2303.00416  ...\n",
      "Downloading paper:  32  with id:  2303.00425  ...\n",
      "Downloading paper:  33  with id:  2303.00436  ...\n",
      "Downloading paper:  34  with id:  2303.00444  ...\n",
      "Downloading paper:  35  with id:  2303.00469  ...\n",
      "Downloading paper:  36  with id:  2303.00478  ...\n",
      "Downloading paper:  37  with id:  2303.00512  ...\n",
      "Downloading paper:  38  with id:  2303.00526  ...\n",
      "Downloading paper:  39  with id:  2303.00548  ...\n",
      "Downloading paper:  40  with id:  2303.00568  ...\n",
      "Downloading paper:  41  with id:  2303.00622  ...\n",
      "Downloading paper:  42  with id:  2303.00640  ...\n",
      "Downloading paper:  43  with id:  2303.00643  ...\n",
      "Downloading paper:  44  with id:  2303.00648  ...\n",
      "Downloading paper:  45  with id:  2303.00657  ...\n",
      "Downloading paper:  46  with id:  2303.00661  ...\n",
      "Downloading paper:  47  with id:  2303.00669  ...\n",
      "Downloading paper:  48  with id:  2303.00675  ...\n",
      "Downloading paper:  49  with id:  2303.00679  ...\n",
      "Downloading paper:  50  with id:  2303.00681  ...\n",
      "Downloading paper:  51  with id:  2303.00682  ...\n",
      "Downloading paper:  52  with id:  2303.00689  ...\n",
      "Downloading paper:  53  with id:  2303.00706  ...\n",
      "Downloading paper:  54  with id:  2303.00707  ...\n",
      "Downloading paper:  55  with id:  2303.00711  ...\n",
      "Downloading paper:  56  with id:  2303.00718  ...\n",
      "Downloading paper:  57  with id:  2303.00726  ...\n",
      "Downloading paper:  58  with id:  2303.00753  ...\n"
     ]
    },
    {
     "ename": "KeyboardInterrupt",
     "evalue": "",
     "output_type": "error",
     "traceback": [
      "\u001B[0;31m---------------------------------------------------------------------------\u001B[0m",
      "\u001B[0;31mKeyboardInterrupt\u001B[0m                         Traceback (most recent call last)",
      "Cell \u001B[0;32mIn [2], line 4\u001B[0m\n\u001B[1;32m      2\u001B[0m STEM_category \u001B[38;5;241m=\u001B[39m \u001B[38;5;124m'\u001B[39m\u001B[38;5;124mphysics\u001B[39m\u001B[38;5;124m'\u001B[39m\n\u001B[1;32m      3\u001B[0m download_directory \u001B[38;5;241m=\u001B[39m \u001B[38;5;124m\"\u001B[39m\u001B[38;5;124marxiv_papers/\u001B[39m\u001B[38;5;124m\"\u001B[39m\n\u001B[0;32m----> 4\u001B[0m \u001B[43mdownload_arxiv_papers\u001B[49m\u001B[43m(\u001B[49m\u001B[43mSTEM_category\u001B[49m\u001B[43m,\u001B[49m\u001B[43m \u001B[49m\u001B[43mnr_papers\u001B[49m\u001B[43m,\u001B[49m\u001B[43m \u001B[49m\u001B[43mdownload_dir\u001B[49m\u001B[38;5;241;43m=\u001B[39;49m\u001B[43mdownload_directory\u001B[49m\u001B[43m)\u001B[49m\n",
      "File \u001B[0;32m~/Library/CloudStorage/OneDrive-AarhusUniversitet/Div. Github projekter/OCR-Picture2Latex/DataCollecting/ArxivEquationScraping.py:291\u001B[0m, in \u001B[0;36mdownload_arxiv_papers\u001B[0;34m(category, num_papers, download_dir)\u001B[0m\n\u001B[1;32m    289\u001B[0m \u001B[38;5;28mprint\u001B[39m(\u001B[38;5;124m\"\u001B[39m\u001B[38;5;124mDownloading paper: \u001B[39m\u001B[38;5;124m\"\u001B[39m, i\u001B[38;5;241m+\u001B[39m\u001B[38;5;241m1\u001B[39m, \u001B[38;5;124m\"\u001B[39m\u001B[38;5;124m with id: \u001B[39m\u001B[38;5;124m\"\u001B[39m, paper_id, \u001B[38;5;124m\"\u001B[39m\u001B[38;5;124m ...\u001B[39m\u001B[38;5;124m\"\u001B[39m)\n\u001B[1;32m    290\u001B[0m \u001B[38;5;66;03m# Download the source files and save them to the download directory\u001B[39;00m\n\u001B[0;32m--> 291\u001B[0m response_3 \u001B[38;5;241m=\u001B[39m \u001B[43mrequests\u001B[49m\u001B[38;5;241;43m.\u001B[39;49m\u001B[43mget\u001B[49m\u001B[43m(\u001B[49m\u001B[43msource_url\u001B[49m\u001B[43m)\u001B[49m\n\u001B[1;32m    293\u001B[0m \u001B[38;5;28;01mwith\u001B[39;00m \u001B[38;5;28mopen\u001B[39m(download_dir\u001B[38;5;241m+\u001B[39m\u001B[38;5;28mstr\u001B[39m(paper_id), \u001B[38;5;124m\"\u001B[39m\u001B[38;5;124mwb\u001B[39m\u001B[38;5;124m\"\u001B[39m) \u001B[38;5;28;01mas\u001B[39;00m f:\n\u001B[1;32m    294\u001B[0m     f\u001B[38;5;241m.\u001B[39mwrite(response_3\u001B[38;5;241m.\u001B[39mcontent)\n",
      "File \u001B[0;32m~/miniforge3/lib/python3.10/site-packages/requests/api.py:73\u001B[0m, in \u001B[0;36mget\u001B[0;34m(url, params, **kwargs)\u001B[0m\n\u001B[1;32m     62\u001B[0m \u001B[38;5;28;01mdef\u001B[39;00m \u001B[38;5;21mget\u001B[39m(url, params\u001B[38;5;241m=\u001B[39m\u001B[38;5;28;01mNone\u001B[39;00m, \u001B[38;5;241m*\u001B[39m\u001B[38;5;241m*\u001B[39mkwargs):\n\u001B[1;32m     63\u001B[0m     \u001B[38;5;124mr\u001B[39m\u001B[38;5;124;03m\"\"\"Sends a GET request.\u001B[39;00m\n\u001B[1;32m     64\u001B[0m \n\u001B[1;32m     65\u001B[0m \u001B[38;5;124;03m    :param url: URL for the new :class:`Request` object.\u001B[39;00m\n\u001B[0;32m   (...)\u001B[0m\n\u001B[1;32m     70\u001B[0m \u001B[38;5;124;03m    :rtype: requests.Response\u001B[39;00m\n\u001B[1;32m     71\u001B[0m \u001B[38;5;124;03m    \"\"\"\u001B[39;00m\n\u001B[0;32m---> 73\u001B[0m     \u001B[38;5;28;01mreturn\u001B[39;00m \u001B[43mrequest\u001B[49m\u001B[43m(\u001B[49m\u001B[38;5;124;43m\"\u001B[39;49m\u001B[38;5;124;43mget\u001B[39;49m\u001B[38;5;124;43m\"\u001B[39;49m\u001B[43m,\u001B[49m\u001B[43m \u001B[49m\u001B[43murl\u001B[49m\u001B[43m,\u001B[49m\u001B[43m \u001B[49m\u001B[43mparams\u001B[49m\u001B[38;5;241;43m=\u001B[39;49m\u001B[43mparams\u001B[49m\u001B[43m,\u001B[49m\u001B[43m \u001B[49m\u001B[38;5;241;43m*\u001B[39;49m\u001B[38;5;241;43m*\u001B[39;49m\u001B[43mkwargs\u001B[49m\u001B[43m)\u001B[49m\n",
      "File \u001B[0;32m~/miniforge3/lib/python3.10/site-packages/requests/api.py:59\u001B[0m, in \u001B[0;36mrequest\u001B[0;34m(method, url, **kwargs)\u001B[0m\n\u001B[1;32m     55\u001B[0m \u001B[38;5;66;03m# By using the 'with' statement we are sure the session is closed, thus we\u001B[39;00m\n\u001B[1;32m     56\u001B[0m \u001B[38;5;66;03m# avoid leaving sockets open which can trigger a ResourceWarning in some\u001B[39;00m\n\u001B[1;32m     57\u001B[0m \u001B[38;5;66;03m# cases, and look like a memory leak in others.\u001B[39;00m\n\u001B[1;32m     58\u001B[0m \u001B[38;5;28;01mwith\u001B[39;00m sessions\u001B[38;5;241m.\u001B[39mSession() \u001B[38;5;28;01mas\u001B[39;00m session:\n\u001B[0;32m---> 59\u001B[0m     \u001B[38;5;28;01mreturn\u001B[39;00m \u001B[43msession\u001B[49m\u001B[38;5;241;43m.\u001B[39;49m\u001B[43mrequest\u001B[49m\u001B[43m(\u001B[49m\u001B[43mmethod\u001B[49m\u001B[38;5;241;43m=\u001B[39;49m\u001B[43mmethod\u001B[49m\u001B[43m,\u001B[49m\u001B[43m \u001B[49m\u001B[43murl\u001B[49m\u001B[38;5;241;43m=\u001B[39;49m\u001B[43murl\u001B[49m\u001B[43m,\u001B[49m\u001B[43m \u001B[49m\u001B[38;5;241;43m*\u001B[39;49m\u001B[38;5;241;43m*\u001B[39;49m\u001B[43mkwargs\u001B[49m\u001B[43m)\u001B[49m\n",
      "File \u001B[0;32m~/miniforge3/lib/python3.10/site-packages/requests/sessions.py:587\u001B[0m, in \u001B[0;36mSession.request\u001B[0;34m(self, method, url, params, data, headers, cookies, files, auth, timeout, allow_redirects, proxies, hooks, stream, verify, cert, json)\u001B[0m\n\u001B[1;32m    582\u001B[0m send_kwargs \u001B[38;5;241m=\u001B[39m {\n\u001B[1;32m    583\u001B[0m     \u001B[38;5;124m\"\u001B[39m\u001B[38;5;124mtimeout\u001B[39m\u001B[38;5;124m\"\u001B[39m: timeout,\n\u001B[1;32m    584\u001B[0m     \u001B[38;5;124m\"\u001B[39m\u001B[38;5;124mallow_redirects\u001B[39m\u001B[38;5;124m\"\u001B[39m: allow_redirects,\n\u001B[1;32m    585\u001B[0m }\n\u001B[1;32m    586\u001B[0m send_kwargs\u001B[38;5;241m.\u001B[39mupdate(settings)\n\u001B[0;32m--> 587\u001B[0m resp \u001B[38;5;241m=\u001B[39m \u001B[38;5;28;43mself\u001B[39;49m\u001B[38;5;241;43m.\u001B[39;49m\u001B[43msend\u001B[49m\u001B[43m(\u001B[49m\u001B[43mprep\u001B[49m\u001B[43m,\u001B[49m\u001B[43m \u001B[49m\u001B[38;5;241;43m*\u001B[39;49m\u001B[38;5;241;43m*\u001B[39;49m\u001B[43msend_kwargs\u001B[49m\u001B[43m)\u001B[49m\n\u001B[1;32m    589\u001B[0m \u001B[38;5;28;01mreturn\u001B[39;00m resp\n",
      "File \u001B[0;32m~/miniforge3/lib/python3.10/site-packages/requests/sessions.py:745\u001B[0m, in \u001B[0;36mSession.send\u001B[0;34m(self, request, **kwargs)\u001B[0m\n\u001B[1;32m    742\u001B[0m         \u001B[38;5;28;01mpass\u001B[39;00m\n\u001B[1;32m    744\u001B[0m \u001B[38;5;28;01mif\u001B[39;00m \u001B[38;5;129;01mnot\u001B[39;00m stream:\n\u001B[0;32m--> 745\u001B[0m     \u001B[43mr\u001B[49m\u001B[38;5;241;43m.\u001B[39;49m\u001B[43mcontent\u001B[49m\n\u001B[1;32m    747\u001B[0m \u001B[38;5;28;01mreturn\u001B[39;00m r\n",
      "File \u001B[0;32m~/miniforge3/lib/python3.10/site-packages/requests/models.py:899\u001B[0m, in \u001B[0;36mResponse.content\u001B[0;34m(self)\u001B[0m\n\u001B[1;32m    897\u001B[0m         \u001B[38;5;28mself\u001B[39m\u001B[38;5;241m.\u001B[39m_content \u001B[38;5;241m=\u001B[39m \u001B[38;5;28;01mNone\u001B[39;00m\n\u001B[1;32m    898\u001B[0m     \u001B[38;5;28;01melse\u001B[39;00m:\n\u001B[0;32m--> 899\u001B[0m         \u001B[38;5;28mself\u001B[39m\u001B[38;5;241m.\u001B[39m_content \u001B[38;5;241m=\u001B[39m \u001B[38;5;124;43mb\u001B[39;49m\u001B[38;5;124;43m\"\u001B[39;49m\u001B[38;5;124;43m\"\u001B[39;49m\u001B[38;5;241;43m.\u001B[39;49m\u001B[43mjoin\u001B[49m\u001B[43m(\u001B[49m\u001B[38;5;28;43mself\u001B[39;49m\u001B[38;5;241;43m.\u001B[39;49m\u001B[43miter_content\u001B[49m\u001B[43m(\u001B[49m\u001B[43mCONTENT_CHUNK_SIZE\u001B[49m\u001B[43m)\u001B[49m\u001B[43m)\u001B[49m \u001B[38;5;129;01mor\u001B[39;00m \u001B[38;5;124mb\u001B[39m\u001B[38;5;124m\"\u001B[39m\u001B[38;5;124m\"\u001B[39m\n\u001B[1;32m    901\u001B[0m \u001B[38;5;28mself\u001B[39m\u001B[38;5;241m.\u001B[39m_content_consumed \u001B[38;5;241m=\u001B[39m \u001B[38;5;28;01mTrue\u001B[39;00m\n\u001B[1;32m    902\u001B[0m \u001B[38;5;66;03m# don't need to release the connection; that's been handled by urllib3\u001B[39;00m\n\u001B[1;32m    903\u001B[0m \u001B[38;5;66;03m# since we exhausted the data.\u001B[39;00m\n",
      "File \u001B[0;32m~/miniforge3/lib/python3.10/site-packages/requests/models.py:816\u001B[0m, in \u001B[0;36mResponse.iter_content.<locals>.generate\u001B[0;34m()\u001B[0m\n\u001B[1;32m    814\u001B[0m \u001B[38;5;28;01mif\u001B[39;00m \u001B[38;5;28mhasattr\u001B[39m(\u001B[38;5;28mself\u001B[39m\u001B[38;5;241m.\u001B[39mraw, \u001B[38;5;124m\"\u001B[39m\u001B[38;5;124mstream\u001B[39m\u001B[38;5;124m\"\u001B[39m):\n\u001B[1;32m    815\u001B[0m     \u001B[38;5;28;01mtry\u001B[39;00m:\n\u001B[0;32m--> 816\u001B[0m         \u001B[38;5;28;01myield from\u001B[39;00m \u001B[38;5;28mself\u001B[39m\u001B[38;5;241m.\u001B[39mraw\u001B[38;5;241m.\u001B[39mstream(chunk_size, decode_content\u001B[38;5;241m=\u001B[39m\u001B[38;5;28;01mTrue\u001B[39;00m)\n\u001B[1;32m    817\u001B[0m     \u001B[38;5;28;01mexcept\u001B[39;00m ProtocolError \u001B[38;5;28;01mas\u001B[39;00m e:\n\u001B[1;32m    818\u001B[0m         \u001B[38;5;28;01mraise\u001B[39;00m ChunkedEncodingError(e)\n",
      "File \u001B[0;32m~/miniforge3/lib/python3.10/site-packages/urllib3/response.py:623\u001B[0m, in \u001B[0;36mHTTPResponse.stream\u001B[0;34m(self, amt, decode_content)\u001B[0m\n\u001B[1;32m    607\u001B[0m \u001B[38;5;124;03m\"\"\"\u001B[39;00m\n\u001B[1;32m    608\u001B[0m \u001B[38;5;124;03mA generator wrapper for the read() method. A call will block until\u001B[39;00m\n\u001B[1;32m    609\u001B[0m \u001B[38;5;124;03m``amt`` bytes have been read from the connection or until the\u001B[39;00m\n\u001B[0;32m   (...)\u001B[0m\n\u001B[1;32m    620\u001B[0m \u001B[38;5;124;03m    'content-encoding' header.\u001B[39;00m\n\u001B[1;32m    621\u001B[0m \u001B[38;5;124;03m\"\"\"\u001B[39;00m\n\u001B[1;32m    622\u001B[0m \u001B[38;5;28;01mif\u001B[39;00m \u001B[38;5;28mself\u001B[39m\u001B[38;5;241m.\u001B[39mchunked \u001B[38;5;129;01mand\u001B[39;00m \u001B[38;5;28mself\u001B[39m\u001B[38;5;241m.\u001B[39msupports_chunked_reads():\n\u001B[0;32m--> 623\u001B[0m     \u001B[38;5;28;01mfor\u001B[39;00m line \u001B[38;5;129;01min\u001B[39;00m \u001B[38;5;28mself\u001B[39m\u001B[38;5;241m.\u001B[39mread_chunked(amt, decode_content\u001B[38;5;241m=\u001B[39mdecode_content):\n\u001B[1;32m    624\u001B[0m         \u001B[38;5;28;01myield\u001B[39;00m line\n\u001B[1;32m    625\u001B[0m \u001B[38;5;28;01melse\u001B[39;00m:\n",
      "File \u001B[0;32m~/miniforge3/lib/python3.10/site-packages/urllib3/response.py:818\u001B[0m, in \u001B[0;36mHTTPResponse.read_chunked\u001B[0;34m(self, amt, decode_content)\u001B[0m\n\u001B[1;32m    816\u001B[0m \u001B[38;5;28;01mif\u001B[39;00m \u001B[38;5;28mself\u001B[39m\u001B[38;5;241m.\u001B[39mchunk_left \u001B[38;5;241m==\u001B[39m \u001B[38;5;241m0\u001B[39m:\n\u001B[1;32m    817\u001B[0m     \u001B[38;5;28;01mbreak\u001B[39;00m\n\u001B[0;32m--> 818\u001B[0m chunk \u001B[38;5;241m=\u001B[39m \u001B[38;5;28;43mself\u001B[39;49m\u001B[38;5;241;43m.\u001B[39;49m\u001B[43m_handle_chunk\u001B[49m\u001B[43m(\u001B[49m\u001B[43mamt\u001B[49m\u001B[43m)\u001B[49m\n\u001B[1;32m    819\u001B[0m decoded \u001B[38;5;241m=\u001B[39m \u001B[38;5;28mself\u001B[39m\u001B[38;5;241m.\u001B[39m_decode(\n\u001B[1;32m    820\u001B[0m     chunk, decode_content\u001B[38;5;241m=\u001B[39mdecode_content, flush_decoder\u001B[38;5;241m=\u001B[39m\u001B[38;5;28;01mFalse\u001B[39;00m\n\u001B[1;32m    821\u001B[0m )\n\u001B[1;32m    822\u001B[0m \u001B[38;5;28;01mif\u001B[39;00m decoded:\n",
      "File \u001B[0;32m~/miniforge3/lib/python3.10/site-packages/urllib3/response.py:771\u001B[0m, in \u001B[0;36mHTTPResponse._handle_chunk\u001B[0;34m(self, amt)\u001B[0m\n\u001B[1;32m    769\u001B[0m     returned_chunk \u001B[38;5;241m=\u001B[39m value\n\u001B[1;32m    770\u001B[0m \u001B[38;5;28;01melse\u001B[39;00m:  \u001B[38;5;66;03m# amt > self.chunk_left\u001B[39;00m\n\u001B[0;32m--> 771\u001B[0m     returned_chunk \u001B[38;5;241m=\u001B[39m \u001B[38;5;28;43mself\u001B[39;49m\u001B[38;5;241;43m.\u001B[39;49m\u001B[43m_fp\u001B[49m\u001B[38;5;241;43m.\u001B[39;49m\u001B[43m_safe_read\u001B[49m\u001B[43m(\u001B[49m\u001B[38;5;28;43mself\u001B[39;49m\u001B[38;5;241;43m.\u001B[39;49m\u001B[43mchunk_left\u001B[49m\u001B[43m)\u001B[49m\n\u001B[1;32m    772\u001B[0m     \u001B[38;5;28mself\u001B[39m\u001B[38;5;241m.\u001B[39m_fp\u001B[38;5;241m.\u001B[39m_safe_read(\u001B[38;5;241m2\u001B[39m)  \u001B[38;5;66;03m# Toss the CRLF at the end of the chunk.\u001B[39;00m\n\u001B[1;32m    773\u001B[0m     \u001B[38;5;28mself\u001B[39m\u001B[38;5;241m.\u001B[39mchunk_left \u001B[38;5;241m=\u001B[39m \u001B[38;5;28;01mNone\u001B[39;00m\n",
      "File \u001B[0;32m~/miniforge3/lib/python3.10/http/client.py:630\u001B[0m, in \u001B[0;36mHTTPResponse._safe_read\u001B[0;34m(self, amt)\u001B[0m\n\u001B[1;32m    623\u001B[0m \u001B[38;5;28;01mdef\u001B[39;00m \u001B[38;5;21m_safe_read\u001B[39m(\u001B[38;5;28mself\u001B[39m, amt):\n\u001B[1;32m    624\u001B[0m     \u001B[38;5;124;03m\"\"\"Read the number of bytes requested.\u001B[39;00m\n\u001B[1;32m    625\u001B[0m \n\u001B[1;32m    626\u001B[0m \u001B[38;5;124;03m    This function should be used when <amt> bytes \"should\" be present for\u001B[39;00m\n\u001B[1;32m    627\u001B[0m \u001B[38;5;124;03m    reading. If the bytes are truly not available (due to EOF), then the\u001B[39;00m\n\u001B[1;32m    628\u001B[0m \u001B[38;5;124;03m    IncompleteRead exception can be used to detect the problem.\u001B[39;00m\n\u001B[1;32m    629\u001B[0m \u001B[38;5;124;03m    \"\"\"\u001B[39;00m\n\u001B[0;32m--> 630\u001B[0m     data \u001B[38;5;241m=\u001B[39m \u001B[38;5;28;43mself\u001B[39;49m\u001B[38;5;241;43m.\u001B[39;49m\u001B[43mfp\u001B[49m\u001B[38;5;241;43m.\u001B[39;49m\u001B[43mread\u001B[49m\u001B[43m(\u001B[49m\u001B[43mamt\u001B[49m\u001B[43m)\u001B[49m\n\u001B[1;32m    631\u001B[0m     \u001B[38;5;28;01mif\u001B[39;00m \u001B[38;5;28mlen\u001B[39m(data) \u001B[38;5;241m<\u001B[39m amt:\n\u001B[1;32m    632\u001B[0m         \u001B[38;5;28;01mraise\u001B[39;00m IncompleteRead(data, amt\u001B[38;5;241m-\u001B[39m\u001B[38;5;28mlen\u001B[39m(data))\n",
      "File \u001B[0;32m~/miniforge3/lib/python3.10/socket.py:705\u001B[0m, in \u001B[0;36mSocketIO.readinto\u001B[0;34m(self, b)\u001B[0m\n\u001B[1;32m    703\u001B[0m \u001B[38;5;28;01mwhile\u001B[39;00m \u001B[38;5;28;01mTrue\u001B[39;00m:\n\u001B[1;32m    704\u001B[0m     \u001B[38;5;28;01mtry\u001B[39;00m:\n\u001B[0;32m--> 705\u001B[0m         \u001B[38;5;28;01mreturn\u001B[39;00m \u001B[38;5;28;43mself\u001B[39;49m\u001B[38;5;241;43m.\u001B[39;49m\u001B[43m_sock\u001B[49m\u001B[38;5;241;43m.\u001B[39;49m\u001B[43mrecv_into\u001B[49m\u001B[43m(\u001B[49m\u001B[43mb\u001B[49m\u001B[43m)\u001B[49m\n\u001B[1;32m    706\u001B[0m     \u001B[38;5;28;01mexcept\u001B[39;00m timeout:\n\u001B[1;32m    707\u001B[0m         \u001B[38;5;28mself\u001B[39m\u001B[38;5;241m.\u001B[39m_timeout_occurred \u001B[38;5;241m=\u001B[39m \u001B[38;5;28;01mTrue\u001B[39;00m\n",
      "File \u001B[0;32m~/miniforge3/lib/python3.10/ssl.py:1274\u001B[0m, in \u001B[0;36mSSLSocket.recv_into\u001B[0;34m(self, buffer, nbytes, flags)\u001B[0m\n\u001B[1;32m   1270\u001B[0m     \u001B[38;5;28;01mif\u001B[39;00m flags \u001B[38;5;241m!=\u001B[39m \u001B[38;5;241m0\u001B[39m:\n\u001B[1;32m   1271\u001B[0m         \u001B[38;5;28;01mraise\u001B[39;00m \u001B[38;5;167;01mValueError\u001B[39;00m(\n\u001B[1;32m   1272\u001B[0m           \u001B[38;5;124m\"\u001B[39m\u001B[38;5;124mnon-zero flags not allowed in calls to recv_into() on \u001B[39m\u001B[38;5;132;01m%s\u001B[39;00m\u001B[38;5;124m\"\u001B[39m \u001B[38;5;241m%\u001B[39m\n\u001B[1;32m   1273\u001B[0m           \u001B[38;5;28mself\u001B[39m\u001B[38;5;241m.\u001B[39m\u001B[38;5;18m__class__\u001B[39m)\n\u001B[0;32m-> 1274\u001B[0m     \u001B[38;5;28;01mreturn\u001B[39;00m \u001B[38;5;28;43mself\u001B[39;49m\u001B[38;5;241;43m.\u001B[39;49m\u001B[43mread\u001B[49m\u001B[43m(\u001B[49m\u001B[43mnbytes\u001B[49m\u001B[43m,\u001B[49m\u001B[43m \u001B[49m\u001B[43mbuffer\u001B[49m\u001B[43m)\u001B[49m\n\u001B[1;32m   1275\u001B[0m \u001B[38;5;28;01melse\u001B[39;00m:\n\u001B[1;32m   1276\u001B[0m     \u001B[38;5;28;01mreturn\u001B[39;00m \u001B[38;5;28msuper\u001B[39m()\u001B[38;5;241m.\u001B[39mrecv_into(buffer, nbytes, flags)\n",
      "File \u001B[0;32m~/miniforge3/lib/python3.10/ssl.py:1130\u001B[0m, in \u001B[0;36mSSLSocket.read\u001B[0;34m(self, len, buffer)\u001B[0m\n\u001B[1;32m   1128\u001B[0m \u001B[38;5;28;01mtry\u001B[39;00m:\n\u001B[1;32m   1129\u001B[0m     \u001B[38;5;28;01mif\u001B[39;00m buffer \u001B[38;5;129;01mis\u001B[39;00m \u001B[38;5;129;01mnot\u001B[39;00m \u001B[38;5;28;01mNone\u001B[39;00m:\n\u001B[0;32m-> 1130\u001B[0m         \u001B[38;5;28;01mreturn\u001B[39;00m \u001B[38;5;28;43mself\u001B[39;49m\u001B[38;5;241;43m.\u001B[39;49m\u001B[43m_sslobj\u001B[49m\u001B[38;5;241;43m.\u001B[39;49m\u001B[43mread\u001B[49m\u001B[43m(\u001B[49m\u001B[38;5;28;43mlen\u001B[39;49m\u001B[43m,\u001B[49m\u001B[43m \u001B[49m\u001B[43mbuffer\u001B[49m\u001B[43m)\u001B[49m\n\u001B[1;32m   1131\u001B[0m     \u001B[38;5;28;01melse\u001B[39;00m:\n\u001B[1;32m   1132\u001B[0m         \u001B[38;5;28;01mreturn\u001B[39;00m \u001B[38;5;28mself\u001B[39m\u001B[38;5;241m.\u001B[39m_sslobj\u001B[38;5;241m.\u001B[39mread(\u001B[38;5;28mlen\u001B[39m)\n",
      "\u001B[0;31mKeyboardInterrupt\u001B[0m: "
     ]
    }
   ],
   "source": [
    "nr_papers = 100\n",
    "STEM_category = 'physics'\n",
    "download_directory = \"arxiv_papers/\"\n",
    "download_arxiv_papers(STEM_category, nr_papers, download_dir=download_directory)"
   ],
   "metadata": {
    "collapsed": false,
    "pycharm": {
     "name": "#%%\n"
    }
   }
  },
  {
   "cell_type": "markdown",
   "source": [
    "#### - Extracting .tex files from papers and deleting other files:"
   ],
   "metadata": {
    "collapsed": false,
    "pycharm": {
     "name": "#%% md\n"
    }
   }
  },
  {
   "cell_type": "code",
   "execution_count": 3,
   "outputs": [
    {
     "name": "stdout",
     "output_type": "stream",
     "text": [
      " ===== Handling file nr: 1 with id: 2303.00361 =====\n",
      " Deleting file nr: 1 with id: 2303.00361 - no '.tex' file found...\n",
      " ===== Handling file nr: 2 with id: 2303.00395 =====\n",
      " File nr: 2 with id: 2303.00395 - contains '.tex' file: \n",
      "Extracting main.tex as main.tex\n",
      " ===== Handling file nr: 3 with id: 2303.00197 =====\n",
      " File nr: 3 with id: 2303.00197 - contains '.tex' file: \n",
      "Extracting main.tex as main_1.tex\n",
      " ===== Handling file nr: 4 with id: 2303.00622 =====\n",
      " File nr: 4 with id: 2303.00622 - contains '.tex' file: \n",
      "Extracting paper.tex as paper.tex\n",
      " ===== Handling file nr: 5 with id: 2303.00248 =====\n",
      " Deleting file nr: 5 with id: 2303.00248 - no '.tex' file found...\n",
      " ===== Handling file nr: 6 with id: 2303.00224 =====\n",
      " File nr: 6 with id: 2303.00224 - contains '.tex' file: \n",
      "Extracting main.tex as main_2.tex\n",
      " ===== Handling file nr: 7 with id: 2303.00640 =====\n",
      " File nr: 7 with id: 2303.00640 - contains '.tex' file: \n",
      "Extracting main.tex as main_3.tex\n",
      " ===== Handling file nr: 8 with id: 2303.00444 =====\n",
      " File nr: 8 with id: 2303.00444 - contains '.tex' file: \n",
      "Extracting jfm-instructions.tex as jfm-instructions.tex\n",
      " ===== Handling file nr: 9 with id: 2303.00682 =====\n",
      " File nr: 9 with id: 2303.00682 - contains '.tex' file: \n",
      "Extracting body/conclusion.tex as body/conclusion.tex\n",
      "Extracting body/introduction.tex as body/introduction.tex\n",
      "Extracting body/methods.tex as body/methods.tex\n",
      "Extracting body/results.tex as body/results.tex\n",
      "Extracting body/si.tex as body/si.tex\n",
      "Extracting body/theory_acpe.tex as body/theory_acpe.tex\n",
      "Extracting body/theory_features.tex as body/theory_features.tex\n",
      "Extracting body/theory_gp.tex as body/theory_gp.tex\n",
      "Extracting body/theory_pasdw.tex as body/theory_pasdw.tex\n",
      "Extracting body/theory_rps.tex as body/theory_rps.tex\n",
      "Extracting main.tex as main_4.tex\n",
      " ===== Handling file nr: 10 with id: 2303.00072 =====\n",
      " File nr: 10 with id: 2303.00072 - contains '.tex' file: \n",
      "Extracting main.tex as main_5.tex\n",
      " ===== Handling file nr: 11 with id: 2303.00416 =====\n",
      " Deleting file nr: 11 with id: 2303.00416 - no '.tex' file found...\n",
      " ===== Handling file nr: 12 with id: 2303.00081 =====\n",
      " File nr: 12 with id: 2303.00081 - contains '.tex' file: \n",
      "Extracting main.tex as main_6.tex\n",
      " ===== Handling file nr: 13 with id: 2303.00648 =====\n",
      " File nr: 13 with id: 2303.00648 - contains '.tex' file: \n",
      "Extracting main.tex as main_7.tex\n",
      " ===== Handling file nr: 14 with id: 2303.00679 =====\n",
      " File nr: 14 with id: 2303.00679 - contains '.tex' file: \n",
      "Extracting Optica-template.tex as Optica-template.tex\n",
      " ===== Handling file nr: 15 with id: 2303.00225 =====\n",
      " File nr: 15 with id: 2303.00225 - contains '.tex' file: \n",
      "Extracting Instrumentalpaper.tex as Instrumentalpaper.tex\n",
      " ===== Handling file nr: 16 with id: 2303.00469 =====\n",
      " File nr: 16 with id: 2303.00469 - contains '.tex' file: \n",
      "Extracting main.tex as main_8.tex\n",
      " ===== Handling file nr: 17 with id: 2303.00059 =====\n",
      " File nr: 17 with id: 2303.00059 - contains '.tex' file: \n",
      "Extracting PoP_LRRC.tex as PoP_LRRC.tex\n",
      " ===== Handling file nr: 18 with id: 2303.00061 =====\n",
      " Deleting file nr: 18 with id: 2303.00061 - no '.tex' file found...\n",
      " ===== Handling file nr: 19 with id: 2303.00033 =====\n",
      " File nr: 19 with id: 2303.00033 - contains '.tex' file: \n",
      "Extracting main.tex as main_9.tex\n",
      " ===== Handling file nr: 20 with id: 2303.00239 =====\n",
      " Deleting file nr: 20 with id: 2303.00239 - no '.tex' file found...\n",
      " ===== Handling file nr: 21 with id: 2303.00290 =====\n",
      " File nr: 21 with id: 2303.00290 - contains '.tex' file: \n",
      "Extracting Electro_Acoustic_Noise.tex as Electro_Acoustic_Noise.tex\n",
      " ===== Handling file nr: 22 with id: 2303.00184 =====\n",
      " File nr: 22 with id: 2303.00184 - contains '.tex' file: \n",
      "Extracting main.tex as main_10.tex\n",
      " ===== Handling file nr: 23 with id: 2303.00726 =====\n",
      " File nr: 23 with id: 2303.00726 - contains '.tex' file: \n",
      "Extracting maintext.tex as maintext.tex\n",
      "Extracting supplemental-document.tex as supplemental-document.tex\n",
      " ===== Handling file nr: 24 with id: 2303.00548 =====\n",
      " File nr: 24 with id: 2303.00548 - contains '.tex' file: \n",
      "Extracting experimentaldynamicsballchainarxiv.tex as experimentaldynamicsballchainarxiv.tex\n",
      " ===== Handling file nr: 25 with id: 2303.00114 =====\n",
      " Deleting file nr: 25 with id: 2303.00114 - no '.tex' file found...\n",
      " ===== Handling file nr: 26 with id: 2303.00718 =====\n",
      " File nr: 26 with id: 2303.00718 - contains '.tex' file: \n",
      "Extracting submission1.tex as submission1.tex\n",
      " ===== Handling file nr: 27 with id: 2303.00176 =====\n",
      " File nr: 27 with id: 2303.00176 - contains '.tex' file: \n",
      "Extracting main.tex as main_11.tex\n",
      "Extracting misc_calculations/AdjointMethod.tex as misc_calculations/AdjointMethod.tex\n",
      "Extracting misc_calculations/elasticity_and_units.tex as misc_calculations/elasticity_and_units.tex\n",
      "Extracting misc_calculations/underprediction.tex as misc_calculations/underprediction.tex\n",
      " ===== Handling file nr: 28 with id: 2303.00512 =====\n",
      " Deleting file nr: 28 with id: 2303.00512 - no '.tex' file found...\n",
      " ===== Handling file nr: 29 with id: 2303.00711 =====\n",
      " File nr: 29 with id: 2303.00711 - contains '.tex' file: \n",
      "Extracting main.tex as main_12.tex\n",
      " ===== Handling file nr: 30 with id: 2303.00104 =====\n",
      " Deleting file nr: 30 with id: 2303.00104 - no '.tex' file found...\n",
      " ===== Handling file nr: 31 with id: 2303.00195 =====\n",
      " File nr: 31 with id: 2303.00195 - contains '.tex' file: \n",
      "Extracting main.tex as main_13.tex\n",
      " ===== Handling file nr: 32 with id: 2303.00166 =====\n",
      " Deleting file nr: 32 with id: 2303.00166 - no '.tex' file found...\n",
      " ===== Handling file nr: 33 with id: 2303.00706 =====\n",
      " File nr: 33 with id: 2303.00706 - contains '.tex' file: \n",
      "Extracting IJHFF_to_arXxiv.tex as IJHFF_to_arXxiv.tex\n",
      "Extracting s1_Introduction.tex as s1_Introduction.tex\n",
      "Extracting s2_Methodology.tex as s2_Methodology.tex\n",
      "Extracting s3_Results.tex as s3_Results.tex\n",
      "Extracting s4_Conclusion.tex as s4_Conclusion.tex\n",
      " ===== Handling file nr: 34 with id: 2303.00365 =====\n",
      " File nr: 34 with id: 2303.00365 - contains '.tex' file: \n",
      "Extracting main.tex as main_14.tex\n",
      " ===== Handling file nr: 35 with id: 2303.00568 =====\n",
      " File nr: 35 with id: 2303.00568 - contains '.tex' file: \n",
      "Extracting DRAFT.tex as DRAFT.tex\n",
      " ===== Handling file nr: 36 with id: 2303.00707 =====\n",
      " File nr: 36 with id: 2303.00707 - contains '.tex' file: \n",
      "Extracting Main.tex as Main_15.tex\n",
      "Extracting SI.tex as SI.tex\n",
      " ===== Handling file nr: 37 with id: 2303.00352 =====\n",
      " File nr: 37 with id: 2303.00352 - contains '.tex' file: \n",
      "Extracting Piezoelectric_cement_clean.tex as Piezoelectric_cement_clean.tex\n",
      " ===== Handling file nr: 38 with id: 2303.00643 =====\n",
      " File nr: 38 with id: 2303.00643 - contains '.tex' file: \n",
      "Extracting main-arxiv.tex as main-arxiv.tex\n",
      " ===== Handling file nr: 39 with id: 2303.00478 =====\n",
      " File nr: 39 with id: 2303.00478 - contains '.tex' file: \n",
      "Extracting Main.tex as Main_16.tex\n",
      " ===== Handling file nr: 40 with id: 2303.00675 =====\n",
      " File nr: 40 with id: 2303.00675 - contains '.tex' file: \n",
      "Extracting final.tex as final.tex\n",
      " ===== Handling file nr: 41 with id: 2303.00681 =====\n",
      " File nr: 41 with id: 2303.00681 - contains '.tex' file: \n",
      "Extracting main.tex as main_17.tex\n",
      " ===== Handling file nr: 42 with id: 2303.00041 =====\n",
      " Deleting file nr: 42 with id: 2303.00041 - no '.tex' file found...\n",
      " ===== Handling file nr: 43 with id: 2303.00425 =====\n",
      " File nr: 43 with id: 2303.00425 - contains '.tex' file: \n",
      "Extracting main_for_arxiv.tex as main_for_arxiv.tex\n",
      " ===== Handling file nr: 44 with id: 2303.00287 =====\n",
      " File nr: 44 with id: 2303.00287 - contains '.tex' file: \n",
      "Extracting Article.tex as Article.tex\n",
      "Extracting references.tex as references.tex\n",
      " ===== Handling file nr: 45 with id: 2303.00689 =====\n",
      " Deleting file nr: 45 with id: 2303.00689 - no '.tex' file found...\n",
      " ===== Handling file nr: 46 with id: 2303.00415 =====\n",
      " File nr: 46 with id: 2303.00415 - contains '.tex' file: \n",
      "Extracting main.tex as main_18.tex\n",
      " ===== Handling file nr: 47 with id: 2303.00266 =====\n",
      " Deleting file nr: 47 with id: 2303.00266 - no '.tex' file found...\n",
      " ===== Handling file nr: 48 with id: 2303.00036 =====\n",
      " File nr: 48 with id: 2303.00036 - contains '.tex' file: \n",
      "Extracting isingKnowledgeForArXivBBL.tex as isingKnowledgeForArXivBBL.tex\n",
      " ===== Handling file nr: 49 with id: 2303.00669 =====\n",
      " File nr: 49 with id: 2303.00669 - contains '.tex' file: \n",
      "Extracting NodesMetricsCSF.tex as NodesMetricsCSF.tex\n",
      " ===== Handling file nr: 50 with id: 2303.00436 =====\n",
      " File nr: 50 with id: 2303.00436 - contains '.tex' file: \n",
      "Extracting CarbonSPcomponents.tex as CarbonSPcomponents.tex\n",
      " ===== Handling file nr: 51 with id: 2303.00657 =====\n",
      " File nr: 51 with id: 2303.00657 - contains '.tex' file: \n",
      "Extracting neurips_2022.tex as neurips_2022.tex\n",
      " ===== Handling file nr: 52 with id: 2303.00661 =====\n",
      " Deleting file nr: 52 with id: 2303.00661 - no '.tex' file found...\n",
      " ===== Handling file nr: 53 with id: 2303.00037 =====\n",
      " File nr: 53 with id: 2303.00037 - contains '.tex' file: \n",
      "Extracting Jeffery-averaged spheroid migration/main_ver3.tex as Jeffery-averaged spheroid migration/main_ver3.tex\n",
      "Extracting main_ver3.tex as main_ver3.tex\n",
      " ===== Handling file nr: 54 with id: 2303.00189 =====\n",
      " File nr: 54 with id: 2303.00189 - contains '.tex' file: \n",
      "Extracting Quantum_Phase_Diagram_of_PT-Symmetry_or_Broken_in_a_Non-Hermitian_Photonic_Structure.tex as Quantum_Phase_Diagram_of_PT-Symmetry_or_Broken_in_a_Non-Hermitian_Photonic_Structure.tex\n",
      " ===== Handling file nr: 55 with id: 2303.00526 =====\n",
      " File nr: 55 with id: 2303.00526 - contains '.tex' file: \n",
      "Extracting PLANTILLA BÁSICA/articulo.tex as PLANTILLA BÁSICA/articulo.tex\n",
      "Extracting articulo.tex as articulo.tex\n",
      " ===== Handling file nr: 56 with id: 2303.00127 =====\n",
      " File nr: 56 with id: 2303.00127 - contains '.tex' file: \n",
      "Extracting JPCA_ver1.tex as JPCA_ver1.tex\n",
      " ===== Handling file nr: 57 with id: 2303.00121 =====\n",
      " File nr: 57 with id: 2303.00121 - contains '.tex' file: \n",
      "Extracting main.tex as main_19.tex\n",
      "Extracting sections/monitoring.tex as sections/monitoring.tex\n",
      "Extracting sections/laser.tex as sections/laser.tex\n",
      "Extracting sections/tilecal.tex as sections/tilecal.tex\n",
      "Extracting sections/introduction.tex as sections/introduction.tex\n",
      "Extracting sections/calibration.tex as sections/calibration.tex\n",
      "Extracting sections/laseringap.tex as sections/laseringap.tex\n"
     ]
    }
   ],
   "source": [
    "unpack_tex_files(download_directory=download_directory)"
   ],
   "metadata": {
    "collapsed": false,
    "pycharm": {
     "name": "#%%\n"
    }
   }
  },
  {
   "cell_type": "markdown",
   "source": [
    "#### - Scraping .tex files for equations:"
   ],
   "metadata": {
    "collapsed": false,
    "pycharm": {
     "name": "#%% md\n"
    }
   }
  },
  {
   "cell_type": "code",
   "execution_count": 4,
   "outputs": [
    {
     "name": "stderr",
     "output_type": "stream",
     "text": [
      "100%|██████████| 72/72 [00:00<00:00, 5883.42it/s]"
     ]
    },
    {
     "name": "stdout",
     "output_type": "stream",
     "text": [
      "==== Scraped: 710 equations, and saved to: scraped_equations.txt ====\n"
     ]
    },
    {
     "name": "stderr",
     "output_type": "stream",
     "text": [
      "\n"
     ]
    }
   ],
   "source": [
    "download_directory = \"arxiv_papers/\"\n",
    "file_names = [download_directory+file_name for file_name in os.listdir(download_directory) if file_name != \".DS_Store\"]\n",
    "output_file_name = \"scraped_equations.txt\"\n",
    "equations = math_scraper(input_names=file_names,output_name=output_file_name)"
   ],
   "metadata": {
    "collapsed": false,
    "pycharm": {
     "name": "#%%\n"
    }
   }
  },
  {
   "cell_type": "markdown",
   "source": [
    "#### - Filtering equations:\n"
   ],
   "metadata": {
    "collapsed": false,
    "pycharm": {
     "name": "#%% md\n"
    }
   }
  },
  {
   "cell_type": "code",
   "execution_count": 5,
   "outputs": [
    {
     "name": "stderr",
     "output_type": "stream",
     "text": [
      "100%|██████████| 709/709 [02:45<00:00,  4.29it/s]"
     ]
    },
    {
     "name": "stdout",
     "output_type": "stream",
     "text": [
      "==== 633 out of 709 are valid equations ====\n"
     ]
    },
    {
     "name": "stderr",
     "output_type": "stream",
     "text": [
      "\n"
     ]
    }
   ],
   "source": [
    "\n",
    "valid_equations = []\n",
    "for i in tqdm(range(len(equations))):\n",
    "    equation = equations[i]\n",
    "    equation_start_token = r'\\begin{equation}'\n",
    "    equation_end_token = r'\\end{equation}'\n",
    "    if is_valid_latex_math(expr=equation_start_token+equation+equation_end_token):\n",
    "        valid_equations.append(equation)\n",
    "print(f\"==== {len(valid_equations)} out of {len(equations)} are valid equations ====\")\n"
   ],
   "metadata": {
    "collapsed": false,
    "pycharm": {
     "name": "#%%\n"
    }
   }
  },
  {
   "cell_type": "markdown",
   "source": [
    "##### Show one of the extracted equations:"
   ],
   "metadata": {
    "collapsed": false,
    "pycharm": {
     "name": "#%% md\n"
    }
   }
  },
  {
   "cell_type": "code",
   "execution_count": 6,
   "outputs": [
    {
     "name": "stdout",
     "output_type": "stream",
     "text": [
      "R_m(\\varepsilon) \\frac{\\textrm{d} i_L(t)}{\\textrm{d}t} + \\frac{\\textrm{d}R_m(\\varepsilon)}{\\textrm{d}t} i_L(t) + L\\frac{\\textrm{d}^2 i_L(t)}{\\textrm{d}t^2} = R_{ct}\\frac{\\textrm{d} i_C(t)}{\\textrm{d}t} + \\frac{i_C(t)}{C_m(\\varepsilon)},    \n"
     ]
    }
   ],
   "source": [
    "print(valid_equations[5])"
   ],
   "metadata": {
    "collapsed": false,
    "pycharm": {
     "name": "#%%\n"
    }
   }
  },
  {
   "cell_type": "code",
   "execution_count": 7,
   "outputs": [
    {
     "name": "stdout",
     "output_type": "stream",
     "text": [
      "$R_m(\\varepsilon) \\frac{\\textrm{d} i_L(t)}{\\textrm{d}t} + \\frac{\\textrm{d}R_m(\\varepsilon)}{\\textrm{d}t} i_L(t) + L\\frac{\\textrm{d}^2 i_L(t)}{\\textrm{d}t^2} = R_{ct}\\frac{\\textrm{d} i_C(t)}{\\textrm{d}t} + \\frac{i_C(t)}{C_m(\\varepsilon)},    $\n"
     ]
    }
   ],
   "source": [
    "print(to_inline_expr(valid_equations[5]))"
   ],
   "metadata": {
    "collapsed": false,
    "pycharm": {
     "name": "#%%\n"
    }
   }
  },
  {
   "cell_type": "code",
   "execution_count": 8,
   "outputs": [
    {
     "data": {
      "text/plain": "<Figure size 400x400 with 1 Axes>",
      "image/png": "[encoded data removed]"
     },
     "metadata": {},
     "output_type": "display_data"
    }
   ],
   "source": [
    "render_and_show(valid_equations[5])"
   ],
   "metadata": {
    "collapsed": false,
    "pycharm": {
     "name": "#%%\n"
    }
   }
  },
  {
   "cell_type": "markdown",
   "source": [
    "#### - Rendering equations to A4 sized transparent .png files and saving locally:\n"
   ],
   "metadata": {
    "collapsed": false,
    "pycharm": {
     "name": "#%% md\n"
    }
   }
  },
  {
   "cell_type": "code",
   "execution_count": 12,
   "outputs": [],
   "source": [
    "# Some of the renders might fail\n",
    "%xmode Plain\n",
    "saved = 0\n",
    "for line_nr in tqdm(range(len(valid_equations))):\n",
    "    location = 'EquationRenders/'\n",
    "    try:\n",
    "        filename = f'eq_line_{line_nr}'\n",
    "        latex_to_image(math_expr=valid_equations[line_nr], file_name=filename, location=location)\n",
    "        saved += 1\n",
    "    except Exception as e:\n",
    "        pass\n"
   ],
   "metadata": {
    "collapsed": false,
    "pycharm": {
     "name": "#%%\n"
    }
   }
  }
 ],
 "metadata": {
  "kernelspec": {
   "display_name": "Python 3",
   "language": "python",
   "name": "python3"
  },
  "language_info": {
   "codemirror_mode": {
    "name": "ipython",
    "version": 2
   },
   "file_extension": ".py",
   "mimetype": "text/x-python",
   "name": "python",
   "nbconvert_exporter": "python",
   "pygments_lexer": "ipython2",
   "version": "2.7.6"
  }
 },
 "nbformat": 4,
 "nbformat_minor": 0
}
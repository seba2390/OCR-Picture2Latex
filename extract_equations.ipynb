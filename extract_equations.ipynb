{
 "cells": [
  {
   "cell_type": "code",
   "execution_count": 15,
   "outputs": [],
   "source": [
    "import re\n",
    "import os\n",
    "from typing import List, Tuple\n",
    "\n",
    "from tqdm import tqdm"
   ],
   "metadata": {
    "collapsed": false,
    "ExecuteTime": {
     "end_time": "2023-12-27T13:02:18.293390Z",
     "start_time": "2023-12-27T13:02:18.287148Z"
    }
   },
   "id": "d65544e72503233a"
  },
  {
   "cell_type": "code",
   "execution_count": 19,
   "outputs": [],
   "source": [
    "# Define the LaTeX environments you want to extract\n",
    "environments = ['equation', 'align', 'gather', 'multline', 'flalign']\n",
    "\n",
    "# Regular expression for matching LaTeX environments (including unnumbered versions)\n",
    "env_regex = r'\\\\begin\\{(' + '|'.join(environments) + r')\\*?\\}(.*?)\\\\end\\{\\1\\*?\\}'\n",
    "\n",
    "def extract_latex_envs(text: str, regex: str) -> List[Tuple[str, str]]:\n",
    "    \"\"\"\n",
    "    Extracts all specified LaTeX environments from the given text.\n",
    "\n",
    "    Args:\n",
    "    text (str): The text from which to extract LaTeX environments.\n",
    "    regex (str): The regular expression defining the LaTeX environments.\n",
    "\n",
    "    Returns:\n",
    "    List[Tuple[str, str]]: A list of tuples, each containing the environment type and its content.\n",
    "    \"\"\"\n",
    "    return re.findall(regex, text, re.DOTALL)\n",
    "\n",
    "def remove_labels(text: str) -> str:\n",
    "    \"\"\"\n",
    "    Removes \\label{} tags from the LaTeX text.\n",
    "\n",
    "    Args:\n",
    "    text (str): The LaTeX text from which to remove \\label{} tags.\n",
    "\n",
    "    Returns:\n",
    "    str: The LaTeX text with \\label{} tags removed.\n",
    "    \"\"\"\n",
    "    return re.sub(r'\\\\label\\{.*?\\}', '', text)\n",
    "\n",
    "def read_tex_file(file_path: str) -> str:\n",
    "    \"\"\"\n",
    "    Reads the content of a .tex file.\n",
    "\n",
    "    Args:\n",
    "    file_path (str): The path to the .tex file.\n",
    "\n",
    "    Returns:\n",
    "    str: The content of the .tex file.\n",
    "    \"\"\"\n",
    "    with open(file_path, 'r', encoding='utf-8') as file:\n",
    "        return file.read()\n",
    "\n",
    "def get_next_file_number(output_dir: str) -> int:\n",
    "    \"\"\"\n",
    "    Determines the next file number to use based on existing files in the output directory.\n",
    "\n",
    "    Args:\n",
    "    output_dir (str): The directory where the output files are saved.\n",
    "\n",
    "    Returns:\n",
    "    int: The next file number to use.\n",
    "    \"\"\"\n",
    "    existing_files = [f for f in os.listdir(output_dir) if f.startswith('equation_') and f.endswith('.txt')]\n",
    "    highest_num = 0\n",
    "    for file in existing_files:\n",
    "        try:\n",
    "            num = int(file.split('_')[1].split('.')[0])\n",
    "            highest_num = max(highest_num, num)\n",
    "        except ValueError:\n",
    "            continue\n",
    "    return highest_num + 1\n",
    "\n",
    "def save_extracted_content(content: List[Tuple[str, str]], output_dir: str) -> None:\n",
    "    \"\"\"\n",
    "    Saves each extracted LaTeX environment content to individual text files.\n",
    "\n",
    "    Args:\n",
    "    content (List[Tuple[str, str]]): The extracted LaTeX content.\n",
    "    output_dir (str): The directory where the output files will be saved.\n",
    "    \"\"\"\n",
    "    file_number = get_next_file_number(output_dir)\n",
    "    for env, math in content:\n",
    "        cleaned_math = remove_labels(math)\n",
    "        file_name = f'equation_{file_number}.txt'\n",
    "        file_path = os.path.join(output_dir, file_name)\n",
    "        with open(file_path, 'w', encoding='utf-8') as file:\n",
    "            file.write(f'\\\\begin{{{env}}}\\n{cleaned_math}\\\\end{{{env}}}\\n')\n",
    "        file_number += 1\n",
    "\n",
    "def process_tex_files(directory: str, output_directory: str) -> None:\n",
    "    \"\"\"\n",
    "    Processes all .tex files in the specified directory, extracting and saving LaTeX environment content.\n",
    "\n",
    "    Args:\n",
    "    directory (str): The directory containing the .tex files.\n",
    "    output_directory (str): The directory where the output files will be saved.\n",
    "    \"\"\"\n",
    "    for filename in os.listdir(directory):\n",
    "        if filename.endswith('.tex'):\n",
    "            file_path = os.path.join(directory, filename)\n",
    "            tex_content = read_tex_file(file_path)\n",
    "            extracted_content = extract_latex_envs(tex_content, env_regex)\n",
    "            if extracted_content:\n",
    "                save_extracted_content(extracted_content, output_directory)\n",
    "\n",
    "\n"
   ],
   "metadata": {
    "collapsed": false,
    "ExecuteTime": {
     "end_time": "2023-12-27T13:06:41.614848Z",
     "start_time": "2023-12-27T13:06:41.611884Z"
    }
   },
   "id": "6f56836b6e2b1d67"
  },
  {
   "cell_type": "code",
   "execution_count": 18,
   "outputs": [
    {
     "name": "stderr",
     "output_type": "stream",
     "text": [
      "100%|██████████| 10/10 [00:00<00:00, 296.67it/s]"
     ]
    },
    {
     "name": "stdout",
     "output_type": "stream",
     "text": [
      "Extracted content from lower.tex saved in equations/\n",
      "Extracted content from deep_learning_nonclassicality.tex saved in equations/\n",
      "Extracted content from Manuscript.tex saved in equations/\n",
      "Extracted content from main1.tex saved in equations/\n",
      "Extracted content from main_arxiv.tex saved in equations/\n",
      "Extracted content from main.tex saved in equations/\n",
      "Extracted content from main_ArXiV.tex saved in equations/\n",
      "Extracted content from main.tex saved in equations/\n",
      "Extracted content from main.tex saved in equations/\n",
      "Extracted content from appendix.tex saved in equations/\n"
     ]
    },
    {
     "name": "stderr",
     "output_type": "stream",
     "text": [
      "\n"
     ]
    }
   ],
   "source": [
    "paper_titles = os.listdir('papers')\n",
    "equations_path = 'equations/'\n",
    "\n",
    "for title in tqdm(paper_titles):\n",
    "    paper_path = os.path.join('papers', title)\n",
    "    if os.path.isdir(paper_path): # in case there is a .DS_Store (or other hidden file)\n",
    "        process_tex_files(directory=paper_path, output_directory=equations_path)"
   ],
   "metadata": {
    "collapsed": false,
    "ExecuteTime": {
     "end_time": "2023-12-27T13:05:34.303422Z",
     "start_time": "2023-12-27T13:05:34.264899Z"
    }
   },
   "id": "44a6e2d4ffc55a51"
  },
  {
   "cell_type": "code",
   "execution_count": null,
   "outputs": [],
   "source": [],
   "metadata": {
    "collapsed": false
   },
   "id": "6f95c30ea4252265"
  }
 ],
 "metadata": {
  "kernelspec": {
   "display_name": "Python 3",
   "language": "python",
   "name": "python3"
  },
  "language_info": {
   "codemirror_mode": {
    "name": "ipython",
    "version": 2
   },
   "file_extension": ".py",
   "mimetype": "text/x-python",
   "name": "python",
   "nbconvert_exporter": "python",
   "pygments_lexer": "ipython2",
   "version": "2.7.6"
  }
 },
 "nbformat": 4,
 "nbformat_minor": 5
}

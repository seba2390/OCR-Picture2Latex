{
 "cells": [
  {
   "cell_type": "code",
   "execution_count": null,
   "id": "978108a995882c73",
   "metadata": {
    "collapsed": true
   },
   "outputs": [],
   "source": [
    "import re\n",
    "import os"
   ]
  },
  {
   "cell_type": "code",
   "execution_count": null,
   "outputs": [],
   "source": [
    "\n",
    "# Define the LaTeX environments you want to extract\n",
    "environments = ['equation', 'align', 'gather', 'multline', 'flalign']\n",
    "\n",
    "# Regular expression for matching LaTeX environments\n",
    "env_regex = r'\\\\begin\\{(' + '|'.join(environments) + r')\\}(.*?)\\\\end\\{\\1\\}'\n",
    "\n",
    "# Function to extract all LaTeX environments from a text\n",
    "def extract_latex_envs(text, regex):\n",
    "    return re.findall(regex, text, re.DOTALL)\n",
    "\n",
    "# Function to remove \\label{...} tags\n",
    "def remove_labels(text):\n",
    "    return re.sub(r'\\\\label\\{.*?\\}', '', text)\n",
    "\n",
    "# Read the .tex file\n",
    "def read_tex_file(file_path):\n",
    "    with open(file_path, 'r', encoding='utf-8') as file:\n",
    "        return file.read()\n",
    "\n",
    "# Save each extracted content to individual files\n",
    "def save_extracted_content(content, output_dir, base_filename):\n",
    "    for i, (env, math) in enumerate(content):\n",
    "        cleaned_math = remove_labels(math)\n",
    "        file_name = f'{base_filename}_{i+1}.txt'\n",
    "        file_path = os.path.join(output_dir, file_name)\n",
    "        with open(file_path, 'w', encoding='utf-8') as file:\n",
    "            file.write(f'\\\\begin{{{env}}}\\n{cleaned_math}\\\\end{{{env}}}\\n')\n",
    "\n",
    "# Main function to process all .tex files in a directory\n",
    "def process_tex_files(directory, output_directory):\n",
    "    for filename in os.listdir(directory):\n",
    "        if filename.endswith('.tex'):\n",
    "            file_path = os.path.join(directory, filename)\n",
    "            tex_content = read_tex_file(file_path)\n",
    "            extracted_content = extract_latex_envs(tex_content, env_regex)\n",
    "            if extracted_content:\n",
    "                base_filename = os.path.splitext(filename)[0]\n",
    "                save_extracted_content(extracted_content, output_directory, base_filename)\n",
    "                print(f'Extracted content from {filename} saved in {output_directory}')\n",
    "\n",
    "# Replace 'your_directory_path' with the path to your .tex files\n",
    "# Replace 'output_directory_path' with the path where you want to save the output files\n",
    "process_tex_files('papers/', 'papers/')\n"
   ],
   "metadata": {
    "collapsed": false
   },
   "id": "initial_id"
  }
 ],
 "metadata": {
  "kernelspec": {
   "display_name": "Python 3",
   "language": "python",
   "name": "python3"
  },
  "language_info": {
   "codemirror_mode": {
    "name": "ipython",
    "version": 2
   },
   "file_extension": ".py",
   "mimetype": "text/x-python",
   "name": "python",
   "nbconvert_exporter": "python",
   "pygments_lexer": "ipython2",
   "version": "2.7.6"
  }
 },
 "nbformat": 4,
 "nbformat_minor": 5
}

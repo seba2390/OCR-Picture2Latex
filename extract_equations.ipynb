{
 "cells": [
  {
   "cell_type": "code",
   "execution_count": 4,
   "outputs": [],
   "source": [
    "import re\n",
    "import os\n",
    "from typing import List, Tuple\n",
    "\n",
    "from tqdm import tqdm"
   ],
   "metadata": {
    "collapsed": false,
    "ExecuteTime": {
     "end_time": "2023-12-27T22:59:59.150587Z",
     "start_time": "2023-12-27T22:59:59.148641Z"
    }
   },
   "id": "d65544e72503233a"
  },
  {
   "cell_type": "code",
   "execution_count": 5,
   "outputs": [],
   "source": [
    "# Define the LaTeX environments you want to extract\n",
    "environments = ['equation', 'align', 'gather', 'multline', 'flalign']\n",
    "\n",
    "# Regular expression for matching LaTeX environments (including unnumbered versions)\n",
    "env_regex = r'\\\\begin\\{(' + '|'.join(environments) + r')\\*?\\}(.*?)\\\\end\\{\\1\\*?\\}'\n",
    "\n",
    "def extract_latex_envs(text: str, regex: str) -> List[Tuple[str, str]]:\n",
    "    \"\"\"\n",
    "    Extracts all specified LaTeX environments from the given text.\n",
    "\n",
    "    Args:\n",
    "    text (str): The text from which to extract LaTeX environments.\n",
    "    regex (str): The regular expression defining the LaTeX environments.\n",
    "\n",
    "    Returns:\n",
    "    List[Tuple[str, str]]: A list of tuples, each containing the environment type and its content.\n",
    "    \"\"\"\n",
    "    return re.findall(regex, text, re.DOTALL)\n",
    "\n",
    "def remove_labels(text: str) -> str:\n",
    "    \"\"\"\n",
    "    Removes \\label{} tags from the LaTeX text.\n",
    "\n",
    "    Args:\n",
    "    text (str): The LaTeX text from which to remove \\label{} tags.\n",
    "\n",
    "    Returns:\n",
    "    str: The LaTeX text with \\label{} tags removed.\n",
    "    \"\"\"\n",
    "    return re.sub(r'\\\\label\\{.*?\\}', '', text)\n",
    "\n",
    "def read_tex_file(file_path: str) -> str:\n",
    "    \"\"\"\n",
    "    Reads the content of a .tex file, trying different encodings if necessary.\n",
    "\n",
    "    Args:\n",
    "    file_path (str): The path to the .tex file.\n",
    "\n",
    "    Returns:\n",
    "    str: The content of the .tex file.\n",
    "    \"\"\"\n",
    "    encodings = ['utf-8', 'ISO-8859-1', 'windows-1252', 'utf-8-sig']\n",
    "    for encoding in encodings:\n",
    "        try:\n",
    "            with open(file_path, 'r', encoding=encoding) as file:\n",
    "                return file.read()\n",
    "        except UnicodeDecodeError:\n",
    "            continue\n",
    "    raise UnicodeDecodeError(f\"Could not decode file {file_path} with any of the specified encodings.\")\n",
    "\n",
    "def get_next_file_number(output_dir: str) -> int:\n",
    "    \"\"\"\n",
    "    Determines the next file number to use based on existing files in the output directory.\n",
    "\n",
    "    Args:\n",
    "    output_dir (str): The directory where the output files are saved.\n",
    "\n",
    "    Returns:\n",
    "    int: The next file number to use.\n",
    "    \"\"\"\n",
    "    existing_files = [f for f in os.listdir(output_dir) if f.startswith('equation_') and f.endswith('.txt')]\n",
    "    highest_num = 0\n",
    "    for file in existing_files:\n",
    "        try:\n",
    "            num = int(file.split('_')[1].split('.')[0])\n",
    "            highest_num = max(highest_num, num)\n",
    "        except ValueError:\n",
    "            continue\n",
    "    return highest_num + 1\n",
    "\n",
    "def preprocess_equation(equation: str) -> str:\n",
    "    \"\"\"\n",
    "    Preprocesses the LaTeX equation by removing newlines and redundant spaces.\n",
    "\n",
    "    This function takes a LaTeX equation string, removes any newline characters,\n",
    "    and replaces multiple consecutive spaces with a single space. The result is\n",
    "    a single-line, streamlined version of the equation, which is more suitable\n",
    "    for certain machine learning applications.\n",
    "\n",
    "    Args:\n",
    "    equation (str): The LaTeX equation to preprocess.\n",
    "\n",
    "    Returns:\n",
    "    str: The preprocessed, single-line LaTeX equation.\n",
    "    \"\"\"\n",
    "    # Replace newlines with spaces\n",
    "    equation = equation.replace('\\n', ' ')\n",
    "\n",
    "    # Replace multiple spaces with a single space\n",
    "    equation = re.sub(r'\\s+', ' ', equation)\n",
    "\n",
    "    # Trim leading and trailing spaces\n",
    "    return equation.strip()\n",
    "\n",
    "def save_extracted_content(content: List[Tuple[str, str]], output_dir: str) -> None:\n",
    "    \"\"\"\n",
    "    Saves each extracted LaTeX environment content to individual text files in a single-line format,\n",
    "    including the environment tags.\n",
    "\n",
    "    This function processes a list of LaTeX equations, removes labels, and\n",
    "    preprocesses them into a single-line format. Each equation, along with its\n",
    "    LaTeX environment tags, is then saved to a separate text file. This format\n",
    "    is particularly useful for machine learning applications where equations\n",
    "    are treated as sequences of characters.\n",
    "\n",
    "    Args:\n",
    "    content (List[Tuple[str, str]]): The extracted LaTeX content, where each tuple contains\n",
    "                                     the environment type and its content.\n",
    "    output_dir (str): The directory where the output files will be saved.\n",
    "    \"\"\"\n",
    "    file_number = get_next_file_number(output_dir)\n",
    "    for env, math in content:\n",
    "        # Remove LaTeX labels and preprocess the equation\n",
    "        cleaned_math = remove_labels(math)\n",
    "        single_line_math = preprocess_equation(cleaned_math)\n",
    "\n",
    "        # Construct the full LaTeX environment string\n",
    "        full_env_string = f'\\\\begin{{{env}}}{single_line_math}\\\\end{{{env}}}'\n",
    "\n",
    "        # Construct the filename and save the preprocessed equation with environment tags\n",
    "        file_name = f'equation_{file_number}.txt'\n",
    "        file_path = os.path.join(output_dir, file_name)\n",
    "        with open(file_path, 'w', encoding='utf-8') as file:\n",
    "            file.write(full_env_string)\n",
    "        file_number += 1\n",
    "\n",
    "\n",
    "\n",
    "def process_tex_files(directory: str, output_directory: str) -> None:\n",
    "    \"\"\"\n",
    "    Processes all .tex files in the specified directory, extracting and saving LaTeX environment content.\n",
    "\n",
    "    Args:\n",
    "    directory (str): The directory containing the .tex files.\n",
    "    output_directory (str): The directory where the output files will be saved.\n",
    "    \"\"\"\n",
    "    for filename in os.listdir(directory):\n",
    "        if filename.endswith('.tex'):\n",
    "            file_path = os.path.join(directory, filename)\n",
    "            tex_content = read_tex_file(file_path)\n",
    "            extracted_content = extract_latex_envs(tex_content, env_regex)\n",
    "            if extracted_content:\n",
    "                save_extracted_content(extracted_content, output_directory)\n",
    "\n",
    "\n"
   ],
   "metadata": {
    "collapsed": false,
    "ExecuteTime": {
     "end_time": "2023-12-27T22:59:59.662623Z",
     "start_time": "2023-12-27T22:59:59.659245Z"
    }
   },
   "id": "6f56836b6e2b1d67"
  },
  {
   "cell_type": "code",
   "execution_count": 6,
   "outputs": [
    {
     "name": "stderr",
     "output_type": "stream",
     "text": [
      "100%|██████████| 2364/2364 [01:42<00:00, 23.14it/s]\n"
     ]
    }
   ],
   "source": [
    "paper_titles = os.listdir('papers')\n",
    "equations_path = 'equations/'\n",
    "\n",
    "for title in tqdm(paper_titles):\n",
    "    paper_path = os.path.join('papers', title)\n",
    "    if os.path.isdir(paper_path): # in case there is a .DS_Store (or other hidden file)\n",
    "        process_tex_files(directory=paper_path, output_directory=equations_path)"
   ],
   "metadata": {
    "collapsed": false,
    "ExecuteTime": {
     "end_time": "2023-12-27T23:01:43.454971Z",
     "start_time": "2023-12-27T23:00:01.271706Z"
    }
   },
   "id": "44a6e2d4ffc55a51"
  },
  {
   "cell_type": "code",
   "execution_count": null,
   "outputs": [],
   "source": [],
   "metadata": {
    "collapsed": false,
    "ExecuteTime": {
     "start_time": "2023-12-27T21:18:44.731743Z"
    }
   },
   "id": "6f95c30ea4252265"
  }
 ],
 "metadata": {
  "kernelspec": {
   "display_name": "Python 3",
   "language": "python",
   "name": "python3"
  },
  "language_info": {
   "codemirror_mode": {
    "name": "ipython",
    "version": 2
   },
   "file_extension": ".py",
   "mimetype": "text/x-python",
   "name": "python",
   "nbconvert_exporter": "python",
   "pygments_lexer": "ipython2",
   "version": "2.7.6"
  }
 },
 "nbformat": 4,
 "nbformat_minor": 5
}
